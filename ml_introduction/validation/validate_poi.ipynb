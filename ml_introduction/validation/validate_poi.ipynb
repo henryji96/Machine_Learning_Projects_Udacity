{
 "cells": [
  {
   "cell_type": "code",
   "execution_count": 70,
   "metadata": {
    "collapsed": false
   },
   "outputs": [
    {
     "name": "stdout",
     "output_type": "stream",
     "text": [
      "66 29\n"
     ]
    }
   ],
   "source": [
    "import pickle\n",
    "import numpy as np\n",
    "import pandas as pd\n",
    "from sklearn.tree import DecisionTreeClassifier\n",
    "from sklearn.model_selection import GridSearchCV,train_test_split\n",
    "\n",
    "data_dict=pickle.load(open(\"../final_project/final_project_dataset.pkl\", \"r\"))\n",
    "data_df=pd.DataFrame(data_dict)\n",
    "\n",
    "salary=data_df.loc['salary']\n",
    "poi=data_df.loc['poi'].values\n",
    "feature=zip(salary,poi)\n",
    "feature=map(np.array,zip(*[feature[i] for i in range(len(feature)) if feature[i][0]!='NaN']))\n",
    "\n",
    "salary,poi=feature[0].reshape(-1,1),feature[1]\n",
    "\n",
    "feature_train,feature_test,target_train,target_test=\\\n",
    "train_test_split(salary,poi,test_size=0.3,random_state=42)\n",
    "#random_state controls which points go into the training set and which are used for testing\n",
    "print len(feature_train),len(feature_test)"
   ]
  },
  {
   "cell_type": "code",
   "execution_count": 88,
   "metadata": {
    "collapsed": false
   },
   "outputs": [],
   "source": [
    "import pickle\n",
    "import sys\n",
    "sys.path.append(\"../tools/\")\n",
    "from feature_format import featureFormat, targetFeatureSplit\n",
    "\n",
    "data_dict = pickle.load(open(\"../final_project/final_project_dataset.pkl\", \"r\") )\n",
    "\n",
    "### first element is our labels, any added elements are predictor\n",
    "### features. Keep this the same for the mini-project, but you'll\n",
    "### have a different feature list when you do the final project.\n",
    "features_list = [\"poi\", \"salary\"]\n",
    "\n",
    "data = featureFormat(data_dict, features_list)\n",
    "poi,salary = targetFeatureSplit(data)\n",
    "feature_train,feature_test,target_train,target_test=\\\n",
    "train_test_split(salary,poi,test_size=0.3,random_state=42)\n"
   ]
  },
  {
   "cell_type": "code",
   "execution_count": 101,
   "metadata": {
    "collapsed": false,
    "scrolled": true
   },
   "outputs": [
    {
     "name": "stdout",
     "output_type": "stream",
     "text": [
      "[ 0.  0.  0.  0.  1.  0.  0.  0.  0.  0.  0.  1.  0.  0.  0.  0.  0.  0.\n",
      "  0.  1.  0.  1.  0.  0.  0.  0.  0.  0.  0.]\n",
      "0.724137931034\n",
      "             precision    recall  f1-score   support\n",
      "\n",
      "        0.0       0.84      0.84      0.84        25\n",
      "        1.0       0.00      0.00      0.00         4\n",
      "\n",
      "avg / total       0.72      0.72      0.72        29\n",
      "\n",
      "[[21  4]\n",
      " [ 4  0]]\n",
      "21 4 4 0\n",
      "4\n",
      "0.862068965517\n"
     ]
    }
   ],
   "source": [
    "clf=DecisionTreeClassifier()\n",
    "clf.fit(feature_train,target_train)\n",
    "\n",
    "from sklearn.metrics import classification_report,accuracy_score,confusion_matrix\n",
    "pred=clf.predict(feature_test)\n",
    "print pred\n",
    "print accuracy_score(target_test,pred)\n",
    "#classification_report\n",
    "print classification_report(target_test,pred)\n",
    "#confusion_matrix\n",
    "print confusion_matrix(target_test,pred)\n",
    "tn, fp, fn, tp=confusion_matrix(target_test,pred).ravel()\n",
    "print tn, fp, fn, tp\n",
    "\n",
    "#how many people in test set are predicted poi\n",
    "print len(pred[pred==True])\n",
    "#if predict everyone are not poi\n",
    "print accuracy_score(target_test,[0]*len(target_test))\n",
    "\n"
   ]
  },
  {
   "cell_type": "code",
   "execution_count": 69,
   "metadata": {
    "collapsed": false
   },
   "outputs": [
    {
     "name": "stdout",
     "output_type": "stream",
     "text": [
      "DecisionTreeClassifier(class_weight=None, criterion='gini', max_depth=None,\n",
      "            max_features=None, max_leaf_nodes=None,\n",
      "            min_impurity_split=1e-07, min_samples_leaf=1,\n",
      "            min_samples_split=4, min_weight_fraction_leaf=0.0,\n",
      "            presort=False, random_state=None, splitter='best') \n",
      "\n",
      "   mean_fit_time  mean_score_time  mean_test_score  mean_train_score  \\\n",
      "0       0.001333         0.000333         0.712121          1.000000   \n",
      "1       0.001333         0.001000         0.742424          0.977265   \n",
      "\n",
      "  param_min_samples_split                     params  rank_test_score  \\\n",
      "0                       2  {u'min_samples_split': 2}                2   \n",
      "1                       4  {u'min_samples_split': 4}                1   \n",
      "\n",
      "   split0_test_score  split0_train_score  split1_test_score  \\\n",
      "0           0.695652            1.000000           0.727273   \n",
      "1           0.739130            0.976744           0.681818   \n",
      "\n",
      "   split1_train_score  split2_test_score  split2_train_score  std_fit_time  \\\n",
      "0            1.000000           0.714286            1.000000      0.000471   \n",
      "1            0.977273           0.809524            0.977778      0.000471   \n",
      "\n",
      "   std_score_time  std_test_score  std_train_score  \n",
      "0        0.000471        0.013135         0.000000  \n",
      "1        0.000000        0.051582         0.000422  \n"
     ]
    }
   ],
   "source": [
    "parameters={'min_samples_split':[2,4]}\n",
    "clf=GridSearchCV(estimator=DecisionTreeClassifier(),param_grid=parameters,cv=3,scoring='accuracy')\n",
    "clf.fit(feature_train,target_train)\n",
    "print clf.best_estimator_,'\\n'\n",
    "\n",
    "cv_results_df=pd.DataFrame(clf.cv_results_)\n",
    "print cv_results_df"
   ]
  },
  {
   "cell_type": "code",
   "execution_count": null,
   "metadata": {
    "collapsed": true
   },
   "outputs": [],
   "source": []
  }
 ],
 "metadata": {
  "kernelspec": {
   "display_name": "Python [conda root]",
   "language": "python",
   "name": "conda-root-py"
  },
  "language_info": {
   "codemirror_mode": {
    "name": "ipython",
    "version": 2
   },
   "file_extension": ".py",
   "mimetype": "text/x-python",
   "name": "python",
   "nbconvert_exporter": "python",
   "pygments_lexer": "ipython2",
   "version": "2.7.13"
  }
 },
 "nbformat": 4,
 "nbformat_minor": 2
}
