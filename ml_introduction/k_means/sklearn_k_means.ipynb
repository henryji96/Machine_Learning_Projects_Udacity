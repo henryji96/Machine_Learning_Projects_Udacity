{
 "cells": [
  {
   "cell_type": "code",
   "execution_count": 11,
   "metadata": {
    "collapsed": false
   },
   "outputs": [
    {
     "name": "stdout",
     "output_type": "stream",
     "text": [
      "[[ 4.  2.]\n",
      " [ 1.  2.]]\n",
      "[1 1 1 0 0 0]\n",
      "16.0\n",
      " \n",
      "[1 1 0 0]\n",
      " \n",
      "[[ 3.          0.        ]\n",
      " [ 3.60555128  2.        ]\n",
      " [ 3.60555128  2.        ]\n",
      " [ 0.          3.        ]\n",
      " [ 2.          3.60555128]\n",
      " [ 2.          3.60555128]]\n"
     ]
    }
   ],
   "source": [
    ">>> from sklearn.cluster import KMeans\n",
    ">>> import numpy as np\n",
    ">>> X = np.array([[1, 2], [1, 4], [1, 0],\\\n",
    "                 [4, 2], [4, 4], [4, 0]]) #2D array\n",
    ">>> kmeans = KMeans(n_clusters=2, max_iter=200,n_init=5).fit(X)\n",
    "\n",
    ">>> print kmeans.cluster_centers_# centroid place\n",
    ">>> print kmeans.labels_ #labels of training data\n",
    ">>> print kmeans.inertia_\n",
    "#predict after having labels\n",
    "print ' '\n",
    ">>> print kmeans.predict([[-10,-9],[0, 0], [4, 4],[10,10]])\n",
    "\n",
    "print ' '\n",
    "print kmeans.transform(X)#Transform X to a cluster-distance space\n"
   ]
  },
  {
   "cell_type": "code",
   "execution_count": null,
   "metadata": {
    "collapsed": true
   },
   "outputs": [],
   "source": []
  },
  {
   "cell_type": "code",
   "execution_count": null,
   "metadata": {
    "collapsed": true
   },
   "outputs": [],
   "source": []
  }
 ],
 "metadata": {
  "kernelspec": {
   "display_name": "Python [conda root]",
   "language": "python",
   "name": "conda-root-py"
  },
  "language_info": {
   "codemirror_mode": {
    "name": "ipython",
    "version": 2
   },
   "file_extension": ".py",
   "mimetype": "text/x-python",
   "name": "python",
   "nbconvert_exporter": "python",
   "pygments_lexer": "ipython2",
   "version": "2.7.13"
  }
 },
 "nbformat": 4,
 "nbformat_minor": 2
}
