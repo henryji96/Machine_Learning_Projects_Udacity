{
 "cells": [
  {
   "cell_type": "code",
   "execution_count": 5,
   "metadata": {
    "collapsed": false
   },
   "outputs": [
    {
     "data": {
      "text/plain": [
       "array([[ 0.        , -0.72821076, -0.6910984 ],\n",
       "       [ 1.22474487,  1.41400148,  1.41409365],\n",
       "       [-1.22474487, -0.68579072, -0.72299525]])"
      ]
     },
     "execution_count": 5,
     "metadata": {},
     "output_type": "execute_result"
    }
   ],
   "source": [
    ">>> from sklearn.preprocessing import scale,StandardScaler\n",
    ">>> import numpy as np\n",
    ">>> X = np.array([[ 1., -1.,  2.],\n",
    "                   [ 2.,  100,  200],\n",
    "                   [ 0.,  1., -1.]])\n",
    "X_scaled=scale(X, with_mean=True, with_std=True)\n",
    "#center the data before scaling   scale the data to unit variance \n",
    "X_scaled"
   ]
  },
  {
   "cell_type": "code",
   "execution_count": 7,
   "metadata": {
    "collapsed": false
   },
   "outputs": [
    {
     "name": "stdout",
     "output_type": "stream",
     "text": [
      "[[ 0.         -0.72821076 -0.6910984 ]\n",
      " [ 1.22474487  1.41400148  1.41409365]\n",
      " [-1.22474487 -0.68579072 -0.72299525]]\n"
     ]
    }
   ],
   "source": [
    "scaler=StandardScaler(with_mean=True, with_std=True)\n",
    "scaler.fit(X)\n",
    "X_scaled=scaler.transform(X)\n",
    "print X_scaled"
   ]
  },
  {
   "cell_type": "code",
   "execution_count": null,
   "metadata": {
    "collapsed": true
   },
   "outputs": [],
   "source": []
  }
 ],
 "metadata": {
  "kernelspec": {
   "display_name": "Python [conda root]",
   "language": "python",
   "name": "conda-root-py"
  },
  "language_info": {
   "codemirror_mode": {
    "name": "ipython",
    "version": 2
   },
   "file_extension": ".py",
   "mimetype": "text/x-python",
   "name": "python",
   "nbconvert_exporter": "python",
   "pygments_lexer": "ipython2",
   "version": "2.7.13"
  }
 },
 "nbformat": 4,
 "nbformat_minor": 2
}
