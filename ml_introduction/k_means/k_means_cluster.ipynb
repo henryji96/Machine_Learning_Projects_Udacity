{
 "cells": [
  {
   "cell_type": "code",
   "execution_count": 27,
   "metadata": {
    "collapsed": false
   },
   "outputs": [],
   "source": [
    "import numpy as np\n",
    "import pandas as pd\n",
    "import matplotlib.pyplot as plt\n",
    "import pickle\n",
    "data_dict=pickle.load(open('../../intro_to_ml_projects/final_project/final_project_dataset.pkl','r'))\n",
    "data_df=pd.DataFrame(data_dict)\n",
    "#print data_df\n",
    "data_df=data_df.drop(['TOTAL'],1)\n",
    "\n",
    "bonus=data_df.loc['bonus']\n",
    "salary=data_df.loc['salary']\n",
    "exercised_stock_options=data_df.loc['exercised_stock_options']\n",
    "poi=data_df.loc['poi']\n"
   ]
  },
  {
   "cell_type": "code",
   "execution_count": 5,
   "metadata": {
    "collapsed": false
   },
   "outputs": [
    {
     "name": "stdout",
     "output_type": "stream",
     "text": [
      "1111258\n",
      "477\n",
      " \n",
      "<class 'pandas.core.series.Series'>\n",
      "object\n",
      " \n",
      "<type 'list'>\n"
     ]
    }
   ],
   "source": [
    "#range of salary\n",
    "salary_c=salary[salary!='NaN']\n",
    "print salary_c.max()\n",
    "print salary_c.min()\n",
    "print ' '\n",
    "#clean bonus\n",
    "bonus_c=bonus[bonus!='NaN']\n",
    "print type(bonus_c)\n",
    "print bonus.dtype\n",
    "print ' '\n",
    "#clean exercised_stock_options\n",
    "exercised_stock_options_c=[exercised_stock_options[i] \\\n",
    "                           for i in range(len(exercised_stock_options))\\\n",
    "                           if exercised_stock_options[i]!='NaN']\n",
    "print type(exercised_stock_options_c)\n"
   ]
  },
  {
   "cell_type": "code",
   "execution_count": 36,
   "metadata": {
    "collapsed": false
   },
   "outputs": [
    {
     "name": "stdout",
     "output_type": "stream",
     "text": [
      "[ 0.17962407]\n",
      "[ 0.02902059]\n"
     ]
    },
    {
     "name": "stderr",
     "output_type": "stream",
     "text": [
      "E:\\Anaconda\\lib\\site-packages\\sklearn\\preprocessing\\data.py:321: DeprecationWarning: Passing 1d arrays as data is deprecated in 0.17 and will raise ValueError in 0.19. Reshape your data either using X.reshape(-1, 1) if your data has a single feature or X.reshape(1, -1) if it contains a single sample.\n",
      "  warnings.warn(DEPRECATION_MSG_1D, DeprecationWarning)\n",
      "E:\\Anaconda\\lib\\site-packages\\sklearn\\preprocessing\\data.py:356: DeprecationWarning: Passing 1d arrays as data is deprecated in 0.17 and will raise ValueError in 0.19. Reshape your data either using X.reshape(-1, 1) if your data has a single feature or X.reshape(1, -1) if it contains a single sample.\n",
      "  warnings.warn(DEPRECATION_MSG_1D, DeprecationWarning)\n",
      "E:\\Anaconda\\lib\\site-packages\\sklearn\\preprocessing\\data.py:356: DeprecationWarning: Passing 1d arrays as data is deprecated in 0.17 and will raise ValueError in 0.19. Reshape your data either using X.reshape(-1, 1) if your data has a single feature or X.reshape(1, -1) if it contains a single sample.\n",
      "  warnings.warn(DEPRECATION_MSG_1D, DeprecationWarning)\n",
      "E:\\Anaconda\\lib\\site-packages\\sklearn\\preprocessing\\data.py:321: DeprecationWarning: Passing 1d arrays as data is deprecated in 0.17 and will raise ValueError in 0.19. Reshape your data either using X.reshape(-1, 1) if your data has a single feature or X.reshape(1, -1) if it contains a single sample.\n",
      "  warnings.warn(DEPRECATION_MSG_1D, DeprecationWarning)\n",
      "E:\\Anaconda\\lib\\site-packages\\sklearn\\preprocessing\\data.py:356: DeprecationWarning: Passing 1d arrays as data is deprecated in 0.17 and will raise ValueError in 0.19. Reshape your data either using X.reshape(-1, 1) if your data has a single feature or X.reshape(1, -1) if it contains a single sample.\n",
      "  warnings.warn(DEPRECATION_MSG_1D, DeprecationWarning)\n",
      "E:\\Anaconda\\lib\\site-packages\\sklearn\\preprocessing\\data.py:356: DeprecationWarning: Passing 1d arrays as data is deprecated in 0.17 and will raise ValueError in 0.19. Reshape your data either using X.reshape(-1, 1) if your data has a single feature or X.reshape(1, -1) if it contains a single sample.\n",
      "  warnings.warn(DEPRECATION_MSG_1D, DeprecationWarning)\n"
     ]
    }
   ],
   "source": [
    "from sklearn.preprocessing import MinMaxScaler\n",
    "scaler1=MinMaxScaler()\n",
    "salary_c_s=scaler1.fit_transform(salary_c).reshape\n",
    "print scaler1.transform([200000])\n",
    "\n",
    "scaler2=MinMaxScaler()\n",
    "exercised_stock_options_c_s=scaler2.fit_transform(exercised_stock_options_c)\n",
    "print scaler2.transform([1000000])"
   ]
  },
  {
   "cell_type": "code",
   "execution_count": 107,
   "metadata": {
    "collapsed": false
   },
   "outputs": [
    {
     "data": {
      "image/png": "[encoded data removed]",
      "text/plain": [
       "<matplotlib.figure.Figure at 0xd06f4a8>"
      ]
     },
     "metadata": {},
     "output_type": "display_data"
    }
   ],
   "source": [
    "#plot original financial data\n",
    "plt.figure(1)\n",
    "plt.scatter(salary,bonus,c='m',alpha=0.8)\n",
    "#visualize poi\n",
    "for i,value in enumerate(poi):\n",
    "    if (value==True):\n",
    "        plt.scatter(salary[i],bonus[i],c='g',marker='*',alpha=0.9)\n",
    "plt.xlabel('salary')\n",
    "plt.ylabel('bonus')\n",
    "plt.show()"
   ]
  },
  {
   "cell_type": "code",
   "execution_count": 109,
   "metadata": {
    "collapsed": false
   },
   "outputs": [
    {
     "name": "stdout",
     "output_type": "stream",
     "text": [
      "[2 0 0 0 1 0 0 0 0 0 0 0 0 0 0 0 0 0 0 2 0 0 0 0 0 0 0 0 0 2 0 0 2 0 0 0 0\n",
      " 0 0 0 2 0 0 0 2 0 0 1 1 0 0 0 0 2 0 0 0 0 0 0 0 0 0 2 0 2 0 0 0 0 1 0 0 0\n",
      " 0 0 0 0 0 2 0]\n"
     ]
    }
   ],
   "source": [
    "#cluster data\n",
    "from sklearn.cluster import KMeans\n",
    "finance_features=zip(salary,bonus)\n",
    "finance_features_c=[finance_features[i] for i in range(len(finance_features))\\\n",
    "                    if 'NaN' not in finance_features[i]]\n",
    "kmeans=KMeans(n_clusters=3,max_iter=400,n_init=15).fit(finance_features_c)\n",
    "pred=kmeans.labels_\n",
    "print pred"
   ]
  },
  {
   "cell_type": "code",
   "execution_count": 117,
   "metadata": {
    "collapsed": false
   },
   "outputs": [
    {
     "name": "stdout",
     "output_type": "stream",
     "text": [
      "[[201955, 267102, 239671, 231330, 213999, 187922, 213625, 248546, 278601, 248017, 261516, 330546, 240189, 261809, 415189, 288542, 314288, 184899, 206121, 365163, 492375, 210500, 250100, 262788, 221003, 278601, 210692, 182245, 170941, 304588, 440698, 199157, 1060932, 192008, 231946, 274975, 272880, 374125, 243293, 262663, 211788, 288558, 275101, 404338, 271442, 309946, 224305, 339288, 1072321, 273746, 236457, 263413, 365038, 370448, 365788, 267093, 251654, 229284, 329078, 261879, 655037, 197091, 76399, 420636, 249201, 304110, 269076, 248146, 211844, 428780, 1111258, 239502, 162779, 257486, 265214, 247338, 288589, 357091, 259996, 510364, 317543], [4175000, 1200000, 400000, 700000, 5249999, 250000, 1000000, 850000, 1350000, 500000, 750000, 900000, 1250000, 300000, 1000000, 1200000, 800000, 325000, 600000, 3000000, 800000, 425000, 600000, 1000000, 70000, 800000, 750000, 200000, 350000, 2500000, 1300000, 350000, 2000000, 509870, 850000, 600000, 750000, 1150000, 1500000, 700000, 1700000, 250000, 400000, 1000000, 3100000, 700000, 800000, 8000000, 7000000, 1000000, 200000, 900000, 1100000, 2600000, 600000, 325000, 1100000, 400000, 750000, 1000000, 300000, 400000, 100000, 1750000, 700000, 2000000, 650000, 600000, 200000, 1500000, 5600000, 500000, 100000, 700000, 600000, 300000, 788750, 850000, 325000, 3000000, 450000]]\n"
     ]
    },
    {
     "data": {
      "image/png": "[encoded data removed]",
      "text/plain": [
       "<matplotlib.figure.Figure at 0xd039358>"
      ]
     },
     "metadata": {},
     "output_type": "display_data"
    }
   ],
   "source": [
    "#visualize data after clustering\n",
    "colors=['m','y','b']\n",
    "finance_features_t=map(list,zip(*finance_features_c))\n",
    "print finance_features_t\n",
    "\n",
    "#use loop to seperate one class from another\n",
    "plt.figure(2)\n",
    "for i,value in enumerate(pred):\n",
    "    plt.scatter(finance_features_t[0][i],finance_features_t[1][i],\\\n",
    "                color=colors[value],alpha=0.8)\n",
    "plt.savefig('cluster_data.pdf')\n",
    "plt.show()"
   ]
  },
  {
   "cell_type": "code",
   "execution_count": null,
   "metadata": {
    "collapsed": true
   },
   "outputs": [],
   "source": []
  }
 ],
 "metadata": {
  "kernelspec": {
   "display_name": "Python [conda root]",
   "language": "python",
   "name": "conda-root-py"
  },
  "language_info": {
   "codemirror_mode": {
    "name": "ipython",
    "version": 2
   },
   "file_extension": ".py",
   "mimetype": "text/x-python",
   "name": "python",
   "nbconvert_exporter": "python",
   "pygments_lexer": "ipython2",
   "version": "2.7.13"
  }
 },
 "nbformat": 4,
 "nbformat_minor": 2
}
