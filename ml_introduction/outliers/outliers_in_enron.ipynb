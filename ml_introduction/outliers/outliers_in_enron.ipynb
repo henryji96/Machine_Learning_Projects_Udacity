{
 "cells": [
  {
   "cell_type": "code",
   "execution_count": 62,
   "metadata": {
    "collapsed": false
   },
   "outputs": [
    {
     "name": "stdout",
     "output_type": "stream",
     "text": [
      "                      bonus  salary\n",
      "ALLEN PHILLIP K     4175000  201955\n",
      "BADUM JAMES P           NaN     NaN\n",
      "BANNANTINE JAMES M      NaN     477\n",
      "BAXTER JOHN C       1200000  267102\n",
      "BAY FRANKLIN R       400000  239671\n",
      "4175000\n",
      " \n",
      "                      bonus    salary\n",
      "ALLEN PHILLIP K   4175000.0  201955.0\n",
      "BAXTER JOHN C     1200000.0  267102.0\n",
      "BAY FRANKLIN R     400000.0  239671.0\n",
      "BECK SALLY W       700000.0  231330.0\n",
      "BELDEN TIMOTHY N  5249999.0  213999.0\n",
      " \n",
      "<pandas.core.indexing._LocIndexer object at 0x00000000098950B8>\n"
     ]
    },
    {
     "data": {
      "image/png": "[encoded data removed]",
      "text/plain": [
       "<matplotlib.figure.Figure at 0xaf9ba90>"
      ]
     },
     "metadata": {},
     "output_type": "display_data"
    }
   ],
   "source": [
    "import pandas as pd\n",
    "import numpy as np\n",
    "import matplotlib.pyplot as plt\n",
    "import pickle\n",
    "\n",
    "data_dict=pickle.load\\\n",
    "(open('../final_project/final_project_dataset.pkl','r'))\n",
    "data_df=pd.DataFrame(data_dict)\n",
    "#print data_df.head()\n",
    "data_reg_df=data_df.loc[['salary','bonus']]\n",
    "#print data_reg_df.head()\n",
    "names=data_df.columns\n",
    "#print names\n",
    "data_reg=np.array(data_reg_df)\n",
    "salary=data_reg[0]\n",
    "bonus=data_reg[1]\n",
    "\n",
    "plt.figure(1)\n",
    "plt.subplot(311)\n",
    "plt.scatter(salary,bonus,c='g',alpha=0.55)\n",
    "plt.xlabel('salary')\n",
    "plt.ylabel('bonus')\n",
    "\n",
    "\n",
    "df_regt=pd.DataFrame(data={\n",
    "    'salary':salary,\n",
    "    'bonus':bonus\n",
    "},index=names)\n",
    "print df_regt.head()\n",
    "print df_regt.iloc[0,0] #access df \n",
    "\n",
    "print ' '\n",
    "df_regt=df_regt.replace('NaN',np.nan) \n",
    "df_regt=df_regt.dropna(axis=0)     ##drop nan\n",
    "print df_regt.head()\n",
    "\n",
    "print ' '\n",
    "#print df_regt[['salary']][df_regt[['salary']]>10000000].dropna()\n",
    "\n",
    "print df_regt.loc(['TOTAL'])\n",
    "df_regt=df_regt.drop(['TOTAL'],axis=0)\n",
    "#print df_regt\n",
    "#plt.figure(1)\n",
    "#plt.show()\n",
    "plt.subplot(313)\n",
    "plt.scatter(df_regt['salary'],df_regt['bonus'],c='k',alpha=0.55)\n",
    "plt.xlabel('cleaned salary')\n",
    "plt.ylabel('cleaned bonus')\n",
    "plt.show()"
   ]
  },
  {
   "cell_type": "code",
   "execution_count": 52,
   "metadata": {
    "collapsed": false
   },
   "outputs": [
    {
     "data": {
      "text/html": [
       "<div>\n",
       "<table border=\"1\" class=\"dataframe\">\n",
       "  <thead>\n",
       "    <tr style=\"text-align: right;\">\n",
       "      <th></th>\n",
       "      <th>salary</th>\n",
       "    </tr>\n",
       "  </thead>\n",
       "  <tbody>\n",
       "    <tr>\n",
       "      <th>FREVERT MARK A</th>\n",
       "      <td>1060932.0</td>\n",
       "    </tr>\n",
       "    <tr>\n",
       "      <th>LAY KENNETH L</th>\n",
       "      <td>1072321.0</td>\n",
       "    </tr>\n",
       "    <tr>\n",
       "      <th>SKILLING JEFFREY K</th>\n",
       "      <td>1111258.0</td>\n",
       "    </tr>\n",
       "  </tbody>\n",
       "</table>\n",
       "</div>"
      ],
      "text/plain": [
       "                       salary\n",
       "FREVERT MARK A      1060932.0\n",
       "LAY KENNETH L       1072321.0\n",
       "SKILLING JEFFREY K  1111258.0"
      ]
     },
     "execution_count": 52,
     "metadata": {},
     "output_type": "execute_result"
    }
   ],
   "source": [
    "df_regt[['salary']][df_regt[['salary']]>1000000].dropna()"
   ]
  },
  {
   "cell_type": "code",
   "execution_count": 64,
   "metadata": {
    "collapsed": false
   },
   "outputs": [
    {
     "data": {
      "text/html": [
       "<div>\n",
       "<table border=\"1\" class=\"dataframe\">\n",
       "  <thead>\n",
       "    <tr style=\"text-align: right;\">\n",
       "      <th></th>\n",
       "      <th>bonus</th>\n",
       "    </tr>\n",
       "  </thead>\n",
       "  <tbody>\n",
       "    <tr>\n",
       "      <th>BELDEN TIMOTHY N</th>\n",
       "      <td>5249999.0</td>\n",
       "    </tr>\n",
       "    <tr>\n",
       "      <th>LAVORATO JOHN J</th>\n",
       "      <td>8000000.0</td>\n",
       "    </tr>\n",
       "    <tr>\n",
       "      <th>LAY KENNETH L</th>\n",
       "      <td>7000000.0</td>\n",
       "    </tr>\n",
       "    <tr>\n",
       "      <th>SKILLING JEFFREY K</th>\n",
       "      <td>5600000.0</td>\n",
       "    </tr>\n",
       "  </tbody>\n",
       "</table>\n",
       "</div>"
      ],
      "text/plain": [
       "                        bonus\n",
       "BELDEN TIMOTHY N    5249999.0\n",
       "LAVORATO JOHN J     8000000.0\n",
       "LAY KENNETH L       7000000.0\n",
       "SKILLING JEFFREY K  5600000.0"
      ]
     },
     "execution_count": 64,
     "metadata": {},
     "output_type": "execute_result"
    }
   ],
   "source": [
    "df_regt[['bonus']][df_regt[['bonus']]>5000000].dropna()"
   ]
  },
  {
   "cell_type": "code",
   "execution_count": null,
   "metadata": {
    "collapsed": true
   },
   "outputs": [],
   "source": []
  }
 ],
 "metadata": {
  "kernelspec": {
   "display_name": "Python [default]",
   "language": "python",
   "name": "python2"
  },
  "language_info": {
   "codemirror_mode": {
    "name": "ipython",
    "version": 2
   },
   "file_extension": ".py",
   "mimetype": "text/x-python",
   "name": "python",
   "nbconvert_exporter": "python",
   "pygments_lexer": "ipython2",
   "version": "2.7.13"
  }
 },
 "nbformat": 4,
 "nbformat_minor": 2
}
