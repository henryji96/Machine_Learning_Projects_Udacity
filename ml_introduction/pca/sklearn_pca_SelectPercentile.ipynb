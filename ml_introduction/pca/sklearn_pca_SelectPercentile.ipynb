{
 "cells": [
  {
   "cell_type": "code",
   "execution_count": 55,
   "metadata": {
    "collapsed": false
   },
   "outputs": [
    {
     "name": "stdout",
     "output_type": "stream",
     "text": [
      "transformed X with 2pc\n",
      "[[-2.205396   -0.27386859]\n",
      " [-2.99425291  0.34070831]\n",
      " [-4.39768673  0.1664283 ]\n",
      " [ 0.60147164  0.07469143]\n",
      " [ 1.39032855 -0.53988547]\n",
      " [ 2.79376237 -0.36560546]\n",
      " [ 4.81177309  0.59753147]]\n",
      "transformed X1 with 1pc\n",
      "[[-2.205396  ]\n",
      " [-2.99425291]\n",
      " [-4.39768673]\n",
      " [ 0.60147164]\n",
      " [ 1.39032855]\n",
      " [ 2.79376237]\n",
      " [ 4.81177309]]\n",
      "\n",
      "pc vectors with direction and importance\n",
      "[[ 0.78885691  0.6145769 ]\n",
      " [-0.6145769   0.78885691]]\n"
     ]
    }
   ],
   "source": [
    ">>> import numpy as np\n",
    ">>> from sklearn.decomposition import PCA\n",
    ">>> X = np.array([[-1, -1], [-2, -1], [-3, -2], [1, 1], [2, 1], [3, 2],[4,4]])\n",
    ">>> pca = PCA(n_components=2) #combine 2 features into 2,do pca\n",
    ">>> pca2=PCA(n_components=1)\n",
    "\n",
    "X_transformed=pca.fit_transform(X)\n",
    "X_transformed2=pca2.fit_transform(X)\n",
    "\n",
    "print 'transformed X with 2pc'\n",
    "print X_transformed\n",
    "print 'transformed X1 with 1pc'\n",
    "print X_transformed2\n",
    "\n",
    "print ''\n",
    "print 'pc vectors with direction and importance'\n",
    "pc=pca.components_    #2 components are perpendicular to each other\n",
    "first_pc=pca.components_[0]  \n",
    "second_pc=pca.components_[1]\n",
    "print pc\n",
    "\n"
   ]
  },
  {
   "cell_type": "code",
   "execution_count": 63,
   "metadata": {
    "collapsed": false
   },
   "outputs": [
    {
     "data": {
      "image/png": "[encoded data removed]",
      "text/plain": [
       "<matplotlib.figure.Figure at 0xb745470>"
      ]
     },
     "metadata": {},
     "output_type": "display_data"
    }
   ],
   "source": [
    "import matplotlib.pyplot as plt\n",
    "for ii in X:\n",
    "    #plot original data\n",
    "    plt.scatter(ii[0],ii[1],color='m')\n",
    "\n",
    "for jj in X_transformed:\n",
    "    #plot first pc\n",
    "    plt.scatter(jj[0]*first_pc[0],jj[0]*first_pc[1],color='b')\n",
    "    #plot second pc\n",
    "    plt.scatter(jj[0]*second_pc[0],jj[0]*second_pc[1],color='g')\n",
    "'''\n",
    "for ii in X_transformed2:\n",
    "    #plot original data\n",
    "    plt.scatter(ii[0],ii[0],color='k')\n",
    "plt.show() \n",
    "'''\n",
    "plt.show()"
   ]
  },
  {
   "cell_type": "code",
   "execution_count": 61,
   "metadata": {
    "collapsed": false
   },
   "outputs": [
    {
     "name": "stdout",
     "output_type": "stream",
     "text": [
      "eigenvalues\n",
      "[ 0.98507234  0.01492766]\n",
      "1.0\n"
     ]
    }
   ],
   "source": [
    "print 'eigenvalues'\n",
    "print pca.explained_variance_ratio_   #variance ratio(importance)-eigenvalues\n",
    "print pca.explained_variance_ratio_.sum()"
   ]
  },
  {
   "cell_type": "markdown",
   "metadata": {},
   "source": [
    "http://scikit-learn.org/0.18/auto_examples/feature_stacker.html#sphx-glr-auto-examples-feature-stacker-py"
   ]
  },
  {
   "cell_type": "code",
   "execution_count": 11,
   "metadata": {
    "collapsed": false
   },
   "outputs": [
    {
     "name": "stdout",
     "output_type": "stream",
     "text": [
      "(150L, 4L)\n",
      "(150L, 2L)\n",
      "(150L, 3L)\n",
      "(150L, 2L)\n"
     ]
    }
   ],
   "source": [
    "from sklearn.datasets import load_iris\n",
    "from sklearn.feature_selection import SelectPercentile,SelectKBest\n",
    "from sklearn.decomposition import PCA\n",
    "iris=load_iris()\n",
    "feature,target=iris.data,iris.target\n",
    "print feature.shape\n",
    "\n",
    "feature_newP=SelectPercentile(percentile=50).fit_transform(feature,target)\n",
    "print feature_newP.shape\n",
    "\n",
    "feature_newK=SelectKBest(k=3).fit_transform(feature,target)\n",
    "print feature_newK.shape\n",
    "\n",
    "pca = PCA(n_components=2)\n",
    "feature_pca=pca.fit_transform(feature,target)\n",
    "print feature_pca.shape"
   ]
  },
  {
   "cell_type": "code",
   "execution_count": 8,
   "metadata": {
    "collapsed": false
   },
   "outputs": [
    {
     "name": "stdout",
     "output_type": "stream",
     "text": [
      "[[-2.68420713  0.32660731  5.1         1.4         0.2       ]\n",
      " [-2.71539062 -0.16955685  4.9         1.4         0.2       ]\n",
      " [-2.88981954 -0.13734561  4.7         1.3         0.2       ]\n",
      " [-2.7464372  -0.31112432  4.6         1.5         0.2       ]\n",
      " [-2.72859298  0.33392456  5.          1.4         0.2       ]\n",
      " [-2.27989736  0.74778271  5.4         1.7         0.4       ]\n",
      " [-2.82089068 -0.08210451  4.6         1.4         0.3       ]\n",
      " [-2.62648199  0.17040535  5.          1.5         0.2       ]\n",
      " [-2.88795857 -0.57079803  4.4         1.4         0.2       ]\n",
      " [-2.67384469 -0.1066917   4.9         1.5         0.1       ]\n",
      " [-2.50652679  0.65193501  5.4         1.5         0.2       ]\n",
      " [-2.61314272  0.02152063  4.8         1.6         0.2       ]\n",
      " [-2.78743398 -0.22774019  4.8         1.4         0.1       ]\n",
      " [-3.22520045 -0.50327991  4.3         1.1         0.1       ]\n",
      " [-2.64354322  1.1861949   5.8         1.2         0.2       ]\n",
      " [-2.38386932  1.34475434  5.7         1.5         0.4       ]\n",
      " [-2.6225262   0.81808967  5.4         1.3         0.4       ]\n",
      " [-2.64832273  0.31913667  5.1         1.4         0.3       ]\n",
      " [-2.19907796  0.87924409  5.7         1.7         0.3       ]\n",
      " [-2.58734619  0.52047364  5.1         1.5         0.3       ]\n",
      " [-2.3105317   0.39786782  5.4         1.7         0.2       ]\n",
      " [-2.54323491  0.44003175  5.1         1.5         0.4       ]\n",
      " [-3.21585769  0.14161557  4.6         1.          0.2       ]\n",
      " [-2.30312854  0.10552268  5.1         1.7         0.5       ]\n",
      " [-2.35617109 -0.03120959  4.8         1.9         0.2       ]\n",
      " [-2.50791723 -0.13905634  5.          1.6         0.2       ]\n",
      " [-2.469056    0.13788731  5.          1.6         0.4       ]\n",
      " [-2.56239095  0.37468456  5.2         1.5         0.2       ]\n",
      " [-2.63982127  0.31929007  5.2         1.4         0.2       ]\n",
      " [-2.63284791 -0.19007583  4.7         1.6         0.2       ]\n",
      " [-2.58846205 -0.19739308  4.8         1.6         0.2       ]\n",
      " [-2.41007734  0.41808001  5.4         1.5         0.4       ]\n",
      " [-2.64763667  0.81998263  5.2         1.5         0.1       ]\n",
      " [-2.59715948  1.10002193  5.5         1.4         0.2       ]\n",
      " [-2.67384469 -0.1066917   4.9         1.5         0.1       ]\n",
      " [-2.86699985  0.0771931   5.          1.2         0.2       ]\n",
      " [-2.62522846  0.60680001  5.5         1.3         0.2       ]\n",
      " [-2.67384469 -0.1066917   4.9         1.5         0.1       ]\n",
      " [-2.98184266 -0.48025005  4.4         1.3         0.2       ]\n",
      " [-2.59032303  0.23605934  5.1         1.5         0.2       ]\n",
      " [-2.77013891  0.27105942  5.          1.3         0.3       ]\n",
      " [-2.85221108 -0.93286537  4.5         1.3         0.3       ]\n",
      " [-2.99829644 -0.33430757  4.4         1.3         0.2       ]\n",
      " [-2.4055141   0.19591726  5.          1.6         0.6       ]\n",
      " [-2.20883295  0.44269603  5.1         1.9         0.4       ]\n",
      " [-2.71566519 -0.24268148  4.8         1.4         0.3       ]\n",
      " [-2.53757337  0.51036755  5.1         1.6         0.2       ]\n",
      " [-2.8403213  -0.22057634  4.6         1.4         0.2       ]\n",
      " [-2.54268576  0.58628103  5.3         1.5         0.2       ]\n",
      " [-2.70391231  0.11501085  5.          1.4         0.2       ]\n",
      " [ 1.28479459  0.68543919  7.          4.7         1.4       ]\n",
      " [ 0.93241075  0.31919809  6.4         4.5         1.5       ]\n",
      " [ 1.46406132  0.50418983  6.9         4.9         1.5       ]\n",
      " [ 0.18096721 -0.82560394  5.5         4.          1.3       ]\n",
      " [ 1.08713449  0.07539039  6.5         4.6         1.5       ]\n",
      " [ 0.64043675 -0.41732348  5.7         4.5         1.3       ]\n",
      " [ 1.09522371  0.28389121  6.3         4.7         1.6       ]\n",
      " [-0.75146714 -1.00110751  4.9         3.3         1.        ]\n",
      " [ 1.04329778  0.22895691  6.6         4.6         1.3       ]\n",
      " [-0.01019007 -0.72057487  5.2         3.9         1.4       ]\n",
      " [-0.5110862  -1.26249195  5.          3.5         1.        ]\n",
      " [ 0.51109806 -0.10228411  5.9         4.2         1.5       ]\n",
      " [ 0.26233576 -0.5478933   6.          4.          1.        ]\n",
      " [ 0.98404455 -0.12436042  6.1         4.7         1.4       ]\n",
      " [-0.174864   -0.25181557  5.6         3.6         1.3       ]\n",
      " [ 0.92757294  0.46823621  6.7         4.4         1.4       ]\n",
      " [ 0.65959279 -0.35197629  5.6         4.5         1.5       ]\n",
      " [ 0.23454059 -0.33192183  5.8         4.1         1.        ]\n",
      " [ 0.94236171 -0.54182226  6.2         4.5         1.5       ]\n",
      " [ 0.0432464  -0.58148945  5.6         3.9         1.1       ]\n",
      " [ 1.11624072 -0.08421401  5.9         4.8         1.8       ]\n",
      " [ 0.35678657 -0.06682383  6.1         4.          1.3       ]\n",
      " [ 1.29646885 -0.32756152  6.3         4.9         1.5       ]\n",
      " [ 0.92050265 -0.18239036  6.1         4.7         1.2       ]\n",
      " [ 0.71400821  0.15037915  6.4         4.3         1.3       ]\n",
      " [ 0.89964086  0.32961098  6.6         4.4         1.4       ]\n",
      " [ 1.33104142  0.24466952  6.8         4.8         1.4       ]\n",
      " [ 1.55739627  0.26739258  6.7         5.          1.7       ]\n",
      " [ 0.81245555 -0.16233157  6.          4.5         1.5       ]\n",
      " [-0.30733476 -0.36508661  5.7         3.5         1.        ]\n",
      " [-0.07034289 -0.70253793  5.5         3.8         1.1       ]\n",
      " [-0.19188449 -0.67749054  5.5         3.7         1.        ]\n",
      " [ 0.13499495 -0.31170964  5.8         3.9         1.2       ]\n",
      " [ 1.37873698 -0.42120514  6.          5.1         1.6       ]\n",
      " [ 0.58727485 -0.48328427  5.4         4.5         1.5       ]\n",
      " [ 0.8072055   0.19505396  6.          4.5         1.6       ]\n",
      " [ 1.22042897  0.40803534  6.7         4.7         1.5       ]\n",
      " [ 0.81286779 -0.370679    6.3         4.4         1.3       ]\n",
      " [ 0.24519516 -0.26672804  5.6         4.1         1.3       ]\n",
      " [ 0.16451343 -0.67966147  5.5         4.          1.3       ]\n",
      " [ 0.46303099 -0.66952655  5.5         4.4         1.2       ]\n",
      " [ 0.89016045 -0.03381244  6.1         4.6         1.4       ]\n",
      " [ 0.22887905 -0.40225762  5.8         4.          1.2       ]\n",
      " [-0.70708128 -1.00842476  5.          3.3         1.        ]\n",
      " [ 0.35553304 -0.50321849  5.6         4.2         1.3       ]\n",
      " [ 0.33112695 -0.21118014  5.7         4.2         1.2       ]\n",
      " [ 0.37523823 -0.29162202  5.7         4.2         1.3       ]\n",
      " [ 0.64169028  0.01907118  6.2         4.3         1.3       ]\n",
      " [-0.90846333 -0.75156873  5.1         3.          1.1       ]\n",
      " [ 0.29780791 -0.34701652  5.7         4.1         1.3       ]\n",
      " [ 2.53172698 -0.01184224  6.3         6.          2.5       ]\n",
      " [ 1.41407223 -0.57492506  5.8         5.1         1.9       ]\n",
      " [ 2.61648461  0.34193529  7.1         5.9         2.1       ]\n",
      " [ 1.97081495 -0.18112569  6.3         5.6         1.8       ]\n",
      " [ 2.34975798 -0.04188255  6.5         5.8         2.2       ]\n",
      " [ 3.39687992  0.54716805  7.6         6.6         2.1       ]\n",
      " [ 0.51938325 -1.19135169  4.9         4.5         1.7       ]\n",
      " [ 2.9320051   0.35237701  7.3         6.3         1.8       ]\n",
      " [ 2.31967279 -0.24554817  6.7         5.8         1.8       ]\n",
      " [ 2.91813423  0.78038063  7.2         6.1         2.5       ]\n",
      " [ 1.66193495  0.2420384   6.5         5.1         2.        ]\n",
      " [ 1.80234045 -0.21615461  6.4         5.3         1.9       ]\n",
      " [ 2.16537886  0.21528028  6.8         5.5         2.1       ]\n",
      " [ 1.34459422 -0.77641543  5.7         5.          2.        ]\n",
      " [ 1.5852673  -0.53930705  5.8         5.1         2.4       ]\n",
      " [ 1.90474358  0.11881899  6.4         5.3         2.3       ]\n",
      " [ 1.94924878  0.04073026  6.5         5.5         1.8       ]\n",
      " [ 3.48876538  1.17154454  7.7         6.7         2.2       ]\n",
      " [ 3.79468686  0.25326557  7.7         6.9         2.3       ]\n",
      " [ 1.29832982 -0.76101394  6.          5.          1.5       ]\n",
      " [ 2.42816726  0.37678197  6.9         5.7         2.3       ]\n",
      " [ 1.19809737 -0.60557896  5.6         4.9         2.        ]\n",
      " [ 3.49926548  0.45677347  7.7         6.7         2.        ]\n",
      " [ 1.38766825 -0.20403099  6.3         4.9         1.8       ]\n",
      " [ 2.27585365  0.33338653  6.7         5.7         2.1       ]\n",
      " [ 2.61419383  0.55836695  7.2         6.          1.8       ]\n",
      " [ 1.25762518 -0.179137    6.2         4.8         1.8       ]\n",
      " [ 1.29066965 -0.11642525  6.1         4.9         1.8       ]\n",
      " [ 2.12285398 -0.21085488  6.4         5.6         2.1       ]\n",
      " [ 2.3875644   0.46251925  7.2         5.8         1.6       ]\n",
      " [ 2.84096093  0.37274259  7.4         6.1         1.9       ]\n",
      " [ 3.2323429   1.37052404  7.9         6.4         2.        ]\n",
      " [ 2.15873837 -0.21832553  6.4         5.6         2.2       ]\n",
      " [ 1.4431026  -0.14380129  6.3         5.1         1.5       ]\n",
      " [ 1.77964011 -0.50146479  6.1         5.6         1.4       ]\n",
      " [ 3.07652162  0.68576444  7.7         6.1         2.3       ]\n",
      " [ 2.14498686  0.13890661  6.3         5.6         2.4       ]\n",
      " [ 1.90486293  0.04804751  6.4         5.5         1.8       ]\n",
      " [ 1.16885347 -0.1645025   6.          4.8         1.8       ]\n",
      " [ 2.10765373  0.37148225  6.9         5.4         2.1       ]\n",
      " [ 2.31430339  0.18260885  6.7         5.6         2.4       ]\n",
      " [ 1.92245088  0.40927118  6.9         5.1         2.3       ]\n",
      " [ 1.41407223 -0.57492506  5.8         5.1         1.9       ]\n",
      " [ 2.56332271  0.2759745   6.8         5.9         2.3       ]\n",
      " [ 2.41939122  0.30350394  6.7         5.7         2.5       ]\n",
      " [ 1.94401705  0.18741522  6.7         5.2         2.3       ]\n",
      " [ 1.52566363 -0.37502085  6.3         5.          1.9       ]\n",
      " [ 1.76404594  0.07851919  6.5         5.2         2.        ]\n",
      " [ 1.90162908  0.11587675  6.2         5.4         2.3       ]\n",
      " [ 1.38966613 -0.28288671  5.9         5.1         1.8       ]]\n"
     ]
    }
   ],
   "source": [
    "from sklearn.pipeline import FeatureUnion\n",
    "from sklearn.model_selection import GridSearchCV\n",
    "from sklearn.feature_selection import SelectKBest\n",
    "from sklearn.decomposition import PCA\n",
    "from sklearn.svm import SVC\n",
    "from sklearn.datasets import load_iris\n",
    "iris=load_iris()\n",
    "feature,target=iris.data,iris.target\n",
    "\n",
    "pca=PCA(n_components=2)#减少examles\n",
    "select=SelectKBest(k=3)#减少feature\n",
    "combined_select=FeatureUnion([(\"pca\",pca),(\"select\",select)])\n",
    "feature_new=combined_select.fit_transform(feature,target)\n",
    "print feature_new"
   ]
  },
  {
   "cell_type": "code",
   "execution_count": null,
   "metadata": {
    "collapsed": true
   },
   "outputs": [],
   "source": []
  }
 ],
 "metadata": {
  "kernelspec": {
   "display_name": "Python [conda root]",
   "language": "python",
   "name": "conda-root-py"
  },
  "language_info": {
   "codemirror_mode": {
    "name": "ipython",
    "version": 2
   },
   "file_extension": ".py",
   "mimetype": "text/x-python",
   "name": "python",
   "nbconvert_exporter": "python",
   "pygments_lexer": "ipython2",
   "version": "2.7.13"
  }
 },
 "nbformat": 4,
 "nbformat_minor": 2
}
