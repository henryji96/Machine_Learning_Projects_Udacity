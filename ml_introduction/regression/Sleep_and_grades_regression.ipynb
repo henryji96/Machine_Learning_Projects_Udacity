{
 "cells": [
  {
   "cell_type": "code",
   "execution_count": 1,
   "metadata": {
    "collapsed": false
   },
   "outputs": [
    {
     "name": "stdout",
     "output_type": "stream",
     "text": [
      "Your linear model is y=5.51351351351*x+30.7027027027\n"
     ]
    }
   ],
   "source": [
    "#\n",
    "#\n",
    "# Regression and Classification programming exercises\n",
    "#\n",
    "#\n",
    "\n",
    "\n",
    "#\n",
    "#\tIn this exercise we will be taking a small data set and computing a linear function\n",
    "#\tthat fits it, by hand.\n",
    "#\t\n",
    "\n",
    "#\tthe data set\n",
    "\n",
    "import numpy as np\n",
    "\n",
    "sleep = [5,6,7,8,10]\n",
    "scores = [65,51,75,75,86]\n",
    "\n",
    "\n",
    "def compute_regression(sleep,scores):\n",
    "\n",
    "    #\tFirst, compute the average amount of each list\n",
    "\n",
    "    avg_sleep = np.mean(sleep)\n",
    "    avg_scores = np.mean(scores)\n",
    "\n",
    "    #\tThen normalize the lists by subtracting the mean value from each entry\n",
    "\n",
    "    normalized_sleep = sleep-avg_sleep\n",
    "    normalized_scores = scores-avg_scores\n",
    "\n",
    "    #\tCompute the slope of the line by taking the sum over each student\n",
    "    #\tof the product of their normalized sleep times their normalized test score.\n",
    "    #\tThen divide this by the sum of squares of the normalized sleep times.\n",
    "\n",
    "    slope = sum(normalized_sleep*normalized_scores)/sum(normalized_sleep*normalized_sleep)\n",
    "\n",
    "    #\tFinally, We have a linear function of the form\n",
    "    #\ty - avg_y = slope * ( x - avg_x )\n",
    "    #\tRewrite this function in the form\n",
    "    #\ty = m * x + b\n",
    "    #\tThen return the values m, b\n",
    "    #y=slope*(x-avg_sleep)+avg_scores\n",
    "    m=slope\n",
    "    b=avg_scores-slope*avg_sleep\n",
    "    return m,b\n",
    "\n",
    "\n",
    "if __name__==\"__main__\":\n",
    "    m,b = compute_regression(sleep,scores)\n",
    "    print \"Your linear model is y={}*x+{}\".format(m,b)"
   ]
  },
  {
   "cell_type": "code",
   "execution_count": null,
   "metadata": {
    "collapsed": true
   },
   "outputs": [],
   "source": []
  }
 ],
 "metadata": {
  "kernelspec": {
   "display_name": "Python [conda root]",
   "language": "python",
   "name": "conda-root-py"
  },
  "language_info": {
   "codemirror_mode": {
    "name": "ipython",
    "version": 2
   },
   "file_extension": ".py",
   "mimetype": "text/x-python",
   "name": "python",
   "nbconvert_exporter": "python",
   "pygments_lexer": "ipython2",
   "version": "2.7.13"
  }
 },
 "nbformat": 4,
 "nbformat_minor": 2
}
