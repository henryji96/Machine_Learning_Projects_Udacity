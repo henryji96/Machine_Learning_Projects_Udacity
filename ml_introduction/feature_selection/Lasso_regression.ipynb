{
 "cells": [
  {
   "cell_type": "code",
   "execution_count": 24,
   "metadata": {
    "collapsed": false,
    "scrolled": true
   },
   "outputs": [
    {
     "name": "stdout",
     "output_type": "stream",
     "text": [
      "slope: [ 0.95428571]\n",
      "intercept: 0.125714285714\n",
      "r2 score on test data: 0.987330612245\n",
      "[3 1 5 2]\n",
      "[ 2.98857143  1.08        4.89714286  2.03428571]\n"
     ]
    },
    {
     "data": {
      "image/png": "[encoded data removed]",
      "text/plain": [
       "<matplotlib.figure.Figure at 0xab6e160>"
      ]
     },
     "metadata": {},
     "output_type": "display_data"
    }
   ],
   "source": [
    "from sklearn.linear_model import Lasso\n",
    "from sklearn.model_selection import train_test_split\n",
    "import matplotlib.pyplot as plt\n",
    "import numpy as np\n",
    "\n",
    "reg = Lasso(alpha = 0.1)\n",
    "feature=np.array([1,2,3,4,5,6])\n",
    "target=np.array([1,2,3,4,5,6])\n",
    "\n",
    "feature_train,feature_test,target_train,target_test=\\\n",
    "                 train_test_split(feature,target,test_size=0.2)  \n",
    "\n",
    "reg.fit(feature_train.reshape(-1,1), target_train)\n",
    "\n",
    "print 'slope:',reg.coef_\n",
    "print 'intercept:',reg.intercept_\n",
    "print 'r2 score on test data:',reg.score(feature_test.reshape(-1,1),target_test)\n",
    "\n",
    "\n",
    "plt.figure(1)\n",
    "plt.scatter(feature_train,target_train,color='b',alpha=0.7,label='training data')\n",
    "plt.scatter(feature_test,target_test,color='g',alpha=0.7,label='test data')\n",
    "print feature_train\n",
    "print reg.predict(feature_train.reshape(-1,1))\n",
    "plt.plot(feature_train,reg.predict(feature_train.reshape(-1,1)),color='m')\n",
    "plt.xlabel('feature')\n",
    "plt.ylabel('target')\n",
    "plt.legend()\n",
    "plt.show()"
   ]
  },
  {
   "cell_type": "code",
   "execution_count": null,
   "metadata": {
    "collapsed": true
   },
   "outputs": [],
   "source": []
  },
  {
   "cell_type": "code",
   "execution_count": null,
   "metadata": {
    "collapsed": true
   },
   "outputs": [],
   "source": []
  }
 ],
 "metadata": {
  "kernelspec": {
   "display_name": "Python [conda root]",
   "language": "python",
   "name": "conda-root-py"
  },
  "language_info": {
   "codemirror_mode": {
    "name": "ipython",
    "version": 2
   },
   "file_extension": ".py",
   "mimetype": "text/x-python",
   "name": "python",
   "nbconvert_exporter": "python",
   "pygments_lexer": "ipython2",
   "version": "2.7.13"
  }
 },
 "nbformat": 4,
 "nbformat_minor": 2
}
