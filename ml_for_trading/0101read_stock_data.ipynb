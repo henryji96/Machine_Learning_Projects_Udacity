{
 "cells": [
  {
   "cell_type": "markdown",
   "metadata": {},
   "source": [
    "#### Real stock data looks like this\n",
    "\n",
    "+ Date\n",
    "+ Open:in the morning when trading on the exchange began,first price of the day for that stock.\n",
    "+ High: the highest price throughout the day.\n",
    "+ Low:  the lowest price throughout the day.\n",
    "+ Close: at which price did the stock close\n",
    "+ Volume: how many shares of the stock traded altoghter on that day.\n",
    "+ Adjclose: a little different from close\n",
    "\n",
    "\n",
    "Dates start with the most recent dates.    \n",
    "+ Close: actual  price that was reported at the exchange when the stock closed for that day  \n",
    "+ Adjusted Close: the data provider generates for us. It's adjusted for certain things like stocks, splits, and dividend payments."
   ]
  },
  {
   "cell_type": "markdown",
   "metadata": {},
   "source": [
    "#### Pandas dataframe for Open/Heigh........  \n",
    "+ columns: symbols in the stock market    \n",
    "+ rows: the dates over time\n",
    "\n",
    "\n",
    "NaN: not a number\n"
   ]
  },
  {
   "cell_type": "markdown",
   "metadata": {
    "collapsed": true
   },
   "source": [
    "#### Reading in a CSV file\n",
    "You can read in the contents of a CSV (comma-separated values) file into a Pandas dataframe using:\n",
    "\n",
    "+ df = pd.read_csv(<filename>)\n",
    "\n",
    "Selecting rows from a dataframe\n",
    "\n",
    "+ First 5 rows: df.head()\n",
    "+ Last 5 rows: df.tail()\n",
    "+ Similarly, last n rows: df.tail(n)\n",
    "\n"
   ]
  },
  {
   "cell_type": "code",
   "execution_count": 8,
   "metadata": {},
   "outputs": [
    {
     "name": "stdout",
     "output_type": "stream",
     "text": [
      "          Date       Open       High        Low      Close  Adj Close   Volume\n",
      "16  2017-05-09  30.139999  30.180000  29.709999  29.889999  29.889999  3700800\n",
      "17  2017-05-10  29.900000  30.490000  29.889999  30.389999  30.389999  4254300\n",
      "18  2017-05-11  30.250000  31.040001  30.030001  30.959999  30.959999  3107000\n",
      "19  2017-05-12  31.040001  31.430000  30.959999  31.290001  31.290001  3775300\n",
      "20  2017-05-15  31.320000  31.600000  31.299999  31.575001  31.575001   340270\n"
     ]
    }
   ],
   "source": [
    "import pandas as pd\n",
    "def test_run():\n",
    "    \"\"\"Function called by Test Run.\"\"\"\n",
    "    df = pd.read_csv(\"data/HCP.csv\")\n",
    "    print df.tail(n=5)\n",
    "test_run()"
   ]
  },
  {
   "cell_type": "markdown",
   "metadata": {},
   "source": [
    "#### Select rows-slicing\n",
    "df[10:21] --rows between index 10 and 20"
   ]
  },
  {
   "cell_type": "markdown",
   "metadata": {},
   "source": [
    "#### Compute max closing price"
   ]
  },
  {
   "cell_type": "code",
   "execution_count": 9,
   "metadata": {},
   "outputs": [
    {
     "name": "stdout",
     "output_type": "stream",
     "text": [
      "Max close\n",
      "AAPL 156.100006\n",
      "Max close\n",
      "IBM 171.100006\n"
     ]
    }
   ],
   "source": [
    "import pandas as pd\n",
    "\n",
    "def get_max_close(symbol):\n",
    "    \"\"\"Return the mean volume for stock indicated by symbol.   \n",
    "    Note: Data for a stock is stored in file: data/<symbol>.csv\n",
    "    \"\"\"\n",
    "    df = pd.read_csv(\"data/{}.csv\".format(symbol))  # read in data\n",
    "    return df['Close'].max()# TODO: Compute and return the mean volume for this stock\n",
    "\n",
    "\n",
    "\n",
    "for symbol in ['AAPL', 'IBM']:\n",
    "    print \"Max close\"\n",
    "    print symbol, get_max_close(symbol)\n"
   ]
  },
  {
   "cell_type": "markdown",
   "metadata": {},
   "source": [
    "#### Compute mean volume"
   ]
  },
  {
   "cell_type": "code",
   "execution_count": 1,
   "metadata": {},
   "outputs": [
    {
     "name": "stdout",
     "output_type": "stream",
     "text": [
      "Mean Volume\n",
      "AAPL 87230659.8524\n",
      "Mean Volume\n",
      "IBM 5848837.85714\n"
     ]
    }
   ],
   "source": [
    "\"\"\"Compute mean volume\"\"\"\n",
    "\n",
    "import pandas as pd\n",
    "\n",
    "def get_mean_volume(symbol):\n",
    "    \"\"\"Return the mean volume for stock indicated by symbol.\n",
    "    \n",
    "    Note: Data for a stock is stored in file: data/<symbol>.csv\n",
    "    \"\"\"\n",
    "    df = pd.read_csv(\"data/{}.csv\".format(symbol))  # read in data\n",
    "    return df['Volume'].mean()# TODO: Compute and return the mean volume for this stock\n",
    "\n",
    "\n",
    "for symbol in ['AAPL', 'IBM']:\n",
    "    print \"Mean Volume\"\n",
    "    print symbol, get_mean_volume(symbol)\n",
    "\n"
   ]
  },
  {
   "cell_type": "code",
   "execution_count": null,
   "metadata": {
    "collapsed": true
   },
   "outputs": [],
   "source": []
  }
 ],
 "metadata": {
  "kernelspec": {
   "display_name": "Python 2",
   "language": "python",
   "name": "python2"
  },
  "language_info": {
   "codemirror_mode": {
    "name": "ipython",
    "version": 2
   },
   "file_extension": ".py",
   "mimetype": "text/x-python",
   "name": "python",
   "nbconvert_exporter": "python",
   "pygments_lexer": "ipython2",
   "version": "2.7.13"
  }
 },
 "nbformat": 4,
 "nbformat_minor": 2
}
