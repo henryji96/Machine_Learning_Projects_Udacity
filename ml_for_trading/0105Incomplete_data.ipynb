{
 "cells": [
  {
   "cell_type": "markdown",
   "metadata": {},
   "source": [
    "### Pristine data\n",
    "What people think?\n",
    "+ Perfect data recorded minute by minute\n",
    "+ No gaps or missing data points  \n",
    "\n",
    "Reality\n",
    "+ Data is an amalgamation from many sources.\n",
    "+ Different data providers will provide different numbers actually.\n",
    "+ Not all stocks trade everyday. Espically those companies that don't have a high market capitalization.\n",
    "### Why this is bad?\n",
    "When we do something like compute moving average or mean, and there's nans there, that will wipe out our entire calculation.\n",
    "1. **Fill forward from the last previous value, there will be gap in price. But it avoid the problem that we actually giving ourselves fake trend infomation about the future.**\n",
    "2. **Fill backward for the convenience of moving average.**"
   ]
  },
  {
   "cell_type": "markdown",
   "metadata": {},
   "source": [
    "### [Pandas fillna()](http://pandas.pydata.org/pandas-docs/stable/generated/pandas.DataFrame.fillna.html  )\n",
    "You could also use the 'pad' method, same as 'ffill': fillna(method='pad')\n",
    "\n",
    "Correction: The inplace parameter accepts a boolean value (whereas method accepts a string), so the function call (in line 47) should look like:"
   ]
  },
  {
   "cell_type": "code",
   "execution_count": 5,
   "metadata": {
    "collapsed": true
   },
   "outputs": [],
   "source": [
    "def fill_missing_values(df_data):\n",
    "    df_data.fillna(method='ffill',inplace=True)#fill forward\n",
    "    df_data.fillna(method='bfill',inplace=True)#fill backward"
   ]
  }
 ],
 "metadata": {
  "kernelspec": {
   "display_name": "Python 2",
   "language": "python",
   "name": "python2"
  },
  "language_info": {
   "codemirror_mode": {
    "name": "ipython",
    "version": 2
   },
   "file_extension": ".py",
   "mimetype": "text/x-python",
   "name": "python",
   "nbconvert_exporter": "python",
   "pygments_lexer": "ipython2",
   "version": "2.7.13"
  }
 },
 "nbformat": 4,
 "nbformat_minor": 2
}
