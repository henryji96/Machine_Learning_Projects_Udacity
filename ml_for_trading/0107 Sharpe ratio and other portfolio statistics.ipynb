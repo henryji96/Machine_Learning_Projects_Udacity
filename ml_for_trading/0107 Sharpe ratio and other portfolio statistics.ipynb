{
 "cells": [
  {
   "cell_type": "markdown",
   "metadata": {},
   "source": [
    "**Portfolio**: an allocation of funds to a set of stocks.  \n",
    "We are going to follow a buy-and-hold strategy where we invest in a set of stocks with a certain allocation and then observe how things go moving forward.    \n",
    "We assume the allocation sum to 1.0 .  "
   ]
  },
  {
   "cell_type": "markdown",
   "metadata": {},
   "source": [
    "### Daily portfolio values\n",
    "We want to calculate the total value of a portfolio day by day by day.  \n",
    "Once we have that infomation, we can compute the statistics on the overall portfolio.  \n",
    "example:  \n",
    "+ start_val=1,000,000\n",
    "+ start-date=2009-1-1\n",
    "+ end_date=2011-12-31\n",
    "+ symbol=['SPY','XOM','GOOG','GLD']\n",
    "+ allocs=[0.4,0.4,0.1,0.1]"
   ]
  },
  {
   "cell_type": "markdown",
   "metadata": {},
   "source": [
    "+ normalized these price -- normed=prices/prices[0]   \n",
    "[1.0,1.0,1.0,1.0]\n",
    "The frist row are all 1.0. The data precedes after that are essentially cumulative returns starting from the start date.\n",
    "+ multiply the normed values by the allocation of each of equities -- alloced=normed\\*allocs  \n",
    "[0.4,0.4,0.1,0.1]\n",
    "The data after each row will be sized accordingly.\n",
    "+ multiply our alloced dataframe times start-val -- pos_vals=alloced\\*start_val   \n",
    "[400000,400000,100000,100000]\n",
    "position values: at each day how much that position is worth.\n",
    "In the first row, the amount of cash allocated to each asset, and then going forward to see the amount of that asset overtime.\n",
    "+ Now we have the value of each day for the individual assets. We can calculate the total value for the portfolio each day by summing across each day -- port_val=pos_vals.sum(axis=1)\n",
    "the first day: 1000,000; the second day will change a little bit."
   ]
  },
  {
   "cell_type": "code",
   "execution_count": 16,
   "metadata": {},
   "outputs": [
    {
     "name": "stdout",
     "output_type": "stream",
     "text": [
      "2010-01-04    1.000000e+06\n",
      "2010-01-05    1.002089e+06\n",
      "2010-01-06    1.004981e+06\n",
      "dtype: float64\n"
     ]
    }
   ],
   "source": [
    "def compute_daily_portfolio_values(dates,symbols,allocs,initial_capital):\n",
    "    df=get_data(symbols,dates)\n",
    "    normed=normalize_data(df)\n",
    "    alloced=normed*allocs\n",
    "    pos_vals=alloced*initial_capital\n",
    "    port_val=pos_vals.sum(axis=1)\n",
    "    return port_val\n",
    "#test run\n",
    "dates=pd.date_range('2009-01-01','2012-12-31')\n",
    "symbols=['SPY','XOM','GOOG','GLD']\n",
    "allocs=[0.4,0.4,0.1,0.1]\n",
    "initial_capital=1000000\n",
    "port_val=compute_daily_portfolio_values(dates,symbols,allocs,initial_capital)\n",
    "print port_val.head(3)"
   ]
  },
  {
   "cell_type": "code",
   "execution_count": 9,
   "metadata": {},
   "outputs": [
    {
     "data": {
      "text/html": [
       "<div>\n",
       "<style>\n",
       "    .dataframe thead tr:only-child th {\n",
       "        text-align: right;\n",
       "    }\n",
       "\n",
       "    .dataframe thead th {\n",
       "        text-align: left;\n",
       "    }\n",
       "\n",
       "    .dataframe tbody tr th {\n",
       "        vertical-align: top;\n",
       "    }\n",
       "</style>\n",
       "<table border=\"1\" class=\"dataframe\">\n",
       "  <thead>\n",
       "    <tr style=\"text-align: right;\">\n",
       "      <th></th>\n",
       "      <th>SPY</th>\n",
       "      <th>XOM</th>\n",
       "      <th>GOOG</th>\n",
       "      <th>GLD</th>\n",
       "    </tr>\n",
       "  </thead>\n",
       "  <tbody>\n",
       "    <tr>\n",
       "      <th>2010-01-04</th>\n",
       "      <td>97.788948</td>\n",
       "      <td>69.150002</td>\n",
       "      <td>313.062468</td>\n",
       "      <td>109.800003</td>\n",
       "    </tr>\n",
       "    <tr>\n",
       "      <th>2010-01-05</th>\n",
       "      <td>98.047805</td>\n",
       "      <td>69.419998</td>\n",
       "      <td>311.683844</td>\n",
       "      <td>109.699997</td>\n",
       "    </tr>\n",
       "  </tbody>\n",
       "</table>\n",
       "</div>"
      ],
      "text/plain": [
       "                  SPY        XOM        GOOG         GLD\n",
       "2010-01-04  97.788948  69.150002  313.062468  109.800003\n",
       "2010-01-05  98.047805  69.419998  311.683844  109.699997"
      ]
     },
     "metadata": {},
     "output_type": "display_data"
    },
    {
     "data": {
      "text/html": [
       "<div>\n",
       "<style>\n",
       "    .dataframe thead tr:only-child th {\n",
       "        text-align: right;\n",
       "    }\n",
       "\n",
       "    .dataframe thead th {\n",
       "        text-align: left;\n",
       "    }\n",
       "\n",
       "    .dataframe tbody tr th {\n",
       "        vertical-align: top;\n",
       "    }\n",
       "</style>\n",
       "<table border=\"1\" class=\"dataframe\">\n",
       "  <thead>\n",
       "    <tr style=\"text-align: right;\">\n",
       "      <th></th>\n",
       "      <th>SPY</th>\n",
       "      <th>XOM</th>\n",
       "      <th>GOOG</th>\n",
       "      <th>GLD</th>\n",
       "    </tr>\n",
       "  </thead>\n",
       "  <tbody>\n",
       "    <tr>\n",
       "      <th>2010-01-04</th>\n",
       "      <td>1.000000</td>\n",
       "      <td>1.000000</td>\n",
       "      <td>1.000000</td>\n",
       "      <td>1.000000</td>\n",
       "    </tr>\n",
       "    <tr>\n",
       "      <th>2010-01-05</th>\n",
       "      <td>1.002647</td>\n",
       "      <td>1.003904</td>\n",
       "      <td>0.995596</td>\n",
       "      <td>0.999089</td>\n",
       "    </tr>\n",
       "  </tbody>\n",
       "</table>\n",
       "</div>"
      ],
      "text/plain": [
       "                 SPY       XOM      GOOG       GLD\n",
       "2010-01-04  1.000000  1.000000  1.000000  1.000000\n",
       "2010-01-05  1.002647  1.003904  0.995596  0.999089"
      ]
     },
     "metadata": {},
     "output_type": "display_data"
    },
    {
     "data": {
      "text/html": [
       "<div>\n",
       "<style>\n",
       "    .dataframe thead tr:only-child th {\n",
       "        text-align: right;\n",
       "    }\n",
       "\n",
       "    .dataframe thead th {\n",
       "        text-align: left;\n",
       "    }\n",
       "\n",
       "    .dataframe tbody tr th {\n",
       "        vertical-align: top;\n",
       "    }\n",
       "</style>\n",
       "<table border=\"1\" class=\"dataframe\">\n",
       "  <thead>\n",
       "    <tr style=\"text-align: right;\">\n",
       "      <th></th>\n",
       "      <th>SPY</th>\n",
       "      <th>XOM</th>\n",
       "      <th>GOOG</th>\n",
       "      <th>GLD</th>\n",
       "    </tr>\n",
       "  </thead>\n",
       "  <tbody>\n",
       "    <tr>\n",
       "      <th>2010-01-04</th>\n",
       "      <td>0.400000</td>\n",
       "      <td>0.400000</td>\n",
       "      <td>0.10000</td>\n",
       "      <td>0.100000</td>\n",
       "    </tr>\n",
       "    <tr>\n",
       "      <th>2010-01-05</th>\n",
       "      <td>0.401059</td>\n",
       "      <td>0.401562</td>\n",
       "      <td>0.09956</td>\n",
       "      <td>0.099909</td>\n",
       "    </tr>\n",
       "  </tbody>\n",
       "</table>\n",
       "</div>"
      ],
      "text/plain": [
       "                 SPY       XOM     GOOG       GLD\n",
       "2010-01-04  0.400000  0.400000  0.10000  0.100000\n",
       "2010-01-05  0.401059  0.401562  0.09956  0.099909"
      ]
     },
     "metadata": {},
     "output_type": "display_data"
    },
    {
     "data": {
      "text/html": [
       "<div>\n",
       "<style>\n",
       "    .dataframe thead tr:only-child th {\n",
       "        text-align: right;\n",
       "    }\n",
       "\n",
       "    .dataframe thead th {\n",
       "        text-align: left;\n",
       "    }\n",
       "\n",
       "    .dataframe tbody tr th {\n",
       "        vertical-align: top;\n",
       "    }\n",
       "</style>\n",
       "<table border=\"1\" class=\"dataframe\">\n",
       "  <thead>\n",
       "    <tr style=\"text-align: right;\">\n",
       "      <th></th>\n",
       "      <th>SPY</th>\n",
       "      <th>XOM</th>\n",
       "      <th>GOOG</th>\n",
       "      <th>GLD</th>\n",
       "    </tr>\n",
       "  </thead>\n",
       "  <tbody>\n",
       "    <tr>\n",
       "      <th>2010-01-04</th>\n",
       "      <td>400000.000000</td>\n",
       "      <td>400000.000000</td>\n",
       "      <td>100000.000000</td>\n",
       "      <td>100000.000000</td>\n",
       "    </tr>\n",
       "    <tr>\n",
       "      <th>2010-01-05</th>\n",
       "      <td>401058.839492</td>\n",
       "      <td>401561.798943</td>\n",
       "      <td>99559.632936</td>\n",
       "      <td>99908.919857</td>\n",
       "    </tr>\n",
       "  </tbody>\n",
       "</table>\n",
       "</div>"
      ],
      "text/plain": [
       "                      SPY            XOM           GOOG            GLD\n",
       "2010-01-04  400000.000000  400000.000000  100000.000000  100000.000000\n",
       "2010-01-05  401058.839492  401561.798943   99559.632936   99908.919857"
      ]
     },
     "metadata": {},
     "output_type": "display_data"
    },
    {
     "data": {
      "text/plain": [
       "2010-01-04    1.000000e+06\n",
       "2010-01-05    1.002089e+06\n",
       "2010-01-06    1.004981e+06\n",
       "2010-01-07    1.002515e+06\n",
       "2010-01-08    1.004001e+06\n",
       "dtype: float64"
      ]
     },
     "metadata": {},
     "output_type": "display_data"
    }
   ],
   "source": [
    "from IPython.display import display\n",
    "import pandas as pd\n",
    "#prices\n",
    "dates=pd.date_range('2009-01-01','2012-12-31')\n",
    "symbols=['SPY','XOM','GOOG','GLD']\n",
    "df=get_data(symbols,dates)\n",
    "display(df.head(2))\n",
    "#normed\n",
    "normed=normalize_data(df)\n",
    "display(normed.head(2))   #cumulative returns starting from the start date\n",
    "#alloced\n",
    "allocs=[0.4,0.4,0.1,0.1]\n",
    "alloced=normed*allocs\n",
    "display(alloced.head(2))\n",
    "#pos_vals-values at each day for the individual assets\n",
    "pos_vals=alloced*1000000\n",
    "display(pos_vals.head(2))\n",
    "#total value for the portfolio each day\n",
    "port_val=pos_vals.sum(axis=1)\n",
    "display(port_val.head(5))"
   ]
  },
  {
   "cell_type": "markdown",
   "metadata": {},
   "source": [
    "## Daily Portfolio Statistics\n",
    "1. **cumulative return**\n",
    "2. **average daily return**\n",
    "3. **risk-std of daily return**\n",
    "4. **sharpe ratio**"
   ]
  },
  {
   "cell_type": "code",
   "execution_count": 10,
   "metadata": {},
   "outputs": [
    {
     "data": {
      "text/plain": [
       "(0.29593536344951765,\n",
       " 0.00039744149035923554,\n",
       " 0.010305580925831418,\n",
       " 0.029505910121487757)"
      ]
     },
     "execution_count": 10,
     "metadata": {},
     "output_type": "execute_result"
    }
   ],
   "source": [
    "def compute_portfolio_statistics(port_val,frequency,annual_daily_rf_bank=0.1):\n",
    "    port_rets=compute_daily_returns(port_val)[1:]\n",
    "    \n",
    "    cum_ret=(port_val[-1]/port_val[0]-1)\n",
    "    avg_daily_ret=port_rets.mean()\n",
    "    std_daily_ret=port_rets.std()\n",
    "    \n",
    "    if frequency=='daily':\n",
    "        K=252**(1.0/2)\n",
    "    elif frequency=='weekly':\n",
    "        K=52**(1.0/2)\n",
    "    elif frequency=='monthly':\n",
    "        K=12**(1.0/2)\n",
    "        \n",
    "    daily_rf=(1+annual_daily_rf_bank)**(1.0/252)-1  \n",
    "    sharp_ratio=K*(avg_daily_ret-daily_rf)/std_daily_ret\n",
    "    \n",
    "    return cum_ret,avg_daily_ret,std_daily_ret,sharp_ratio\n",
    "compute_portfolio_statistics(port_val,'daily',0.1)"
   ]
  },
  {
   "cell_type": "code",
   "execution_count": 48,
   "metadata": {},
   "outputs": [
    {
     "data": {
      "text/plain": [
       "2010-01-05    0.002089\n",
       "2010-01-06    0.002886\n",
       "2010-01-07   -0.002454\n",
       "2010-01-08    0.001482\n",
       "2010-01-11    0.006254\n",
       "dtype: float64"
      ]
     },
     "metadata": {},
     "output_type": "display_data"
    }
   ],
   "source": [
    "#the first value is 0, as on the first day there's no change\n",
    "#we wanna exclude that value for any calculations\n",
    "port_rets=compute_daily_returns(port_val)[1:]\n",
    "display(port_rets.head(5))"
   ]
  },
  {
   "cell_type": "code",
   "execution_count": 49,
   "metadata": {},
   "outputs": [
    {
     "name": "stdout",
     "output_type": "stream",
     "text": [
      "0.29593536345\n",
      "0.000397441490359\n",
      "0.0103055809258\n"
     ]
    }
   ],
   "source": [
    "cum_ret=(port_val[-1]/port_val[0]-1)\n",
    "print cum_ret\n",
    "\n",
    "avg_daily_ret=port_rets.mean()\n",
    "print avg_daily_ret\n",
    "\n",
    "std_daily_ret=port_rets.std()\n",
    "print std_daily_ret"
   ]
  },
  {
   "cell_type": "markdown",
   "metadata": {},
   "source": [
    "## Sharp Ratio-risk adjusted return   \n",
    "Sharp Ratio enables us in a quantitative way to assess each portfolios.  \n",
    "\n",
    "\n",
    "all else being equal\n",
    "+ lower risk is better\n",
    "+ higher return is better   \n",
    "\n",
    "sharp ratio also considers      \n",
    "+ risk free rate of return\n",
    "+ 0%\n",
    "+ the interest rate you would get on your money if you put is in a risk free asset like bank account\n",
    "+ maybe the asset we've got isn't performing as well as the return I would get if I just put it in the bank account.\n",
    "\n",
    "formula\n",
    "+ (Rp-Rf)/std_daily_ret\n",
    "+ (portfolio return-risk free return)/std of portfolio return\n",
    "+ numerator Rp=As port return goes us, the metric goes up.\n",
    "+ numerator Rf=As risk free return increases, the metric decreases.\n",
    "+ denominator=Most finance folks consider risk to be standard deviation or volatility. As things become more volatile, sharp ratio goes down.\n",
    "\n",
    "\n",
    "## Computing Sharp Ratio\n",
    "S=E(Rp-Rf)/std(Rp-Rf)\n",
    "+ **S=mean(daily_rets-daily_rf)/std(daily_rets-daily_rf)**\n",
    "\n",
    "traditional shortcut:  \n",
    "+ risk_free_rate=LIBOR/3 month treasury rate/0  \n",
    "S=mean(daily_rets-daily_rf)/std(daily_rets)   \n",
    "\n",
    "\n",
    "Start with annual Rf=0.1, at the end of the year we have 1.1  \n",
    "What's the interest rate per day that enable us to get this value?  \n",
    "**daily_rf=$\\sqrt[252]{1.0+0.1}-1$**"
   ]
  },
  {
   "cell_type": "markdown",
   "metadata": {},
   "source": [
    "+ SR can vary widely depending on **frequency** you sample\n",
    "+ SR is an annual measure\n",
    "+ SRannualized=K\\*SR\n",
    "+ K=$\\sqrt{numberofsamplesperyear}$\n",
    "+ daily sample-K=$\\sqrt{252}$\n",
    "+ weekly sample-K=$\\sqrt{52}$\n",
    "+ monthly sample-K=$\\sqrt{12}$"
   ]
  },
  {
   "cell_type": "code",
   "execution_count": 61,
   "metadata": {},
   "outputs": [
    {
     "name": "stdout",
     "output_type": "stream",
     "text": [
      "0.0295059101215\n"
     ]
    }
   ],
   "source": [
    "daily_rf=1.1**(1.0/252)-1  \n",
    "sharp_ratio=252**(1.0/2)*(avg_daily_ret-daily_rf)/std_daily_ret\n",
    "print sharp_ratio"
   ]
  },
  {
   "cell_type": "code",
   "execution_count": 6,
   "metadata": {
    "collapsed": true
   },
   "outputs": [],
   "source": [
    "import pandas as pd\n",
    "import os\n",
    "def symbol_to_path(symbol, base_dir=\"data\"):\n",
    "    \"\"\"Return CSV file path given ticker symbol.\"\"\"\n",
    "    return os.path.join(base_dir, \"{}.csv\".format(str(symbol)))\n",
    "########################################################################\n",
    "def get_data(symbols, dates):\n",
    "    \"\"\"Read stock data (adjusted close) for given symbols from CSV files.\"\"\"\n",
    "    df = pd.DataFrame(index=dates)# 1create empty df for designated date\n",
    "    \n",
    "    if 'SPY' not in symbols:  # 2add SPY for reference, if absent\n",
    "        symbols.insert(0, 'SPY')\n",
    "\n",
    "    for symbol in symbols:\n",
    "        df_temp=pd.read_csv(symbol_to_path(symbol, base_dir=\"data\"), # 3read in data from the symbol\n",
    "                           index_col='Date',\n",
    "                           parse_dates=True,\n",
    "                           usecols=['Date','Adj Close'],\n",
    "                           na_values=['nan'])\n",
    "        df_temp=df_temp.rename(columns={'Adj Close':symbol})       # 4rename the adjust close column to the symbol name\n",
    "        df=df.join(df_temp) \n",
    "        if symbol =='SPY':#5drop rows where SPY is na/ensure SPY is used as a reference-we don't have na values in the spy column\n",
    "            df=df.dropna(subset=['SPY'])\n",
    "    return df\n",
    "########################################################################\n",
    "def normalize_data(df):\n",
    "    return df/df.iloc[0,:]\n",
    "########################################################################\n",
    "def plot_selected(df, columns, start_index, end_index):\n",
    "    \"\"\"Plot the desired columns over index values in the given range.\"\"\"\n",
    "    # TODO: Your code here\n",
    "    # Note: DO NOT modify anything else!\n",
    "    plot_data(df.loc[start_index:end_index,columns],title='Selected data')\n",
    "\n",
    "def plot_data(df, title=\"Stock prices\"):\n",
    "    \"\"\"Plot stock prices with a custom title and meaningful axis labels.\"\"\"\n",
    "    ax = df.plot(title=title, fontsize=12)\n",
    "    ax.set_xlabel(\"Date\")\n",
    "    ax.set_ylabel(\"Price\")\n",
    "    plt.show()\n",
    "########################################################################\n",
    "def get_bollinger_bands(rm,rstd):\n",
    "    upper_band=rm+2*rstd\n",
    "    lower_band=rm-2*rstd\n",
    "    return upper_band,lower_band\n",
    "\n",
    "def get_rolling_mean(values, window):\n",
    "    \"\"\"Return rolling mean of given values, using specified window size.\"\"\"\n",
    "    return values.rolling( window=window,center=False).mean()\n",
    "\n",
    "\n",
    "def get_rolling_std(values, window):\n",
    "    \"\"\"Return rolling standard deviation of given values, using specified window size.\"\"\"\n",
    "    # TODO: Compute and return rolling standard deviation\n",
    "    return values.rolling(window=window,center=False).std()\n",
    "########################################################################\n",
    "\n",
    "def compute_daily_returns(df):\n",
    "    \"\"\"Compute and return the daily return values.\"\"\"\n",
    "    daily_returns=df.copy()\n",
    "    daily_returns.iloc[1:]=(df[1:]/df[:-1].values)-1\n",
    "    daily_returns.iloc[0]=0\n",
    "    return daily_returns\n",
    "########################################################################\n",
    "def fill_missing_values(df_data):\n",
    "    df_data.fillna(method='ffill',inplace=True)#fill forward\n",
    "    df_data.fillna(method='bfill',inplace=True)#fill backward"
   ]
  },
  {
   "cell_type": "code",
   "execution_count": null,
   "metadata": {
    "collapsed": true
   },
   "outputs": [],
   "source": []
  }
 ],
 "metadata": {
  "kernelspec": {
   "display_name": "Python 2",
   "language": "python",
   "name": "python2"
  },
  "language_info": {
   "codemirror_mode": {
    "name": "ipython",
    "version": 2
   },
   "file_extension": ".py",
   "mimetype": "text/x-python",
   "name": "python",
   "nbconvert_exporter": "python",
   "pygments_lexer": "ipython2",
   "version": "2.7.13"
  }
 },
 "nbformat": 4,
 "nbformat_minor": 2
}
