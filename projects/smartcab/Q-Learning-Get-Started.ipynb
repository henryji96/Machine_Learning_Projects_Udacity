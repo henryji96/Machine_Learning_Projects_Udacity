{
 "cells": [
  {
   "cell_type": "markdown",
   "metadata": {},
   "source": [
    "# Code for a painless q-learning tutorial\n",
    "\n",
    "- refer to <http://mnemstudio.org/path-finding-q-learning-tutorial.htm>\n",
    "- build a simple AI based on `numpy` and `random`.\n",
    "- write this just for study"
   ]
  },
  {
   "cell_type": "code",
   "execution_count": 6,
   "metadata": {
    "collapsed": true
   },
   "outputs": [],
   "source": [
    "import numpy as np\n",
    "import random"
   ]
  },
  {
   "cell_type": "code",
   "execution_count": 7,
   "metadata": {},
   "outputs": [],
   "source": [
    "#   Initialize matrix Q to zero\n",
    "q = np.zeros([6, 6])\n",
    "q = np.matrix(q)\n",
    "\n",
    "#   Set environment rewards in matrix R\n",
    "r = np.array([[-1, -1, -1, -1, 0, -1],\\\n",
    "              [-1, -1, -1, 0, -1, 100], \\\n",
    "              [-1, -1, -1, 0, -1, -1], \\\n",
    "              [-1, 0, 0, -1, 0, -1], \\\n",
    "              [0, -1, -1, 0, -1, 100], \\\n",
    "              [-1, 0, -1, -1, 0, 100]])\n",
    "r = np.matrix(r)\n",
    "\n",
    "#   Set the gamma parameter, and \n",
    "gamma = 0.8"
   ]
  },
  {
   "cell_type": "code",
   "execution_count": 10,
   "metadata": {},
   "outputs": [],
   "source": [
    "# train 100 episode\n",
    "for i in range(100): \n",
    "    state = random.randint(0, 5)\n",
    "    while (state != 5):\n",
    "        # choose positive r-value action randomly\n",
    "        r_pos_action = []\n",
    "        for action in range(6):\n",
    "            if r[state, action] >= 0:\n",
    "                r_pos_action.append(action)\n",
    "        \n",
    "        next_state = r_pos_action[random.randint(0, len(r_pos_action) - 1)]\n",
    "        q[state, next_state] = r[state, next_state] + gamma * q[next_state].max()\n",
    "        state = next_state"
   ]
  },
  {
   "cell_type": "code",
   "execution_count": null,
   "metadata": {
    "collapsed": true
   },
   "outputs": [],
   "source": [
    "random.randint()"
   ]
  },
  {
   "cell_type": "code",
   "execution_count": 11,
   "metadata": {},
   "outputs": [
    {
     "name": "stdout",
     "output_type": "stream",
     "text": [
      "episode: 1\n",
      "the robot borns in 0.\n",
      "the robot goes to 4.\n",
      "the robot goes to 5.\n",
      "episode: 2\n",
      "the robot borns in 2.\n",
      "the robot goes to 3.\n",
      "the robot goes to 1.\n",
      "the robot goes to 5.\n",
      "episode: 3\n",
      "the robot borns in 2.\n",
      "the robot goes to 3.\n",
      "the robot goes to 4.\n",
      "the robot goes to 5.\n",
      "episode: 4\n",
      "the robot borns in 4.\n",
      "the robot goes to 5.\n",
      "episode: 5\n",
      "the robot borns in 3.\n",
      "the robot goes to 4.\n",
      "the robot goes to 5.\n",
      "episode: 6\n",
      "the robot borns in 2.\n",
      "the robot goes to 3.\n",
      "the robot goes to 4.\n",
      "the robot goes to 5.\n",
      "episode: 7\n",
      "the robot borns in 3.\n",
      "the robot goes to 4.\n",
      "the robot goes to 5.\n",
      "episode: 8\n",
      "the robot borns in 1.\n",
      "the robot goes to 5.\n",
      "episode: 9\n",
      "the robot borns in 2.\n",
      "the robot goes to 3.\n",
      "the robot goes to 1.\n",
      "the robot goes to 5.\n",
      "episode: 10\n",
      "the robot borns in 5.\n"
     ]
    }
   ],
   "source": [
    "# test 10 episode\n",
    "for i in range(10):\n",
    "    print(\"episode: \"+str(i + 1))\n",
    "    \n",
    "    # random initial state\n",
    "    state = random.randint(0, 5)\n",
    "    print(\"the robot borns in \" + str(state) + \".\")\n",
    "    count = 0\n",
    "    while (state != 5):\n",
    "        # prevent endless loop\n",
    "        if count > 20:\n",
    "            print('fails')\n",
    "            break\n",
    "            \n",
    "        # choose maximal q-value action randomly\n",
    "        q_max = -100\n",
    "        for action in range(6):\n",
    "            if q[state, action] > q_max:\n",
    "                q_max = q[state, action]\n",
    "            \n",
    "        q_max_action = []\n",
    "        for action in range(6):\n",
    "            if q[state, action] == q_max:\n",
    "                q_max_action.append(action)\n",
    "                \n",
    "        next_state = q_max_action[random.randint(0, len(q_max_action) - 1)]\n",
    "        \n",
    "        print(\"the robot goes to \" + str(next_state) + '.')\n",
    "        state = next_state\n",
    "        count = count + 1"
   ]
  },
  {
   "cell_type": "markdown",
   "metadata": {
    "collapsed": true
   },
   "source": [
    "Now the robot shows his ability to find the correct path rapidly."
   ]
  },
  {
   "cell_type": "code",
   "execution_count": null,
   "metadata": {
    "collapsed": true
   },
   "outputs": [],
   "source": []
  }
 ],
 "metadata": {
  "kernelspec": {
   "display_name": "Python 2",
   "language": "python",
   "name": "python2"
  },
  "language_info": {
   "codemirror_mode": {
    "name": "ipython",
    "version": 2
   },
   "file_extension": ".py",
   "mimetype": "text/x-python",
   "name": "python",
   "nbconvert_exporter": "python",
   "pygments_lexer": "ipython2",
   "version": "2.7.13"
  }
 },
 "nbformat": 4,
 "nbformat_minor": 2
}
