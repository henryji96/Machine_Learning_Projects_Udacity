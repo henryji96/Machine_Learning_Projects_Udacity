{
 "cells": [
  {
   "cell_type": "raw",
   "metadata": {},
   "source": [
    "LabelEncoder，即使转化为数字表示后，上述数据也不能直接用在我们的分类器中。\n",
    "因为，分类器往往默认数据数据是连续的，并且是有序的。但是，按照我们上述的表示，数字并不是有序的，而是随机分配的。\n",
    "为了解决上述问题，其中一种可能的解决方法是采用独热编码（One-Hot Encoding）。\n",
    "独热编码即 One-Hot 编码，又称一位有效编码，其方法是使用N位状态寄存器来对N个状态进行编码，\n",
    "每个状态都由他独立的寄存器位，并且在任意时候，其中只有一位有效。"
   ]
  },
  {
   "cell_type": "code",
   "execution_count": 3,
   "metadata": {
    "collapsed": false
   },
   "outputs": [
    {
     "name": "stdout",
     "output_type": "stream",
     "text": [
      "     0    1    2    3    4    5    6    7    8\n",
      "0  0.0  0.0  0.0  1.0  0.0  0.0  1.0  0.0  1.0\n",
      "1  0.0  1.0  0.0  0.0  1.0  0.0  0.0  1.0  0.0\n",
      "2  0.0  0.0  0.0  1.0  0.0  0.0  1.0  1.0  0.0\n",
      "3  0.0  0.0  0.0  1.0  1.0  0.0  0.0  1.0  0.0\n",
      "4  0.0  0.0  0.0  1.0  0.0  0.0  1.0  0.0  1.0\n",
      "    Age     Fare  SibSp  Parch\n",
      "0  22.0   7.2500      1      0\n",
      "1  38.0  71.2833      1      0\n",
      "2  26.0   7.9250      0      0\n",
      "3  35.0  53.1000      1      0\n",
      "4  35.0   8.0500      0      0\n",
      "     0    1    2    3    4    5    6    7    8   Age     Fare  SibSp  Parch\n",
      "0  0.0  0.0  0.0  1.0  0.0  0.0  1.0  0.0  1.0  22.0   7.2500      1      0\n",
      "1  0.0  1.0  0.0  0.0  1.0  0.0  0.0  1.0  0.0  38.0  71.2833      1      0\n",
      "2  0.0  0.0  0.0  1.0  0.0  0.0  1.0  1.0  0.0  26.0   7.9250      0      0\n",
      "3  0.0  0.0  0.0  1.0  1.0  0.0  0.0  1.0  0.0  35.0  53.1000      1      0\n",
      "4  0.0  0.0  0.0  1.0  0.0  0.0  1.0  0.0  1.0  35.0   8.0500      0      0\n"
     ]
    }
   ],
   "source": [
    "import pandas as pd\n",
    "import numpy as np\n",
    "from sklearn.preprocessing import OneHotEncoder,LabelEncoder\n",
    "from sklearn.model_selection import train_test_split,GridSearchCV\n",
    "from sklearn.metrics import accuracy_score\n",
    "import os\n",
    "#import sys   if import functions from other fold files   sys.path.append\n",
    "#path=os.path.join('../projects/titanic_survival_exploration/titanic_data.csv')\n",
    "titanic_df=pd.read_csv(open('titanic_data.csv','r'))\n",
    "titanic_cl=titanic_df[['Pclass','Sex','Embarked']]   #分类数据\n",
    "titanic_nu=titanic_df[['Age','Fare','SibSp','Parch']] #数值数据\n",
    "\n",
    "survived=titanic_df[['Survived']].values.ravel()   #target needs the shape like row,feature needs the feature with column\n",
    "\n",
    "\n",
    "le=LabelEncoder()\n",
    "pclass_le=le.fit_transform(titanic_cl[['Pclass']])\n",
    "sex_le=le.fit_transform(titanic_cl[['Sex']]) #nparray\n",
    "embarked_le=le.fit_transform(titanic_cl[['Embarked']])\n",
    "titanic_le=pd.DataFrame({'Embarked':embarked_le,\n",
    "                    'Sex':sex_le,\n",
    "                    'Pclass':pclass_le\n",
    "                        })\n",
    "\n",
    "ohe=OneHotEncoder()\n",
    "titanic_cl=ohe.fit_transform(titanic_le).toarray()\n",
    "titanic_ohe=pd.DataFrame(titanic_cl)\n",
    "print titanic_ohe.head()\n",
    "print titanic_nu.head()\n",
    "titanic_df=pd.concat([titanic_ohe,titanic_nu],axis=1)\n",
    "titanic_df=titanic_df.fillna(titanic_df.mean())\n",
    "print titanic_df.head()\n",
    "'''\n",
    "pclass_ohe=ohe.fit_transform(titanic_cl[['Pclass']]).toarray()\n",
    "sex_ohe=ohe.fit_transform(sex_le.reshape(-1,1)).toarray()\n",
    "embarked_ohe=ohe.fit_transform(embarked_le.reshape(-1,1)).toarray()\n",
    "'''\n",
    "\n",
    "\n",
    "\n",
    "feature_train,feature_test,target_train,target_test=\\\n",
    "    train_test_split(titanic_df,survived,test_size=0.2,random_state=40)"
   ]
  },
  {
   "cell_type": "code",
   "execution_count": 8,
   "metadata": {
    "collapsed": false
   },
   "outputs": [
    {
     "name": "stdout",
     "output_type": "stream",
     "text": [
      "fitting time: 0.675 s\n",
      "0.860335195531 0.838709677419\n"
     ]
    }
   ],
   "source": [
    "from time import time\n",
    "\n",
    "from sklearn.ensemble import AdaBoostClassifier\n",
    "from sklearn.metrics import f1_score\n",
    "clf1=AdaBoostClassifier(n_estimators=100)\n",
    "\n",
    "t0=time()\n",
    "clf1.fit(feature_train,target_train)\n",
    "print 'fitting time:',round(time()-t0,3),'s'\n",
    "\n",
    "pred1=clf1.predict(feature_test)\n",
    "acc1=accuracy_score(target_test,pred1)\n",
    "f1=f1_score(target_test,pred1)\n",
    "print acc1,f1"
   ]
  },
  {
   "cell_type": "code",
   "execution_count": null,
   "metadata": {
    "collapsed": true
   },
   "outputs": [],
   "source": [
    "from sklearn.svm import SVC\n",
    "parameter={'kernel':['linear','rbf'],'C':[0.01,0.03,0.3,3]}\n",
    "clf=GridSearchCV(estimator=SVC(),param_grid=parameter,cv=5,scoring='accuracy')\n",
    "clf.fit(feature_train,target_train)\n",
    "print clf.best_estimator_\n",
    "print clf.best_params_\n",
    "#print pd.DataFrame(clf.cv_results_)\n",
    "pred=clf.predict(feature_test)\n",
    "acc=accuracy_score(target_test,pred)\n",
    "print acc"
   ]
  },
  {
   "cell_type": "code",
   "execution_count": null,
   "metadata": {
    "collapsed": false
   },
   "outputs": [],
   "source": [
    "from sklearn.tree import DecisionTreeClassifier\n",
    "from sklearn.metrics import f1_score\n",
    "from time import time\n",
    "\n",
    "clf2=DecisionTreeClassifier()\n",
    "\n",
    "t0=time()\n",
    "clf2.fit(feature_train,target_train)\n",
    "print 'fitting time:',round(time()-t0,3),'s'\n",
    "\n",
    "pred2=clf2.predict(feature_test)\n",
    "acc=accuracy_score(target_test,pred2)\n",
    "f1=f1_score(target_test,pred1)\n",
    "print acc,f1"
   ]
  },
  {
   "cell_type": "code",
   "execution_count": null,
   "metadata": {
    "collapsed": true
   },
   "outputs": [],
   "source": []
  }
 ],
 "metadata": {
  "kernelspec": {
   "display_name": "Python [conda root]",
   "language": "python",
   "name": "conda-root-py"
  },
  "language_info": {
   "codemirror_mode": {
    "name": "ipython",
    "version": 2
   },
   "file_extension": ".py",
   "mimetype": "text/x-python",
   "name": "python",
   "nbconvert_exporter": "python",
   "pygments_lexer": "ipython2",
   "version": "2.7.13"
  }
 },
 "nbformat": 4,
 "nbformat_minor": 2
}
