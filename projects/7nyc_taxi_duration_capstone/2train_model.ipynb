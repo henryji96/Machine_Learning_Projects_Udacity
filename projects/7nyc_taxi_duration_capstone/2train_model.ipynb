{
 "cells": [
  {
   "cell_type": "code",
   "execution_count": 15,
   "metadata": {
    "collapsed": true
   },
   "outputs": [],
   "source": [
    "import pandas as pd\n",
    "import numpy as np\n",
    "import matplotlib.pyplot as plt\n",
    "import xgboost as xgb\n",
    "import warnings\n",
    "warnings.filterwarnings('ignore')\n",
    "\n",
    "from sklearn.model_selection import train_test_split\n",
    "from sklearn.preprocessing import LabelEncoder\n",
    "from sklearn.cluster import MiniBatchKMeans\n",
    "\n",
    "from collections import Counter\n",
    "\n",
    "import os\n",
    "%matplotlib inline\n",
    "from IPython.display import display\n",
    "\n",
    "pd.set_option('display.max_columns', 500)"
   ]
  },
  {
   "cell_type": "code",
   "execution_count": 16,
   "metadata": {
    "collapsed": true
   },
   "outputs": [],
   "source": [
    "kaggle_df3=pd.read_csv('../../../datasets/nyc_taxi_trip_duration/df_after_preprocess.csv').drop(['Unnamed: 0'],1)\n",
    "#kaggle_df3=pd.read_csv('/nyc_taxi_trip_duration/df_after_preprocess.csv').drop(['Unnamed: 0'],1)\n",
    "\n",
    "#df_sample=kaggle_df3.sample(50000)"
   ]
  },
  {
   "cell_type": "markdown",
   "metadata": {},
   "source": [
    "## Train Test split"
   ]
  },
  {
   "cell_type": "code",
   "execution_count": 17,
   "metadata": {},
   "outputs": [
    {
     "data": {
      "text/html": [
       "<div>\n",
       "<style>\n",
       "    .dataframe thead tr:only-child th {\n",
       "        text-align: right;\n",
       "    }\n",
       "\n",
       "    .dataframe thead th {\n",
       "        text-align: left;\n",
       "    }\n",
       "\n",
       "    .dataframe tbody tr th {\n",
       "        vertical-align: top;\n",
       "    }\n",
       "</style>\n",
       "<table border=\"1\" class=\"dataframe\">\n",
       "  <thead>\n",
       "    <tr style=\"text-align: right;\">\n",
       "      <th></th>\n",
       "      <th>vendor_id</th>\n",
       "      <th>passenger_count</th>\n",
       "      <th>pickup_longitude</th>\n",
       "      <th>pickup_latitude</th>\n",
       "      <th>dropoff_longitude</th>\n",
       "      <th>dropoff_latitude</th>\n",
       "      <th>store_and_fwd_flag</th>\n",
       "      <th>pickup_cluster</th>\n",
       "      <th>dropoff_cluster</th>\n",
       "      <th>haversine_distance</th>\n",
       "      <th>pickup_weekday</th>\n",
       "      <th>pickup_hour</th>\n",
       "      <th>pickup_month</th>\n",
       "      <th>pickup_day</th>\n",
       "      <th>maximum temerature</th>\n",
       "      <th>minimum temperature</th>\n",
       "      <th>average temperature</th>\n",
       "      <th>precipitation</th>\n",
       "      <th>snow fall</th>\n",
       "      <th>snow depth</th>\n",
       "    </tr>\n",
       "  </thead>\n",
       "  <tbody>\n",
       "    <tr>\n",
       "      <th>0</th>\n",
       "      <td>1</td>\n",
       "      <td>1</td>\n",
       "      <td>-73.982155</td>\n",
       "      <td>40.767937</td>\n",
       "      <td>-73.964630</td>\n",
       "      <td>40.765602</td>\n",
       "      <td>0</td>\n",
       "      <td>18</td>\n",
       "      <td>3</td>\n",
       "      <td>1.498521</td>\n",
       "      <td>0</td>\n",
       "      <td>17</td>\n",
       "      <td>3</td>\n",
       "      <td>14</td>\n",
       "      <td>48</td>\n",
       "      <td>42</td>\n",
       "      <td>45.0</td>\n",
       "      <td>0.89</td>\n",
       "      <td>0.0</td>\n",
       "      <td>0.0</td>\n",
       "    </tr>\n",
       "    <tr>\n",
       "      <th>1</th>\n",
       "      <td>0</td>\n",
       "      <td>1</td>\n",
       "      <td>-73.975090</td>\n",
       "      <td>40.758766</td>\n",
       "      <td>-73.953201</td>\n",
       "      <td>40.765068</td>\n",
       "      <td>0</td>\n",
       "      <td>45</td>\n",
       "      <td>53</td>\n",
       "      <td>1.972206</td>\n",
       "      <td>0</td>\n",
       "      <td>14</td>\n",
       "      <td>3</td>\n",
       "      <td>14</td>\n",
       "      <td>48</td>\n",
       "      <td>42</td>\n",
       "      <td>45.0</td>\n",
       "      <td>0.89</td>\n",
       "      <td>0.0</td>\n",
       "      <td>0.0</td>\n",
       "    </tr>\n",
       "  </tbody>\n",
       "</table>\n",
       "</div>"
      ],
      "text/plain": [
       "   vendor_id  passenger_count  pickup_longitude  pickup_latitude  \\\n",
       "0          1                1        -73.982155        40.767937   \n",
       "1          0                1        -73.975090        40.758766   \n",
       "\n",
       "   dropoff_longitude  dropoff_latitude  store_and_fwd_flag  pickup_cluster  \\\n",
       "0         -73.964630         40.765602                   0              18   \n",
       "1         -73.953201         40.765068                   0              45   \n",
       "\n",
       "   dropoff_cluster  haversine_distance  pickup_weekday  pickup_hour  \\\n",
       "0                3            1.498521               0           17   \n",
       "1               53            1.972206               0           14   \n",
       "\n",
       "   pickup_month  pickup_day  maximum temerature  minimum temperature  \\\n",
       "0             3          14                  48                   42   \n",
       "1             3          14                  48                   42   \n",
       "\n",
       "   average temperature  precipitation  snow fall  snow depth  \n",
       "0                 45.0           0.89        0.0         0.0  \n",
       "1                 45.0           0.89        0.0         0.0  "
      ]
     },
     "metadata": {},
     "output_type": "display_data"
    }
   ],
   "source": [
    "X=kaggle_df3.select_dtypes(include=[np.number])\n",
    "X = X.drop(['trip_duration'], axis=1)\n",
    "#print X.shape\n",
    "\n",
    "y = np.log1p(kaggle_df3['trip_duration'])\n",
    "\n",
    "display(X.head(2))"
   ]
  },
  {
   "cell_type": "code",
   "execution_count": 18,
   "metadata": {
    "collapsed": true
   },
   "outputs": [],
   "source": [
    "from sklearn.model_selection import train_test_split\n",
    "X_train, X_test, y_train, y_test = train_test_split(X, y, test_size=0.2, random_state=10000)\n",
    "\n",
    "#print X_train.shape,X_test.shape"
   ]
  },
  {
   "cell_type": "code",
   "execution_count": 24,
   "metadata": {
    "collapsed": true
   },
   "outputs": [],
   "source": [
    "X_sample=X_train.iloc[0:200000,:]\n",
    "y_sample=y_train.iloc[0:200000]"
   ]
  },
  {
   "cell_type": "code",
   "execution_count": 25,
   "metadata": {},
   "outputs": [
    {
     "data": {
      "text/plain": [
       "(200000, 20)"
      ]
     },
     "execution_count": 25,
     "metadata": {},
     "output_type": "execute_result"
    }
   ],
   "source": [
    "X_sample.shape"
   ]
  },
  {
   "cell_type": "markdown",
   "metadata": {},
   "source": [
    "## Define loss function\n",
    "#### Root Mean Squared Logarithmic Error"
   ]
  },
  {
   "cell_type": "code",
   "execution_count": 21,
   "metadata": {
    "collapsed": true
   },
   "outputs": [],
   "source": [
    "def rmsle_eval(y, y0):\n",
    "    y0 = y0.get_label()    \n",
    "    assert len(y) == len(y0)\n",
    "    return 'rmsle', np.sqrt(np.mean(np.power(np.log1p(y)-np.log1p(y0), 2)))\n",
    "\n",
    "def rmsle_eval_sklearn(y, y0): \n",
    "    assert len(y) == len(y0)\n",
    "    return 'rmsle', np.sqrt(np.mean(np.power(np.log1p(y)-np.log1p(y0), 2)))\n",
    "\n",
    "def rmsle_eval_sklearn2(y, y0): \n",
    "    assert len(y) == len(y0)\n",
    "    return -np.sqrt(np.mean(np.power(np.log1p(y)-np.log1p(y0), 2)))"
   ]
  },
  {
   "cell_type": "markdown",
   "metadata": {},
   "source": [
    "## Benchmark model"
   ]
  },
  {
   "cell_type": "code",
   "execution_count": 8,
   "metadata": {},
   "outputs": [
    {
     "name": "stdout",
     "output_type": "stream",
     "text": [
      "Root Mean Squared Logarithmic Error: ('rmsle', 0.074457448651204711)\n"
     ]
    }
   ],
   "source": [
    "#linear model\n",
    "from sklearn import linear_model\n",
    "reg = linear_model.LinearRegression()\n",
    "reg.fit(X_train,y_train)\n",
    "\n",
    "print 'Root Mean Squared Logarithmic Error:',rmsle_eval_sklearn(y_test, reg.predict(X_test))"
   ]
  },
  {
   "cell_type": "code",
   "execution_count": 9,
   "metadata": {},
   "outputs": [
    {
     "name": "stdout",
     "output_type": "stream",
     "text": [
      "Root Mean Squared Logarithmic Error: ('rmsle', 0.0728812056095266)\n"
     ]
    }
   ],
   "source": [
    "from sklearn.neighbors import  KNeighborsRegressor\n",
    "reg = KNeighborsRegressor(n_neighbors=5)\n",
    "reg.fit(X_train,y_train)\n",
    "\n",
    "print 'Root Mean Squared Logarithmic Error:',rmsle_eval_sklearn(y_test, reg.predict(X_test))"
   ]
  },
  {
   "cell_type": "code",
   "execution_count": 10,
   "metadata": {},
   "outputs": [
    {
     "name": "stdout",
     "output_type": "stream",
     "text": [
      "Root Mean Squared Logarithmic Error: ('rmsle', 0.047572052359185185)\n"
     ]
    }
   ],
   "source": [
    "from sklearn.ensemble import RandomForestRegressor\n",
    "reg = RandomForestRegressor(n_estimators=10)\n",
    "reg.fit(X_train,y_train)\n",
    "\n",
    "print 'Root Mean Squared Logarithmic Error:',rmsle_eval_sklearn(y_test, reg.predict(X_test))"
   ]
  },
  {
   "cell_type": "markdown",
   "metadata": {},
   "source": [
    "## XGBoost training"
   ]
  },
  {
   "cell_type": "code",
   "execution_count": 22,
   "metadata": {
    "collapsed": true
   },
   "outputs": [],
   "source": [
    "from sklearn.learning_curve import validation_curve\n",
    "from xgboost.sklearn import XGBRegressor\n",
    "import xgboost as xgb\n",
    "from sklearn.model_selection import StratifiedKFold,GridSearchCV\n",
    "from sklearn.metrics import make_scorer\n",
    "\n",
    "my_scorer=make_scorer(rmsle_eval_sklearn2)"
   ]
  },
  {
   "cell_type": "markdown",
   "metadata": {},
   "source": [
    "#### validation curve plot"
   ]
  },
  {
   "cell_type": "code",
   "execution_count": 48,
   "metadata": {},
   "outputs": [],
   "source": [
    "def validation_curve_plot(train_scores, test_scores,param_name,param_range,ylim_low,ylim_high):\n",
    "    train_scores_mean = np.mean(train_scores, axis=1)\n",
    "    train_scores_std = np.std(train_scores, axis=1)\n",
    "    test_scores_mean = np.mean(test_scores, axis=1)\n",
    "    test_scores_std = np.std(test_scores, axis=1)\n",
    "\n",
    "    #fig = plt.figure(figsize=(10, 6), dpi=100)\n",
    "    fig = plt.figure(figsize=(10, 4))\n",
    "\n",
    "    plt.plot(param_range,\n",
    "                 train_scores_mean,\n",
    "                 label=\"Training score\",\n",
    "                 color=\"r\")\n",
    "\n",
    "    plt.plot(param_range,\n",
    "                 test_scores_mean, \n",
    "                 label=\"Cross-validation score\",\n",
    "                 color=\"g\")\n",
    "\n",
    "    plt.fill_between(param_range, \n",
    "                     train_scores_mean - train_scores_std,\n",
    "                     train_scores_mean + train_scores_std, \n",
    "                     alpha=0.2, color=\"r\")\n",
    "\n",
    "    plt.fill_between(param_range,\n",
    "                     test_scores_mean - test_scores_std,\n",
    "                     test_scores_mean + test_scores_std,\n",
    "                     alpha=0.2, color=\"g\")\n",
    "\n",
    "    plt.axhline(y=1, color='k', ls='dashed')\n",
    "\n",
    "    plt.title(\"Validation Curve with XGBoost (eta = 0.1)\")\n",
    "    plt.xlabel(param_name)\n",
    "    plt.ylabel(\"Negative RMSLE\")\n",
    "    plt.ylim(ylim_low,ylim_high)\n",
    "    plt.legend(loc=\"best\")\n",
    "    plt.show()\n",
    "\n",
    "    i = np.argmax(test_scores_mean)\n",
    "    print(\"Best cross-validation result ({0:.2f}) obtained for {1} {2}\".format(test_scores_mean[i], param_range[i],param_name))"
   ]
  },
  {
   "cell_type": "markdown",
   "metadata": {},
   "source": [
    "#### 1 max_depth"
   ]
  },
  {
   "cell_type": "code",
   "execution_count": 53,
   "metadata": {},
   "outputs": [],
   "source": [
    "from sklearn.learning_curve import validation_curve\n",
    "default_params = {\n",
    "    \"objective\":\"reg:linear\",\n",
    "    \"eta\":0.1,\n",
    "    \"min_child_weight\":30,\n",
    "    \"subsample\" : 0.8,\n",
    "    \"colsample_bytree\" :0.3,\n",
    "    \"silent\":1\n",
    "}\n",
    "\n",
    "max_depth_range = np.linspace(1, 100, 5).astype('int')\n",
    "\n",
    "train_scores1, test_scores1 = validation_curve(\n",
    "    XGBRegressor(**default_params),\n",
    "    X_sample, y_sample,\n",
    "    param_name = 'max_depth',\n",
    "    param_range = max_depth_range,\n",
    "    cv=3,\n",
    "    scoring=my_scorer,\n",
    "    n_jobs=5\n",
    ")"
   ]
  },
  {
   "cell_type": "code",
   "execution_count": 54,
   "metadata": {},
   "outputs": [
    {
     "data": {
      "image/png": "[encoded data removed]",
      "text/plain": [
       "<matplotlib.figure.Figure at 0x1313e02d0>"
      ]
     },
     "metadata": {},
     "output_type": "display_data"
    },
    {
     "name": "stdout",
     "output_type": "stream",
     "text": [
      "Best cross-validation result (-0.05) obtained for 25 max_depth\n"
     ]
    }
   ],
   "source": [
    "validation_curve_plot(train_scores1, test_scores1,'max_depth',max_depth_range,-0.07,-0.01)"
   ]
  },
  {
   "cell_type": "markdown",
   "metadata": {},
   "source": [
    "#### 2 subsample"
   ]
  },
  {
   "cell_type": "code",
   "execution_count": 46,
   "metadata": {
    "collapsed": true
   },
   "outputs": [],
   "source": [
    "default_params = {\n",
    "    \"objective\":\"reg:linear\",\n",
    "    \"eta\":0.1,\n",
    "    \"min_child_weight\":30,\n",
    "    \"colsample_bytree\" :0.3,\n",
    "    'max_depth':25,\n",
    "    \"silent\":1\n",
    "}\n",
    "\n",
    "subsample_range = np.linspace(0, 1, 5).astype('float32')\n",
    "\n",
    "train_scores, test_scores = validation_curve(\n",
    "    XGBRegressor(**default_params),\n",
    "    X_sample, y_sample,\n",
    "    param_name = 'subsample',\n",
    "    param_range = subsample_range,\n",
    "    cv=3,\n",
    "    scoring=my_scorer,\n",
    "    n_jobs=5\n",
    ")"
   ]
  },
  {
   "cell_type": "code",
   "execution_count": 63,
   "metadata": {},
   "outputs": [
    {
     "data": {
      "text/plain": [
       "array([ 0.  ,  0.25,  0.5 ,  0.75,  1.  ], dtype=float32)"
      ]
     },
     "execution_count": 63,
     "metadata": {},
     "output_type": "execute_result"
    }
   ],
   "source": [
    "np.linspace(0, 1, 5).astype('float32')"
   ]
  },
  {
   "cell_type": "code",
   "execution_count": 52,
   "metadata": {},
   "outputs": [
    {
     "data": {
      "image/png": "[encoded data removed]",
      "text/plain": [
       "<matplotlib.figure.Figure at 0x1278f04d0>"
      ]
     },
     "metadata": {},
     "output_type": "display_data"
    },
    {
     "name": "stdout",
     "output_type": "stream",
     "text": [
      "Best cross-validation result (-0.05) obtained for 0.75 subsample\n"
     ]
    }
   ],
   "source": [
    "validation_curve_plot(train_scores, test_scores,'subsample',subsample_range,-0.2,-0.01)"
   ]
  },
  {
   "cell_type": "markdown",
   "metadata": {},
   "source": [
    "#### final training"
   ]
  },
  {
   "cell_type": "code",
   "execution_count": 57,
   "metadata": {
    "collapsed": true
   },
   "outputs": [],
   "source": [
    "#Train model\n",
    "seed=100\n",
    "num_rounds =500\n",
    "\n",
    "params = {\n",
    "    \"objective\":\"reg:linear\",\n",
    "    \"eta\":0.1,\n",
    "    \"min_child_weight\":30,\n",
    "    \"subsample\" : 0.75,\n",
    "    \"colsample_bytree\" :0.3,\n",
    "    \"silent\":1,\n",
    "    \"max_depth\": 10\n",
    "}\n",
    "dtrain = xgb.DMatrix(X_train, label=y_train)\n",
    "dtest = xgb.DMatrix(X_test, label=y_test)"
   ]
  },
  {
   "cell_type": "code",
   "execution_count": 58,
   "metadata": {},
   "outputs": [
    {
     "name": "stdout",
     "output_type": "stream",
     "text": [
      "[0]\ttrain-rmse:5.42728\ttest-rmse:5.42508\ttrain-rmsle:1.2695\ttest-rmsle:1.26924\n",
      "Multiple eval metrics have been passed: 'test-rmsle' will be used for early stopping.\n",
      "\n",
      "Will train until test-rmsle hasn't improved in 10 rounds.\n",
      "[20]\ttrain-rmse:0.780639\ttest-rmse:0.780824\ttrain-rmsle:0.105394\ttest-rmsle:0.105452\n",
      "[40]\ttrain-rmse:0.381373\ttest-rmse:0.385238\ttrain-rmsle:0.052448\ttest-rmsle:0.053008\n",
      "[60]\ttrain-rmse:0.351162\ttest-rmse:0.357287\ttrain-rmsle:0.048898\ttest-rmsle:0.049764\n",
      "[80]\ttrain-rmse:0.337955\ttest-rmse:0.345667\ttrain-rmsle:0.04717\ttest-rmsle:0.048258\n",
      "[100]\ttrain-rmse:0.330531\ttest-rmse:0.339535\ttrain-rmsle:0.046166\ttest-rmsle:0.047436\n",
      "[120]\ttrain-rmse:0.325805\ttest-rmse:0.336084\ttrain-rmsle:0.045522\ttest-rmsle:0.046971\n",
      "[140]\ttrain-rmse:0.319492\ttest-rmse:0.331152\ttrain-rmsle:0.044669\ttest-rmsle:0.046315\n",
      "[160]\ttrain-rmse:0.315508\ttest-rmse:0.328536\ttrain-rmsle:0.044127\ttest-rmsle:0.045968\n",
      "[180]\ttrain-rmse:0.311857\ttest-rmse:0.326134\ttrain-rmsle:0.04363\ttest-rmsle:0.045647\n",
      "[200]\ttrain-rmse:0.309444\ttest-rmse:0.324579\ttrain-rmsle:0.043303\ttest-rmsle:0.045441\n",
      "[220]\ttrain-rmse:0.306399\ttest-rmse:0.322466\ttrain-rmsle:0.042891\ttest-rmsle:0.04516\n",
      "[240]\ttrain-rmse:0.304105\ttest-rmse:0.321104\ttrain-rmsle:0.042575\ttest-rmsle:0.044978\n",
      "[260]\ttrain-rmse:0.301897\ttest-rmse:0.319727\ttrain-rmsle:0.042267\ttest-rmsle:0.044789\n",
      "[280]\ttrain-rmse:0.299478\ttest-rmse:0.31813\ttrain-rmsle:0.041929\ttest-rmsle:0.044567\n",
      "[300]\ttrain-rmse:0.298026\ttest-rmse:0.317421\ttrain-rmsle:0.041728\ttest-rmsle:0.044472\n",
      "[320]\ttrain-rmse:0.296711\ttest-rmse:0.316714\ttrain-rmsle:0.041545\ttest-rmsle:0.044375\n",
      "[340]\ttrain-rmse:0.295787\ttest-rmse:0.316325\ttrain-rmsle:0.041413\ttest-rmsle:0.04432\n",
      "[360]\ttrain-rmse:0.294594\ttest-rmse:0.315838\ttrain-rmsle:0.041245\ttest-rmsle:0.044254\n",
      "[380]\ttrain-rmse:0.29343\ttest-rmse:0.315296\ttrain-rmsle:0.041082\ttest-rmsle:0.044181\n",
      "[400]\ttrain-rmse:0.292814\ttest-rmse:0.315034\ttrain-rmsle:0.040995\ttest-rmsle:0.044145\n",
      "[420]\ttrain-rmse:0.292108\ttest-rmse:0.314825\ttrain-rmsle:0.040895\ttest-rmsle:0.044117\n",
      "[440]\ttrain-rmse:0.290964\ttest-rmse:0.314238\ttrain-rmsle:0.040735\ttest-rmsle:0.044034\n",
      "[460]\ttrain-rmse:0.29005\ttest-rmse:0.313886\ttrain-rmsle:0.040603\ttest-rmsle:0.043984\n",
      "[480]\ttrain-rmse:0.289264\ttest-rmse:0.313664\ttrain-rmsle:0.04049\ttest-rmsle:0.043954\n",
      "[499]\ttrain-rmse:0.288428\ttest-rmse:0.313188\ttrain-rmsle:0.040372\ttest-rmsle:0.043886\n"
     ]
    }
   ],
   "source": [
    "watchlist = [(dtrain, 'train'), (dtest, 'test')]\n",
    "\n",
    "evals_result = {}\n",
    "\n",
    "model = xgb.train(params,dtrain, num_rounds, watchlist, \n",
    "                      early_stopping_rounds=10, \n",
    "                      maximize=False, \n",
    "                      verbose_eval=20, \n",
    "                      feval=rmsle_eval,\n",
    "                      evals_result=evals_result)"
   ]
  },
  {
   "cell_type": "code",
   "execution_count": 59,
   "metadata": {},
   "outputs": [
    {
     "data": {
      "image/png": "[encoded data removed]",
      "text/plain": [
       "<matplotlib.figure.Figure at 0x12aec1090>"
      ]
     },
     "metadata": {},
     "output_type": "display_data"
    }
   ],
   "source": [
    "import matplotlib.pyplot as plt\n",
    "import seaborn as sns\n",
    "\n",
    "rounds=np.arange(0,500)\n",
    "train_rmsle=evals_result[u'train']['rmsle']\n",
    "test_rmsle=evals_result[u'test']['rmsle']\n",
    "\n",
    "plt.figure(figsize=(12,5))\n",
    "plt.plot(rounds,train_rmsle,'r', label='train')\n",
    "plt.plot(rounds,test_rmsle,'g--', label='test')\n",
    "\n",
    "plt.ylim(0,0.1)\n",
    "plt.xlabel('Training Rounds')\n",
    "plt.ylabel('rmsle')\n",
    "plt.legend()\n",
    "plt.show()"
   ]
  },
  {
   "cell_type": "markdown",
   "metadata": {},
   "source": [
    "#### feature importance"
   ]
  },
  {
   "cell_type": "code",
   "execution_count": 60,
   "metadata": {
    "collapsed": true
   },
   "outputs": [],
   "source": [
    "def plot_importances(clf):\n",
    "    importances = clf.get_fscore()\n",
    "    importances = sorted(importances.items(), key=lambda x: x[1])\n",
    "    x = list(zip(*importances))[0]\n",
    "    y = list(zip(*importances))[1]\n",
    "    x_pos = np.arange(len(x)) \n",
    "    plt.figure(figsize=(10,5))\n",
    "    plt.title('Feature importances')\n",
    "    plt.barh(range(len(y)), y, align='center')\n",
    "    plt.yticks(range(len(y)), x)\n",
    "    plt.ylim([-1, len(importances)])\n",
    "    plt.xlabel('F score')\n",
    "    plt.show()"
   ]
  },
  {
   "cell_type": "code",
   "execution_count": 61,
   "metadata": {},
   "outputs": [
    {
     "data": {
      "image/png": "[encoded data removed]",
      "text/plain": [
       "<matplotlib.figure.Figure at 0x1119638d0>"
      ]
     },
     "metadata": {},
     "output_type": "display_data"
    }
   ],
   "source": [
    "plot_importances(model)"
   ]
  },
  {
   "cell_type": "markdown",
   "metadata": {
    "collapsed": true
   },
   "source": [
    "#### cross validation"
   ]
  },
  {
   "cell_type": "code",
   "execution_count": 68,
   "metadata": {
    "scrolled": true
   },
   "outputs": [
    {
     "name": "stdout",
     "output_type": "stream",
     "text": [
      "[0]\ttrain-rmse:5.42708+0.00145421\ttrain-rmsle:1.26947+0.000119455\ttest-rmse:5.42709+0.00344939\ttest-rmsle:1.26948+0.000335919\n",
      "[1]\ttrain-rmse:4.89043+0.00195377\ttrain-rmsle:1.04157+0.000108266\ttest-rmse:4.8905+0.00434721\ttest-rmsle:1.0416+0.000389312\n",
      "[2]\ttrain-rmse:4.40712+0.000447638\ttrain-rmsle:0.873267+5.5259e-05\ttest-rmse:4.40718+0.00469435\ttest-rmsle:0.873284+0.000405108\n",
      "[3]\ttrain-rmse:3.97283+0.00209811\ttrain-rmsle:0.742986+0.000126771\ttest-rmse:3.97282+0.00421688\ttest-rmsle:0.742983+0.000416711\n",
      "[4]\ttrain-rmse:3.58109+0.000769094\ttrain-rmsle:0.638727+6.63643e-05\ttest-rmse:3.58108+0.00356321\ttest-rmsle:0.638723+0.000361076\n",
      "[5]\ttrain-rmse:3.23112+0.00127042\ttrain-rmsle:0.553628+0.000122497\ttest-rmse:3.23118+0.00434888\ttest-rmsle:0.55364+0.00040499\n",
      "[6]\ttrain-rmse:2.91701+0.00218365\ttrain-rmsle:0.482983+0.00016557\ttest-rmse:2.91709+0.00454631\ttest-rmsle:0.482996+0.000426554\n",
      "[7]\ttrain-rmse:2.63441+0.00192462\ttrain-rmsle:0.423518+0.000102948\ttest-rmse:2.63442+0.00233805\ttest-rmsle:0.423518+0.000283542\n",
      "[8]\ttrain-rmse:2.38168+0.00239669\ttrain-rmsle:0.373142+0.000111566\ttest-rmse:2.38167+0.00141663\ttest-rmsle:0.373139+0.000254964\n",
      "[9]\ttrain-rmse:2.15385+0.000408816\ttrain-rmsle:0.329937+9.41488e-05\ttest-rmse:2.15391+0.00334164\ttest-rmsle:0.329944+0.00040451\n",
      "[10]\ttrain-rmse:1.94787+0.00176332\ttrain-rmsle:0.292639+0.000254811\ttest-rmse:1.94799+0.00497612\ttest-rmsle:0.292657+0.000541956\n",
      "[11]\ttrain-rmse:1.76449+0.00376904\ttrain-rmsle:0.260498+0.000427614\ttest-rmse:1.76468+0.00640262\ttest-rmsle:0.260527+0.00067239\n",
      "[12]\ttrain-rmse:1.60061+0.00325361\ttrain-rmsle:0.232641+0.000380332\ttest-rmse:1.6008+0.00560976\ttest-rmsle:0.23267+0.00060543\n",
      "[13]\ttrain-rmse:1.45374+0.00235142\ttrain-rmsle:0.208359+0.000223646\ttest-rmse:1.45394+0.00333969\ttest-rmsle:0.20839+0.000388582\n",
      "[14]\ttrain-rmse:1.32421+0.0036275\ttrain-rmsle:0.187378+0.000333799\ttest-rmse:1.32448+0.00445706\ttest-rmsle:0.187419+0.000458761\n",
      "[15]\ttrain-rmse:1.2056+0.00134402\ttrain-rmsle:0.168768+0.000122322\ttest-rmse:1.20593+0.00293095\ttest-rmsle:0.168818+0.000341932\n",
      "[16]\ttrain-rmse:1.10202+0.00200625\ttrain-rmsle:0.152753+0.000263518\ttest-rmse:1.10245+0.00476475\ttest-rmsle:0.152818+0.000534957\n",
      "[17]\ttrain-rmse:1.01098+0.00246318\ttrain-rmsle:0.138871+0.000304068\ttest-rmse:1.01147+0.00488033\ttest-rmsle:0.138944+0.000560475\n",
      "[18]\ttrain-rmse:0.925155+0.0026516\ttrain-rmsle:0.126223+0.000348372\ttest-rmse:0.925789+0.00512452\ttest-rmsle:0.126319+0.000603603\n",
      "[19]\ttrain-rmse:0.852462+0.00404803\ttrain-rmsle:0.115586+0.000536707\ttest-rmse:0.853196+0.00656325\ttest-rmsle:0.115696+0.000787013\n",
      "[20]\ttrain-rmse:0.788065+0.0032489\ttrain-rmsle:0.106288+0.000474207\ttest-rmse:0.788903+0.00559817\ttest-rmsle:0.106415+0.000710331\n",
      "[21]\ttrain-rmse:0.730213+0.00384949\ttrain-rmsle:0.098109+0.000529098\ttest-rmse:0.731198+0.00596715\ttest-rmsle:0.098257+0.000739758\n",
      "[22]\ttrain-rmse:0.680511+0.00251707\ttrain-rmsle:0.091144+0.000385155\ttest-rmse:0.681622+0.00436704\ttest-rmsle:0.0913123+0.000574718\n",
      "[23]\ttrain-rmse:0.634902+0.00223847\ttrain-rmsle:0.0848997+0.000342424\ttest-rmse:0.636231+0.00410814\ttest-rmsle:0.085101+0.000532724\n",
      "[24]\ttrain-rmse:0.595267+0.00142846\ttrain-rmsle:0.079529+0.000250617\ttest-rmse:0.596815+0.00342309\ttest-rmsle:0.079763+0.000454872\n",
      "[25]\ttrain-rmse:0.562967+0.00276747\ttrain-rmsle:0.075195+0.000410259\ttest-rmse:0.564686+0.00452475\ttest-rmsle:0.0754527+0.000592663\n",
      "[26]\ttrain-rmse:0.534858+0.00294491\ttrain-rmsle:0.0714693+0.000411726\ttest-rmse:0.536729+0.00440163\ttest-rmsle:0.0717483+0.000566958\n",
      "[27]\ttrain-rmse:0.511893+0.0037753\ttrain-rmsle:0.0684723+0.000511209\ttest-rmse:0.513942+0.00512624\ttest-rmsle:0.068775+0.000649865\n",
      "[28]\ttrain-rmse:0.489702+0.0029705\ttrain-rmsle:0.065623+0.00039923\ttest-rmse:0.491949+0.00341546\ttest-rmsle:0.065954+0.00043881\n",
      "[29]\ttrain-rmse:0.471648+0.00381366\ttrain-rmsle:0.0633443+0.000517361\ttest-rmse:0.474084+0.00392046\ttest-rmsle:0.063702+0.000517419\n",
      "[30]\ttrain-rmse:0.456043+0.00140671\ttrain-rmsle:0.06139+0.000212617\ttest-rmse:0.458683+0.00216294\ttest-rmsle:0.061776+0.000284503\n",
      "[31]\ttrain-rmse:0.441698+0.002884\ttrain-rmsle:0.059618+0.000404486\ttest-rmse:0.444583+0.00293776\ttest-rmsle:0.060039+0.00039016\n",
      "[32]\ttrain-rmse:0.431079+0.00347457\ttrain-rmsle:0.0583337+0.000489681\ttest-rmse:0.434149+0.00333355\ttest-rmsle:0.0587797+0.000448558\n",
      "[33]\ttrain-rmse:0.420044+0.00228936\ttrain-rmsle:0.0569937+0.000327676\ttest-rmse:0.423362+0.0023573\ttest-rmsle:0.0574743+0.000306413\n",
      "[34]\ttrain-rmse:0.412297+0.00285978\ttrain-rmsle:0.0560897+0.000404179\ttest-rmse:0.415799+0.00269575\ttest-rmsle:0.0565953+0.000354602\n",
      "[35]\ttrain-rmse:0.404416+0.00374702\ttrain-rmsle:0.0551573+0.000526951\ttest-rmse:0.40809+0.00302619\ttest-rmsle:0.0556863+0.000414849\n",
      "[36]\ttrain-rmse:0.398544+0.00358709\ttrain-rmsle:0.0544837+0.000516011\ttest-rmse:0.4024+0.00302989\ttest-rmsle:0.0550363+0.000418223\n",
      "[37]\ttrain-rmse:0.39177+0.0023601\ttrain-rmsle:0.0536717+0.00034953\ttest-rmse:0.395854+0.00182904\ttest-rmsle:0.0542567+0.000250975\n",
      "[38]\ttrain-rmse:0.386441+0.00280219\ttrain-rmsle:0.0530487+0.000417877\ttest-rmse:0.39073+0.00235281\ttest-rmsle:0.0536617+0.000324512\n",
      "[39]\ttrain-rmse:0.381418+0.00337481\ttrain-rmsle:0.0524567+0.000498406\ttest-rmse:0.385885+0.00253847\ttest-rmsle:0.0530937+0.000364419\n",
      "[40]\ttrain-rmse:0.378083+0.00342822\ttrain-rmsle:0.052086+0.000511285\ttest-rmse:0.382678+0.00246624\ttest-rmsle:0.0527397+0.00036417\n",
      "[41]\ttrain-rmse:0.374888+0.00205079\ttrain-rmsle:0.0517117+0.000314954\ttest-rmse:0.379586+0.00114362\ttest-rmsle:0.0523787+0.000172065\n",
      "[42]\ttrain-rmse:0.37186+0.00218274\ttrain-rmsle:0.051368+0.000336123\ttest-rmse:0.376706+0.00135672\ttest-rmsle:0.052055+0.000198731\n",
      "[43]\ttrain-rmse:0.369895+0.00261442\ttrain-rmsle:0.05116+0.000394777\ttest-rmse:0.374899+0.00151075\ttest-rmsle:0.051868+0.000232075\n",
      "[44]\ttrain-rmse:0.367248+0.00207252\ttrain-rmsle:0.0508403+0.00031638\ttest-rmse:0.372425+0.00153823\ttest-rmsle:0.051572+0.000208501\n",
      "[45]\ttrain-rmse:0.365539+0.00264915\ttrain-rmsle:0.050653+0.0003933\ttest-rmse:0.370824+0.00161862\ttest-rmsle:0.0513987+0.000234976\n",
      "[46]\ttrain-rmse:0.363349+0.00263985\ttrain-rmsle:0.050391+0.000380372\ttest-rmse:0.368788+0.00141135\ttest-rmsle:0.0511573+0.000203628\n",
      "[47]\ttrain-rmse:0.361949+0.00241344\ttrain-rmsle:0.050226+0.000347981\ttest-rmse:0.367562+0.00102307\ttest-rmsle:0.0510177+0.000158412\n",
      "[48]\ttrain-rmse:0.359908+0.001709\ttrain-rmsle:0.0499717+0.000247484\ttest-rmse:0.365705+0.000535916\ttest-rmsle:0.0507893+7.12804e-05\n",
      "[49]\ttrain-rmse:0.359067+0.00167476\ttrain-rmsle:0.049885+0.0002451\ttest-rmse:0.364967+0.000539794\ttest-rmsle:0.0507163+7.28758e-05\n",
      "[50]\ttrain-rmse:0.357391+0.00182436\ttrain-rmsle:0.0496817+0.000269722\ttest-rmse:0.36344+0.000842347\ttest-rmsle:0.0505333+0.000107955\n",
      "[51]\ttrain-rmse:0.356434+0.00168484\ttrain-rmsle:0.049575+0.000251421\ttest-rmse:0.362588+0.000435168\ttest-rmsle:0.0504403+6.9004e-05\n",
      "[52]\ttrain-rmse:0.355618+0.00170255\ttrain-rmsle:0.0494817+0.000260566\ttest-rmse:0.361888+0.000323993\ttest-rmsle:0.0503637+7.08347e-05\n",
      "[53]\ttrain-rmse:0.354077+0.00235914\ttrain-rmsle:0.0492837+0.000354597\ttest-rmse:0.360534+0.00100742\ttest-rmsle:0.0501927+0.000161258\n",
      "[54]\ttrain-rmse:0.352871+0.00188314\ttrain-rmsle:0.0491263+0.000282173\ttest-rmse:0.359453+0.000761837\ttest-rmsle:0.0500537+0.000107112\n",
      "[55]\ttrain-rmse:0.351957+0.0015629\ttrain-rmsle:0.049016+0.000237373\ttest-rmse:0.358649+0.000465071\ttest-rmsle:0.0499573+5.74127e-05\n",
      "[56]\ttrain-rmse:0.350804+0.00218804\ttrain-rmsle:0.0488717+0.000323993\ttest-rmse:0.35763+0.000926086\ttest-rmsle:0.0498317+0.000137948\n",
      "[57]\ttrain-rmse:0.349997+0.00225552\ttrain-rmsle:0.0487693+0.000333149\ttest-rmse:0.356959+0.00120424\ttest-rmsle:0.0497483+0.000166906\n",
      "[58]\ttrain-rmse:0.349155+0.00215557\ttrain-rmsle:0.0486627+0.000310786\ttest-rmse:0.356242+0.00110884\ttest-rmsle:0.0496587+0.000144846\n",
      "[59]\ttrain-rmse:0.348103+0.00197865\ttrain-rmsle:0.04852+0.000281322\ttest-rmse:0.355332+0.000825497\ttest-rmsle:0.0495363+0.000106803\n",
      "[60]\ttrain-rmse:0.347393+0.00153214\ttrain-rmsle:0.0484343+0.000223285\ttest-rmse:0.3547+0.00050047\ttest-rmsle:0.0494613+5.77485e-05\n",
      "[61]\ttrain-rmse:0.346308+0.00170263\ttrain-rmsle:0.0482963+0.00024213\ttest-rmse:0.35374+0.00132857\ttest-rmsle:0.0493403+0.000155376\n",
      "[62]\ttrain-rmse:0.345725+0.00200639\ttrain-rmsle:0.0482263+0.0002817\ttest-rmse:0.353247+0.00152617\ttest-rmsle:0.0492823+0.000183371\n"
     ]
    },
    {
     "name": "stdout",
     "output_type": "stream",
     "text": [
      "[63]\ttrain-rmse:0.34487+0.00148397\ttrain-rmsle:0.048117+0.000211737\ttest-rmse:0.352516+0.00112251\ttest-rmsle:0.0491903+0.00012406\n",
      "[64]\ttrain-rmse:0.344165+0.00137223\ttrain-rmsle:0.0480277+0.000198061\ttest-rmse:0.351921+0.000948691\ttest-rmsle:0.0491153+0.000102412\n",
      "[65]\ttrain-rmse:0.34344+0.0012392\ttrain-rmsle:0.0479353+0.000185462\ttest-rmse:0.351319+0.000627879\ttest-rmsle:0.04904+5.97551e-05\n",
      "[66]\ttrain-rmse:0.343037+0.00132997\ttrain-rmsle:0.0478813+0.000197471\ttest-rmse:0.351005+0.000850904\ttest-rmsle:0.0489987+9.59074e-05\n",
      "[67]\ttrain-rmse:0.342116+0.00167204\ttrain-rmsle:0.0477643+0.000239542\ttest-rmse:0.350208+0.00137328\ttest-rmsle:0.0488987+0.000164642\n",
      "[68]\ttrain-rmse:0.341441+0.00146144\ttrain-rmsle:0.0476737+0.000215726\ttest-rmse:0.349667+0.00115966\ttest-rmsle:0.0488273+0.000139481\n",
      "[69]\ttrain-rmse:0.340836+0.00135372\ttrain-rmsle:0.0475967+0.000202814\ttest-rmse:0.349145+0.00128692\ttest-rmsle:0.0487613+0.000156082\n",
      "[70]\ttrain-rmse:0.340592+0.00145486\ttrain-rmsle:0.0475653+0.000218266\ttest-rmse:0.348972+0.0012526\ttest-rmsle:0.04874+0.000152912\n",
      "[71]\ttrain-rmse:0.339967+0.00175437\ttrain-rmsle:0.047482+0.000257435\ttest-rmse:0.348464+0.0016644\ttest-rmsle:0.0486733+0.000205307\n",
      "[72]\ttrain-rmse:0.339322+0.00132014\ttrain-rmsle:0.0473903+0.000195633\ttest-rmse:0.347908+0.00131817\ttest-rmsle:0.048595+0.000151884\n",
      "[73]\ttrain-rmse:0.338804+0.00137123\ttrain-rmsle:0.0473177+0.000207476\ttest-rmse:0.347517+0.00128954\ttest-rmsle:0.048541+0.000151341\n",
      "[74]\ttrain-rmse:0.338516+0.00139194\ttrain-rmsle:0.0472793+0.000209087\ttest-rmse:0.347323+0.00135065\ttest-rmsle:0.048516+0.00016063\n",
      "[75]\ttrain-rmse:0.337856+0.00116942\ttrain-rmsle:0.047186+0.000177601\ttest-rmse:0.346789+0.00112343\ttest-rmsle:0.0484407+0.000125183\n",
      "[76]\ttrain-rmse:0.337161+0.00156616\ttrain-rmsle:0.0470907+0.000234959\ttest-rmse:0.346235+0.000970936\ttest-rmsle:0.0483663+0.000115546\n",
      "[77]\ttrain-rmse:0.336684+0.00122268\ttrain-rmsle:0.047022+0.000185161\ttest-rmse:0.345881+0.000797773\ttest-rmsle:0.048315+8.27808e-05\n",
      "[78]\ttrain-rmse:0.336492+0.00123058\ttrain-rmsle:0.046995+0.000186016\ttest-rmse:0.345763+0.000818135\ttest-rmsle:0.048299+8.84647e-05\n",
      "[79]\ttrain-rmse:0.335629+0.00106245\ttrain-rmsle:0.0468817+0.000161339\ttest-rmse:0.345022+0.000939341\ttest-rmsle:0.0482027+0.000101906\n",
      "[80]\ttrain-rmse:0.335442+0.00109199\ttrain-rmsle:0.0468577+0.000165542\ttest-rmse:0.344934+0.000912329\ttest-rmsle:0.048192+9.90387e-05\n",
      "[81]\ttrain-rmse:0.334751+0.000988969\ttrain-rmsle:0.0467593+0.000155401\ttest-rmse:0.344373+0.000914338\ttest-rmsle:0.048113+9.993e-05\n",
      "[82]\ttrain-rmse:0.334427+0.000933077\ttrain-rmsle:0.0467153+0.000149565\ttest-rmse:0.344153+0.000978849\ttest-rmsle:0.0480837+0.000106803\n",
      "[83]\ttrain-rmse:0.333959+0.000794153\ttrain-rmsle:0.0466503+0.000133432\ttest-rmse:0.343805+0.00101073\ttest-rmsle:0.048035+0.000110009\n",
      "[84]\ttrain-rmse:0.333181+0.00107458\ttrain-rmsle:0.046545+0.000164773\ttest-rmse:0.34315+0.000922849\ttest-rmsle:0.0479473+9.95735e-05\n",
      "[85]\ttrain-rmse:0.332622+0.00136207\ttrain-rmsle:0.0464727+0.000202745\ttest-rmse:0.342712+0.000863316\ttest-rmsle:0.0478917+9.38095e-05\n",
      "[86]\ttrain-rmse:0.331966+0.0012831\ttrain-rmsle:0.0463797+0.000189199\ttest-rmse:0.342193+0.00066562\ttest-rmsle:0.047818+6.32297e-05\n",
      "[87]\ttrain-rmse:0.331451+0.00108253\ttrain-rmsle:0.046305+0.000160518\ttest-rmse:0.341813+0.000604393\ttest-rmsle:0.047764+5.63383e-05\n",
      "[88]\ttrain-rmse:0.330717+0.0011572\ttrain-rmsle:0.0462083+0.000169818\ttest-rmse:0.341212+0.000751543\ttest-rmsle:0.047686+7.35164e-05\n",
      "[89]\ttrain-rmse:0.330388+0.00107486\ttrain-rmsle:0.0461603+0.000156165\ttest-rmse:0.341016+0.000777664\ttest-rmsle:0.0476573+7.89782e-05\n",
      "[90]\ttrain-rmse:0.329907+0.00119893\ttrain-rmsle:0.0460967+0.000170678\ttest-rmse:0.340633+0.000905563\ttest-rmsle:0.0476073+9.43198e-05\n",
      "[91]\ttrain-rmse:0.329835+0.00118568\ttrain-rmsle:0.046087+0.000168371\ttest-rmse:0.340595+0.000918373\ttest-rmsle:0.047603+9.6357e-05\n",
      "[92]\ttrain-rmse:0.329354+0.00100833\ttrain-rmsle:0.04602+0.000137485\ttest-rmse:0.340246+0.00106491\ttest-rmsle:0.0475553+0.000115373\n",
      "[93]\ttrain-rmse:0.328888+0.00115628\ttrain-rmsle:0.0459567+0.000161163\ttest-rmse:0.339892+0.000997088\ttest-rmsle:0.047508+0.000106104\n",
      "[94]\ttrain-rmse:0.328521+0.00115064\ttrain-rmsle:0.0459067+0.000156005\ttest-rmse:0.339635+0.00108433\ttest-rmsle:0.0474733+0.000115854\n",
      "[95]\ttrain-rmse:0.328236+0.000924807\ttrain-rmsle:0.0458663+0.000126884\ttest-rmse:0.33943+0.00102721\ttest-rmsle:0.047445+0.000109639\n",
      "[96]\ttrain-rmse:0.327778+0.000983781\ttrain-rmsle:0.0458067+0.000136807\ttest-rmse:0.33906+0.000906507\ttest-rmsle:0.047398+9.39397e-05\n",
      "[97]\ttrain-rmse:0.327284+0.000560298\ttrain-rmsle:0.045739+8.32827e-05\ttest-rmse:0.338669+0.00101255\ttest-rmsle:0.047345+0.000116793\n",
      "[98]\ttrain-rmse:0.327025+0.000468866\ttrain-rmsle:0.0457047+7.11352e-05\ttest-rmse:0.338489+0.00107721\ttest-rmsle:0.0473217+0.000126818\n",
      "[99]\ttrain-rmse:0.326616+0.000522584\ttrain-rmsle:0.0456497+8.06694e-05\ttest-rmse:0.338158+0.000962237\ttest-rmsle:0.047278+0.000114639\n",
      "[100]\ttrain-rmse:0.326393+0.000520892\ttrain-rmsle:0.0456207+8.14957e-05\ttest-rmse:0.338011+0.00094579\ttest-rmsle:0.047259+0.00011344\n",
      "[101]\ttrain-rmse:0.325798+0.000539251\ttrain-rmsle:0.045539+8.28975e-05\ttest-rmse:0.337506+0.000972004\ttest-rmsle:0.04719+0.000113845\n",
      "[102]\ttrain-rmse:0.325444+0.000573081\ttrain-rmsle:0.045493+8.87731e-05\ttest-rmse:0.337246+0.000888451\ttest-rmsle:0.0471563+0.000104837\n",
      "[103]\ttrain-rmse:0.324888+0.000760947\ttrain-rmsle:0.0454137+0.00012037\ttest-rmse:0.336807+0.000711848\ttest-rmsle:0.0470947+8.82434e-05\n",
      "[104]\ttrain-rmse:0.324616+0.00081781\ttrain-rmsle:0.045377+0.000126604\ttest-rmse:0.336589+0.000632971\ttest-rmsle:0.0470657+7.36176e-05\n",
      "[105]\ttrain-rmse:0.32439+0.000862306\ttrain-rmsle:0.0453463+0.000131142\ttest-rmse:0.33643+0.000598059\ttest-rmsle:0.0470443+6.88686e-05\n",
      "[106]\ttrain-rmse:0.324128+0.000775024\ttrain-rmsle:0.0453087+0.000119893\ttest-rmse:0.336261+0.000645446\ttest-rmsle:0.0470207+7.69516e-05\n",
      "[107]\ttrain-rmse:0.323715+0.000736987\ttrain-rmsle:0.0452513+0.000117599\ttest-rmse:0.335961+0.000813734\ttest-rmsle:0.0469787+0.000111673\n",
      "[108]\ttrain-rmse:0.323532+0.000824953\ttrain-rmsle:0.045226+0.000125939\ttest-rmse:0.335865+0.000745377\ttest-rmsle:0.0469657+0.000104411\n",
      "[109]\ttrain-rmse:0.32319+0.00069462\ttrain-rmsle:0.0451797+0.000110527\ttest-rmse:0.335606+0.0009155\ttest-rmsle:0.0469313+0.000125948\n",
      "[110]\ttrain-rmse:0.323031+0.000857215\ttrain-rmsle:0.0451563+0.000134314\ttest-rmse:0.335493+0.000801745\ttest-rmsle:0.046915+0.000112098\n",
      "[111]\ttrain-rmse:0.322652+0.000759254\ttrain-rmsle:0.0451033+0.000119349\ttest-rmse:0.33522+0.000912817\ttest-rmsle:0.046877+0.000125462\n",
      "[112]\ttrain-rmse:0.322302+0.00069338\ttrain-rmsle:0.045054+0.000110372\ttest-rmse:0.334952+0.000924145\ttest-rmsle:0.0468397+0.00012378\n",
      "[113]\ttrain-rmse:0.322102+0.000718982\ttrain-rmsle:0.0450263+0.000114153\ttest-rmse:0.334834+0.000928276\ttest-rmsle:0.0468237+0.000125996\n",
      "[114]\ttrain-rmse:0.321763+0.000851691\ttrain-rmsle:0.044981+0.000130118\ttest-rmse:0.334566+0.0007229\ttest-rmsle:0.046788+9.85934e-05\n",
      "[115]\ttrain-rmse:0.321318+0.000838088\ttrain-rmsle:0.044921+0.000131403\ttest-rmse:0.334222+0.000756596\ttest-rmsle:0.046743+0.000100678\n",
      "[116]\ttrain-rmse:0.320962+0.000664989\ttrain-rmsle:0.044872+0.000108925\ttest-rmse:0.333968+0.000876337\ttest-rmsle:0.046709+0.00010853\n",
      "[117]\ttrain-rmse:0.320729+0.000799295\ttrain-rmsle:0.0448413+0.000125476\ttest-rmse:0.333824+0.000742814\ttest-rmsle:0.0466903+9.30746e-05\n",
      "[118]\ttrain-rmse:0.320435+0.000777707\ttrain-rmsle:0.044801+0.000120485\ttest-rmse:0.333592+0.000748613\ttest-rmsle:0.0466587+8.79558e-05\n",
      "[119]\ttrain-rmse:0.320175+0.000708778\ttrain-rmsle:0.0447653+0.000111299\ttest-rmse:0.333418+0.000838177\ttest-rmsle:0.046635+9.68745e-05\n",
      "[120]\ttrain-rmse:0.319993+0.000837787\ttrain-rmsle:0.04474+0.000126383\ttest-rmse:0.333307+0.000728292\ttest-rmsle:0.04662+8.34426e-05\n",
      "[121]\ttrain-rmse:0.31979+0.000915127\ttrain-rmsle:0.0447117+0.000136612\ttest-rmse:0.333196+0.000691574\ttest-rmsle:0.0466057+7.6917e-05\n",
      "[122]\ttrain-rmse:0.319528+0.000873833\ttrain-rmsle:0.044673+0.000128086\ttest-rmse:0.333027+0.00082006\ttest-rmsle:0.0465807+9.27374e-05\n",
      "[123]\ttrain-rmse:0.319364+0.000796921\ttrain-rmsle:0.0446513+0.000119617\ttest-rmse:0.332941+0.000830651\ttest-rmsle:0.0465697+9.55487e-05\n",
      "[124]\ttrain-rmse:0.319237+0.000730781\ttrain-rmsle:0.044634+0.000112226\ttest-rmse:0.332866+0.000842717\ttest-rmsle:0.0465597+9.87398e-05\n"
     ]
    },
    {
     "name": "stdout",
     "output_type": "stream",
     "text": [
      "[125]\ttrain-rmse:0.31888+0.000567139\ttrain-rmsle:0.0445853+8.92089e-05\ttest-rmse:0.332599+0.00099242\ttest-rmsle:0.0465237+0.000119134\n",
      "[126]\ttrain-rmse:0.31868+0.000592261\ttrain-rmsle:0.0445593+9.30424e-05\ttest-rmse:0.33244+0.000929936\ttest-rmsle:0.0465033+0.000112269\n",
      "[127]\ttrain-rmse:0.318491+0.000518795\ttrain-rmsle:0.0445337+8.36434e-05\ttest-rmse:0.33231+0.000960429\ttest-rmsle:0.0464857+0.000118604\n",
      "[128]\ttrain-rmse:0.31833+0.000531414\ttrain-rmsle:0.04451+8.54166e-05\ttest-rmse:0.332242+0.000956267\ttest-rmsle:0.0464757+0.000118551\n",
      "[129]\ttrain-rmse:0.318229+0.000501505\ttrain-rmsle:0.044497+8.06267e-05\ttest-rmse:0.33218+0.000999281\ttest-rmsle:0.0464677+0.000122568\n",
      "[130]\ttrain-rmse:0.317819+0.000394399\ttrain-rmsle:0.044441+6.64279e-05\ttest-rmse:0.331876+0.00109158\ttest-rmsle:0.0464277+0.000136863\n",
      "[131]\ttrain-rmse:0.31762+0.000307218\ttrain-rmsle:0.0444147+5.53795e-05\ttest-rmse:0.331752+0.00116145\ttest-rmsle:0.046411+0.000146672\n",
      "[132]\ttrain-rmse:0.317368+0.000328102\ttrain-rmsle:0.044382+5.78677e-05\ttest-rmse:0.33157+0.00112812\ttest-rmsle:0.0463887+0.000142822\n",
      "[133]\ttrain-rmse:0.316951+0.000320683\ttrain-rmsle:0.0443263+5.67587e-05\ttest-rmse:0.331248+0.00115452\ttest-rmsle:0.046346+0.000147087\n",
      "[134]\ttrain-rmse:0.316781+0.000318947\ttrain-rmsle:0.0443043+5.65764e-05\ttest-rmse:0.331165+0.00118735\ttest-rmsle:0.0463357+0.000152194\n",
      "[135]\ttrain-rmse:0.316523+0.000232944\ttrain-rmsle:0.0442683+4.23425e-05\ttest-rmse:0.331002+0.00120401\ttest-rmsle:0.0463133+0.000153346\n",
      "[136]\ttrain-rmse:0.316386+0.00032093\ttrain-rmsle:0.0442503+5.47804e-05\ttest-rmse:0.330923+0.00115761\ttest-rmsle:0.0463037+0.000147382\n",
      "[137]\ttrain-rmse:0.316127+0.00037754\ttrain-rmsle:0.0442157+5.8818e-05\ttest-rmse:0.33073+0.00109503\ttest-rmsle:0.0462787+0.000140258\n",
      "[138]\ttrain-rmse:0.315935+0.000297221\ttrain-rmsle:0.04419+4.96655e-05\ttest-rmse:0.330624+0.00115096\ttest-rmsle:0.0462643+0.00014766\n",
      "[139]\ttrain-rmse:0.315852+0.000305794\ttrain-rmsle:0.044176+5.16204e-05\ttest-rmse:0.330606+0.00115111\ttest-rmsle:0.046261+0.000147114\n",
      "[140]\ttrain-rmse:0.315653+0.000225315\ttrain-rmsle:0.0441503+4.12499e-05\ttest-rmse:0.330473+0.0012153\ttest-rmsle:0.046244+0.000155583\n",
      "[141]\ttrain-rmse:0.315496+0.000295854\ttrain-rmsle:0.0441283+4.98152e-05\ttest-rmse:0.330386+0.00115595\ttest-rmsle:0.0462317+0.000148077\n",
      "[142]\ttrain-rmse:0.315172+0.000570388\ttrain-rmsle:0.0440827+8.74541e-05\ttest-rmse:0.330155+0.000897718\ttest-rmsle:0.0461993+0.000112206\n",
      "[143]\ttrain-rmse:0.315011+0.000647287\ttrain-rmsle:0.044061+9.84784e-05\ttest-rmse:0.33006+0.000836351\ttest-rmsle:0.046187+0.000104731\n",
      "[144]\ttrain-rmse:0.314828+0.000618174\ttrain-rmsle:0.0440357+9.21605e-05\ttest-rmse:0.329943+0.000889441\ttest-rmsle:0.046171+0.000110818\n",
      "[145]\ttrain-rmse:0.314665+0.000641644\ttrain-rmsle:0.044012+9.41488e-05\ttest-rmse:0.329834+0.00094395\ttest-rmsle:0.0461557+0.000117457\n",
      "[146]\ttrain-rmse:0.314398+0.00064223\ttrain-rmsle:0.0439747+9.28308e-05\ttest-rmse:0.329667+0.000910477\ttest-rmsle:0.0461327+0.00011422\n",
      "[147]\ttrain-rmse:0.31421+0.00071566\ttrain-rmsle:0.043949+0.00010214\ttest-rmse:0.329538+0.00092527\ttest-rmsle:0.046115+0.000115951\n",
      "[148]\ttrain-rmse:0.313982+0.000755684\ttrain-rmsle:0.0439187+0.000107028\ttest-rmse:0.3294+0.00098373\ttest-rmsle:0.0460973+0.000122609\n",
      "[149]\ttrain-rmse:0.313729+0.000608595\ttrain-rmsle:0.0438837+8.70606e-05\ttest-rmse:0.329214+0.00103282\ttest-rmsle:0.046072+0.000130272\n",
      "[150]\ttrain-rmse:0.313586+0.000633504\ttrain-rmsle:0.0438643+8.97862e-05\ttest-rmse:0.329147+0.0010149\ttest-rmsle:0.0460637+0.000129209\n",
      "[151]\ttrain-rmse:0.313304+0.000552402\ttrain-rmsle:0.0438253+7.80185e-05\ttest-rmse:0.328923+0.00120067\ttest-rmsle:0.0460327+0.000154126\n",
      "[152]\ttrain-rmse:0.313173+0.000607737\ttrain-rmsle:0.0438087+8.43221e-05\ttest-rmse:0.32883+0.00109903\ttest-rmsle:0.0460213+0.000141596\n",
      "[153]\ttrain-rmse:0.312956+0.000568991\ttrain-rmsle:0.043778+7.9196e-05\ttest-rmse:0.328694+0.00103742\ttest-rmsle:0.0460023+0.000133817\n",
      "[154]\ttrain-rmse:0.312668+0.000694259\ttrain-rmsle:0.0437383+9.55138e-05\ttest-rmse:0.328482+0.000901409\ttest-rmsle:0.0459737+0.000116254\n",
      "[155]\ttrain-rmse:0.312565+0.000669739\ttrain-rmsle:0.043723+9.22424e-05\ttest-rmse:0.328455+0.000909135\ttest-rmsle:0.0459693+0.000117542\n",
      "[156]\ttrain-rmse:0.312468+0.000617859\ttrain-rmsle:0.0437097+8.49405e-05\ttest-rmse:0.328397+0.00092638\ttest-rmsle:0.0459613+0.00012082\n",
      "[157]\ttrain-rmse:0.312308+0.000718294\ttrain-rmsle:0.0436887+9.89422e-05\ttest-rmse:0.328296+0.000843415\ttest-rmsle:0.0459483+0.000109405\n",
      "[158]\ttrain-rmse:0.312224+0.000672633\ttrain-rmsle:0.0436773+9.27589e-05\ttest-rmse:0.328251+0.000856933\ttest-rmsle:0.045943+0.000111511\n",
      "[159]\ttrain-rmse:0.312113+0.000713919\ttrain-rmsle:0.0436617+9.87736e-05\ttest-rmse:0.328205+0.000830192\ttest-rmsle:0.0459363+0.000107413\n",
      "[160]\ttrain-rmse:0.311927+0.000619755\ttrain-rmsle:0.0436363+8.64459e-05\ttest-rmse:0.328055+0.00093618\ttest-rmsle:0.045916+0.000121795\n",
      "[161]\ttrain-rmse:0.311791+0.000577981\ttrain-rmsle:0.043617+8.05771e-05\ttest-rmse:0.327977+0.00101179\ttest-rmsle:0.0459057+0.000131332\n",
      "[162]\ttrain-rmse:0.311502+0.000506713\ttrain-rmsle:0.0435763+6.82658e-05\ttest-rmse:0.32778+0.00104831\ttest-rmsle:0.0458783+0.00013765\n",
      "[163]\ttrain-rmse:0.311293+0.000382004\ttrain-rmsle:0.0435483+5.31309e-05\ttest-rmse:0.327647+0.0010909\ttest-rmsle:0.045861+0.000144702\n",
      "[164]\ttrain-rmse:0.311095+0.000251813\ttrain-rmsle:0.04352+3.40979e-05\ttest-rmse:0.327548+0.00115593\ttest-rmsle:0.0458473+0.0001542\n",
      "[165]\ttrain-rmse:0.31087+0.000265549\ttrain-rmsle:0.0434883+3.42669e-05\ttest-rmse:0.327404+0.0011662\ttest-rmsle:0.045827+0.000156041\n",
      "[166]\ttrain-rmse:0.310711+0.000286414\ttrain-rmsle:0.0434653+3.59104e-05\ttest-rmse:0.327347+0.00116253\ttest-rmsle:0.0458187+0.000155894\n",
      "[167]\ttrain-rmse:0.310552+0.000346671\ttrain-rmsle:0.043444+4.36425e-05\ttest-rmse:0.327243+0.00114937\ttest-rmsle:0.0458053+0.000154165\n",
      "[168]\ttrain-rmse:0.310419+0.000430923\ttrain-rmsle:0.0434257+5.55118e-05\ttest-rmse:0.327172+0.00110747\ttest-rmsle:0.045796+0.000148155\n",
      "[169]\ttrain-rmse:0.31029+0.000358043\ttrain-rmsle:0.0434077+4.52131e-05\ttest-rmse:0.327101+0.00113846\ttest-rmsle:0.045786+0.000152934\n",
      "[170]\ttrain-rmse:0.310169+0.000328464\ttrain-rmsle:0.0433903+4.17e-05\ttest-rmse:0.327018+0.00113537\ttest-rmsle:0.0457743+0.000153328\n",
      "[171]\ttrain-rmse:0.310037+0.000317718\ttrain-rmsle:0.0433723+4.14273e-05\ttest-rmse:0.326948+0.00114474\ttest-rmsle:0.0457653+0.000155521\n",
      "[172]\ttrain-rmse:0.309808+0.000279504\ttrain-rmsle:0.043341+3.70675e-05\ttest-rmse:0.326784+0.00120185\ttest-rmsle:0.0457433+0.000161692\n",
      "[173]\ttrain-rmse:0.309654+0.000358915\ttrain-rmsle:0.0433197+4.77237e-05\ttest-rmse:0.326693+0.00112023\ttest-rmsle:0.0457313+0.000150604\n",
      "[174]\ttrain-rmse:0.309473+0.000395168\ttrain-rmsle:0.0432957+5.21621e-05\ttest-rmse:0.326588+0.00110494\ttest-rmsle:0.045718+0.000148378\n",
      "[175]\ttrain-rmse:0.309324+0.000341589\ttrain-rmsle:0.0432747+4.56387e-05\ttest-rmse:0.326525+0.00113966\ttest-rmsle:0.04571+0.000152584\n",
      "[176]\ttrain-rmse:0.309162+0.000308876\ttrain-rmsle:0.0432527+4.33154e-05\ttest-rmse:0.32642+0.00117814\ttest-rmsle:0.0456957+0.000158956\n",
      "[177]\ttrain-rmse:0.308912+0.000291779\ttrain-rmsle:0.0432203+4.41538e-05\ttest-rmse:0.32623+0.00129742\ttest-rmsle:0.0456717+0.000175769\n",
      "[178]\ttrain-rmse:0.308479+0.000282067\ttrain-rmsle:0.043163+4.23399e-05\ttest-rmse:0.325889+0.00135025\ttest-rmsle:0.0456267+0.000183524\n",
      "[179]\ttrain-rmse:0.308414+0.00026476\ttrain-rmsle:0.0431547+4.01857e-05\ttest-rmse:0.325855+0.0013361\ttest-rmsle:0.045622+0.00018183\n",
      "[180]\ttrain-rmse:0.308313+0.000224234\ttrain-rmsle:0.043141+3.52231e-05\ttest-rmse:0.325801+0.0013465\ttest-rmsle:0.0456153+0.000182934\n",
      "[181]\ttrain-rmse:0.308235+0.00022776\ttrain-rmsle:0.0431293+3.71513e-05\ttest-rmse:0.325783+0.00135749\ttest-rmsle:0.045612+0.000184577\n",
      "[182]\ttrain-rmse:0.308079+0.000364162\ttrain-rmsle:0.0431083+5.64348e-05\ttest-rmse:0.325675+0.0013792\ttest-rmsle:0.045598+0.000188798\n",
      "[183]\ttrain-rmse:0.307967+0.000347452\ttrain-rmsle:0.0430933+5.47256e-05\ttest-rmse:0.325628+0.00139185\ttest-rmsle:0.045592+0.000189954\n",
      "[184]\ttrain-rmse:0.307866+0.000378001\ttrain-rmsle:0.043079+5.7463e-05\ttest-rmse:0.325596+0.00140775\ttest-rmsle:0.0455873+0.000192756\n",
      "[185]\ttrain-rmse:0.307758+0.00038748\ttrain-rmsle:0.0430637+5.73895e-05\ttest-rmse:0.325552+0.00137892\ttest-rmsle:0.0455813+0.000189415\n",
      "[186]\ttrain-rmse:0.307654+0.00033761\ttrain-rmsle:0.043049+5.02062e-05\ttest-rmse:0.325481+0.00142814\ttest-rmsle:0.0455717+0.000195708\n"
     ]
    },
    {
     "name": "stdout",
     "output_type": "stream",
     "text": [
      "[187]\ttrain-rmse:0.307562+0.000308464\ttrain-rmsle:0.043036+4.6483e-05\ttest-rmse:0.325459+0.00145\ttest-rmsle:0.0455687+0.000198411\n",
      "[188]\ttrain-rmse:0.307494+0.000316216\ttrain-rmsle:0.043026+4.82494e-05\ttest-rmse:0.325439+0.00144287\ttest-rmsle:0.0455657+0.000197761\n",
      "[189]\ttrain-rmse:0.307308+0.0002617\ttrain-rmsle:0.043+4.05545e-05\ttest-rmse:0.325333+0.00148776\ttest-rmsle:0.045551+0.000203648\n",
      "[190]\ttrain-rmse:0.307216+0.000226282\ttrain-rmsle:0.0429873+3.5046e-05\ttest-rmse:0.325288+0.00142662\ttest-rmsle:0.045545+0.000195163\n",
      "[191]\ttrain-rmse:0.307113+0.000282867\ttrain-rmsle:0.0429723+4.30839e-05\ttest-rmse:0.325257+0.0014284\ttest-rmsle:0.0455407+0.000195432\n",
      "[192]\ttrain-rmse:0.307041+0.000299916\ttrain-rmsle:0.0429623+4.47313e-05\ttest-rmse:0.32522+0.00142459\ttest-rmsle:0.045536+0.000195271\n",
      "[193]\ttrain-rmse:0.306985+0.000326735\ttrain-rmsle:0.0429543+4.75908e-05\ttest-rmse:0.325205+0.00143274\ttest-rmsle:0.0455337+0.000195585\n",
      "[194]\ttrain-rmse:0.306862+0.000440728\ttrain-rmsle:0.0429373+6.42409e-05\ttest-rmse:0.325134+0.00147346\ttest-rmsle:0.0455237+0.000201968\n",
      "[195]\ttrain-rmse:0.30672+0.00044715\ttrain-rmsle:0.0429193+6.37146e-05\ttest-rmse:0.325043+0.00139261\ttest-rmsle:0.0455127+0.000192198\n",
      "[196]\ttrain-rmse:0.30667+0.000421776\ttrain-rmsle:0.0429117+6.01794e-05\ttest-rmse:0.325029+0.00139182\ttest-rmsle:0.0455103+0.000192231\n",
      "[197]\ttrain-rmse:0.306514+0.000455044\ttrain-rmsle:0.0428897+6.18942e-05\ttest-rmse:0.324912+0.00122561\ttest-rmsle:0.045494+0.000169247\n",
      "[198]\ttrain-rmse:0.306387+0.000486963\ttrain-rmsle:0.0428727+6.6695e-05\ttest-rmse:0.324839+0.00126078\ttest-rmsle:0.0454847+0.00017433\n",
      "[199]\ttrain-rmse:0.306228+0.000550588\ttrain-rmsle:0.0428503+7.51901e-05\ttest-rmse:0.324739+0.0012081\ttest-rmsle:0.0454707+0.000167448\n",
      "[200]\ttrain-rmse:0.306064+0.000421278\ttrain-rmsle:0.042828+5.98164e-05\ttest-rmse:0.324645+0.00126777\ttest-rmsle:0.0454583+0.000173774\n",
      "[201]\ttrain-rmse:0.30601+0.000418474\ttrain-rmsle:0.042821+5.9234e-05\ttest-rmse:0.324623+0.00126769\ttest-rmsle:0.045456+0.000173971\n",
      "[202]\ttrain-rmse:0.30581+0.000518823\ttrain-rmsle:0.0427933+7.13505e-05\ttest-rmse:0.324482+0.00110417\ttest-rmsle:0.0454363+0.000152102\n",
      "[203]\ttrain-rmse:0.305772+0.000485991\ttrain-rmsle:0.0427887+6.69145e-05\ttest-rmse:0.324469+0.00111436\ttest-rmsle:0.045435+0.000152777\n",
      "[204]\ttrain-rmse:0.30571+0.000456818\ttrain-rmsle:0.042779+6.30397e-05\ttest-rmse:0.324438+0.00113468\ttest-rmsle:0.04543+0.000155983\n",
      "[205]\ttrain-rmse:0.305627+0.000509472\ttrain-rmsle:0.0427683+6.99397e-05\ttest-rmse:0.324398+0.00116217\ttest-rmsle:0.0454253+0.000159786\n",
      "[206]\ttrain-rmse:0.305364+0.000483885\ttrain-rmsle:0.0427313+6.65148e-05\ttest-rmse:0.324217+0.00112962\ttest-rmsle:0.0454+0.000153534\n",
      "[207]\ttrain-rmse:0.305065+0.000643041\ttrain-rmsle:0.0426897+8.99049e-05\ttest-rmse:0.323993+0.00128318\ttest-rmsle:0.0453693+0.000176532\n",
      "[208]\ttrain-rmse:0.304977+0.000640811\ttrain-rmsle:0.042677+9.03475e-05\ttest-rmse:0.32396+0.00126887\ttest-rmsle:0.0453647+0.000175289\n",
      "[209]\ttrain-rmse:0.304793+0.000609476\ttrain-rmsle:0.042652+8.88182e-05\ttest-rmse:0.323855+0.00131397\ttest-rmsle:0.0453507+0.000181175\n",
      "[210]\ttrain-rmse:0.304593+0.000665881\ttrain-rmsle:0.042626+9.43645e-05\ttest-rmse:0.323718+0.00120317\ttest-rmsle:0.0453333+0.000168056\n",
      "[211]\ttrain-rmse:0.304501+0.000600447\ttrain-rmsle:0.042614+8.63288e-05\ttest-rmse:0.323654+0.00122339\ttest-rmsle:0.0453253+0.000169771\n",
      "[212]\ttrain-rmse:0.304153+0.000685713\ttrain-rmsle:0.042566+0.00010082\ttest-rmse:0.323381+0.00142679\ttest-rmsle:0.0452873+0.00019916\n",
      "[213]\ttrain-rmse:0.304002+0.000796609\ttrain-rmsle:0.0425453+0.000115289\ttest-rmse:0.323289+0.00147542\ttest-rmsle:0.0452757+0.000205745\n",
      "[214]\ttrain-rmse:0.303938+0.000782294\ttrain-rmsle:0.0425367+0.000113238\ttest-rmse:0.323278+0.00149065\ttest-rmsle:0.0452743+0.000208234\n",
      "[215]\ttrain-rmse:0.303737+0.000732738\ttrain-rmsle:0.0425093+0.000106428\ttest-rmse:0.323147+0.00152606\ttest-rmsle:0.0452573+0.000212459\n",
      "[216]\ttrain-rmse:0.303537+0.000637114\ttrain-rmsle:0.0424813+9.28703e-05\ttest-rmse:0.323001+0.00160863\ttest-rmsle:0.045237+0.000222567\n",
      "[217]\ttrain-rmse:0.303486+0.000610282\ttrain-rmsle:0.042474+8.90992e-05\ttest-rmse:0.322976+0.00162098\ttest-rmsle:0.0452337+0.00022375\n",
      "[218]\ttrain-rmse:0.303369+0.000595777\ttrain-rmsle:0.042459+8.69176e-05\ttest-rmse:0.322919+0.00157958\ttest-rmsle:0.0452263+0.000218616\n",
      "[219]\ttrain-rmse:0.303278+0.000556882\ttrain-rmsle:0.0424453+8.05661e-05\ttest-rmse:0.322905+0.00156024\ttest-rmsle:0.0452243+0.000215917\n",
      "[220]\ttrain-rmse:0.303122+0.000581299\ttrain-rmsle:0.042424+8.36939e-05\ttest-rmse:0.322825+0.00151132\ttest-rmsle:0.0452137+0.000209726\n",
      "[221]\ttrain-rmse:0.302953+0.000598861\ttrain-rmsle:0.0424+8.66064e-05\ttest-rmse:0.322738+0.00147402\ttest-rmsle:0.0452013+0.000204428\n",
      "[222]\ttrain-rmse:0.302821+0.000627202\ttrain-rmsle:0.042381+9.12177e-05\ttest-rmse:0.322687+0.0014625\ttest-rmsle:0.0451943+0.000203159\n",
      "[223]\ttrain-rmse:0.302755+0.000604705\ttrain-rmsle:0.0423717+8.9235e-05\ttest-rmse:0.322662+0.00146922\ttest-rmsle:0.045191+0.000203838\n",
      "[224]\ttrain-rmse:0.302681+0.000557241\ttrain-rmsle:0.0423613+8.26935e-05\ttest-rmse:0.322635+0.00147051\ttest-rmsle:0.0451873+0.00020384\n",
      "[225]\ttrain-rmse:0.302486+0.000516543\ttrain-rmsle:0.042335+7.69589e-05\ttest-rmse:0.322493+0.00139642\ttest-rmsle:0.0451683+0.000192849\n",
      "[226]\ttrain-rmse:0.302245+0.000567521\ttrain-rmsle:0.042303+8.38371e-05\ttest-rmse:0.322314+0.00135174\ttest-rmsle:0.045145+0.00018809\n",
      "[227]\ttrain-rmse:0.302068+0.000480379\ttrain-rmsle:0.0422787+7.1565e-05\ttest-rmse:0.322201+0.0014251\ttest-rmsle:0.04513+0.000197253\n",
      "[228]\ttrain-rmse:0.301936+0.000446409\ttrain-rmsle:0.0422603+6.89944e-05\ttest-rmse:0.322146+0.00145905\ttest-rmsle:0.0451227+0.000201313\n",
      "[229]\ttrain-rmse:0.301773+0.000439437\ttrain-rmsle:0.042238+6.74883e-05\ttest-rmse:0.322046+0.00145265\ttest-rmsle:0.045109+0.000200511\n",
      "[230]\ttrain-rmse:0.301696+0.00041021\ttrain-rmsle:0.042227+6.37547e-05\ttest-rmse:0.322014+0.00144191\ttest-rmsle:0.0451043+0.00019939\n",
      "[231]\ttrain-rmse:0.301572+0.000539834\ttrain-rmsle:0.0422097+8.20989e-05\ttest-rmse:0.321917+0.00147805\ttest-rmsle:0.0450913+0.000206143\n",
      "[232]\ttrain-rmse:0.301443+0.000530957\ttrain-rmsle:0.0421923+8.13484e-05\ttest-rmse:0.32184+0.00146196\ttest-rmsle:0.045081+0.000203521\n",
      "[233]\ttrain-rmse:0.301397+0.000524698\ttrain-rmsle:0.042186+8.04156e-05\ttest-rmse:0.32183+0.00145631\ttest-rmsle:0.0450797+0.000202962\n",
      "[234]\ttrain-rmse:0.301288+0.000494811\ttrain-rmsle:0.0421707+7.6111e-05\ttest-rmse:0.321745+0.00142391\ttest-rmsle:0.045068+0.000197322\n",
      "[235]\ttrain-rmse:0.301135+0.000452841\ttrain-rmsle:0.0421493+6.98204e-05\ttest-rmse:0.321666+0.00134774\ttest-rmsle:0.045057+0.000186649\n",
      "[236]\ttrain-rmse:0.300982+0.000446073\ttrain-rmsle:0.0421277+7.10508e-05\ttest-rmse:0.3216+0.00138706\ttest-rmsle:0.0450483+0.000190956\n",
      "[237]\ttrain-rmse:0.300885+0.000447878\ttrain-rmsle:0.0421133+7.18532e-05\ttest-rmse:0.321555+0.00133187\ttest-rmsle:0.045042+0.000183425\n",
      "[238]\ttrain-rmse:0.300691+0.000478136\ttrain-rmsle:0.042087+7.69935e-05\ttest-rmse:0.321433+0.00138369\ttest-rmsle:0.0450253+0.000191566\n",
      "[239]\ttrain-rmse:0.300599+0.000510897\ttrain-rmsle:0.042074+8.22071e-05\ttest-rmse:0.321393+0.00141143\ttest-rmsle:0.04502+0.000195566\n",
      "[240]\ttrain-rmse:0.300534+0.000470993\ttrain-rmsle:0.0420653+7.70296e-05\ttest-rmse:0.321361+0.00143337\ttest-rmsle:0.045016+0.000197992\n",
      "[241]\ttrain-rmse:0.300342+0.000516535\ttrain-rmsle:0.0420387+8.30274e-05\ttest-rmse:0.321244+0.00148042\ttest-rmsle:0.045+0.000204667\n",
      "[242]\ttrain-rmse:0.300086+0.000758529\ttrain-rmsle:0.042002+0.000116528\ttest-rmse:0.321068+0.00161413\ttest-rmsle:0.0449747+0.000225531\n",
      "[243]\ttrain-rmse:0.299999+0.000735388\ttrain-rmsle:0.0419903+0.000113517\ttest-rmse:0.321027+0.0016043\ttest-rmsle:0.0449697+0.000224844\n",
      "[244]\ttrain-rmse:0.299925+0.000763327\ttrain-rmsle:0.0419797+0.000116997\ttest-rmse:0.321008+0.00160066\ttest-rmsle:0.0449667+0.000224405\n",
      "[245]\ttrain-rmse:0.299839+0.000854291\ttrain-rmsle:0.0419677+0.0001296\ttest-rmse:0.320952+0.00164843\ttest-rmsle:0.044959+0.000231224\n",
      "[246]\ttrain-rmse:0.299738+0.000844915\ttrain-rmsle:0.0419543+0.000127565\ttest-rmse:0.320898+0.00164616\ttest-rmsle:0.0449523+0.000231287\n",
      "[247]\ttrain-rmse:0.299639+0.000869134\ttrain-rmsle:0.0419397+0.000131497\ttest-rmse:0.320865+0.00164802\ttest-rmsle:0.0449477+0.000231962\n",
      "[248]\ttrain-rmse:0.299542+0.000906697\ttrain-rmsle:0.041926+0.000136984\ttest-rmse:0.320835+0.00166293\ttest-rmsle:0.0449433+0.00023408\n"
     ]
    },
    {
     "name": "stdout",
     "output_type": "stream",
     "text": [
      "[249]\ttrain-rmse:0.299452+0.000922163\ttrain-rmsle:0.0419137+0.000139093\ttest-rmse:0.320794+0.00165354\ttest-rmsle:0.044938+0.000232475\n",
      "[250]\ttrain-rmse:0.299239+0.00105709\ttrain-rmsle:0.041883+0.000158196\ttest-rmse:0.320644+0.00169537\ttest-rmsle:0.0449167+0.00023929\n",
      "[251]\ttrain-rmse:0.299189+0.00109908\ttrain-rmsle:0.041876+0.000163911\ttest-rmse:0.320624+0.00170523\ttest-rmsle:0.044914+0.000241082\n",
      "[252]\ttrain-rmse:0.299156+0.0011087\ttrain-rmsle:0.041871+0.000165966\ttest-rmse:0.320619+0.00170806\ttest-rmsle:0.0449133+0.000240998\n",
      "[253]\ttrain-rmse:0.299115+0.00110611\ttrain-rmsle:0.041865+0.000165604\ttest-rmse:0.320611+0.00171183\ttest-rmsle:0.044912+0.000242162\n",
      "[254]\ttrain-rmse:0.29907+0.0011063\ttrain-rmsle:0.041859+0.000165604\ttest-rmse:0.320591+0.00172306\ttest-rmsle:0.0449097+0.000243327\n",
      "[255]\ttrain-rmse:0.299027+0.00114695\ttrain-rmsle:0.0418537+0.000171039\ttest-rmse:0.320571+0.00173493\ttest-rmsle:0.0449073+0.000244775\n",
      "[256]\ttrain-rmse:0.29897+0.00116839\ttrain-rmsle:0.0418457+0.000173935\ttest-rmse:0.32055+0.00174769\ttest-rmsle:0.044904+0.000246808\n",
      "[257]\ttrain-rmse:0.298897+0.00115302\ttrain-rmsle:0.041836+0.000171961\ttest-rmse:0.320521+0.00171081\ttest-rmsle:0.0449007+0.000242411\n",
      "[258]\ttrain-rmse:0.298842+0.00116191\ttrain-rmsle:0.0418277+0.000173325\ttest-rmse:0.320514+0.001703\ttest-rmsle:0.0449+0.000240941\n",
      "[259]\ttrain-rmse:0.298628+0.00121979\ttrain-rmsle:0.041798+0.000182561\ttest-rmse:0.320355+0.00175347\ttest-rmsle:0.044878+0.000248801\n",
      "[260]\ttrain-rmse:0.298453+0.00130094\ttrain-rmsle:0.0417737+0.000195063\ttest-rmse:0.320231+0.00176908\ttest-rmsle:0.0448613+0.000252244\n",
      "[261]\ttrain-rmse:0.298326+0.00141059\ttrain-rmsle:0.0417563+0.000210234\ttest-rmse:0.320154+0.00184996\ttest-rmsle:0.0448503+0.000263882\n",
      "[262]\ttrain-rmse:0.298212+0.00143781\ttrain-rmsle:0.0417403+0.000215054\ttest-rmse:0.320084+0.00187158\ttest-rmsle:0.0448403+0.000267789\n",
      "[263]\ttrain-rmse:0.298116+0.00143861\ttrain-rmsle:0.041727+0.000214807\ttest-rmse:0.320041+0.00184959\ttest-rmsle:0.0448347+0.000264874\n",
      "[264]\ttrain-rmse:0.297966+0.00142431\ttrain-rmsle:0.041707+0.00021311\ttest-rmse:0.319953+0.0018861\ttest-rmsle:0.044823+0.000269978\n",
      "[265]\ttrain-rmse:0.29793+0.00143046\ttrain-rmsle:0.041702+0.000213871\ttest-rmse:0.319943+0.00188883\ttest-rmsle:0.0448217+0.000270462\n",
      "[266]\ttrain-rmse:0.297866+0.0014383\ttrain-rmsle:0.0416923+0.000214553\ttest-rmse:0.319932+0.00189042\ttest-rmsle:0.04482+0.000270793\n",
      "[267]\ttrain-rmse:0.29779+0.00145944\ttrain-rmsle:0.0416823+0.000217363\ttest-rmse:0.319894+0.0019146\ttest-rmsle:0.0448153+0.000273298\n",
      "[268]\ttrain-rmse:0.297656+0.00138004\ttrain-rmsle:0.041664+0.000206514\ttest-rmse:0.319796+0.0018511\ttest-rmsle:0.0448023+0.000263978\n",
      "[269]\ttrain-rmse:0.297514+0.0012952\ttrain-rmsle:0.0416453+0.000195902\ttest-rmse:0.319704+0.00184263\ttest-rmsle:0.0447907+0.000262204\n",
      "[270]\ttrain-rmse:0.297465+0.00131199\ttrain-rmsle:0.0416377+0.000198236\ttest-rmse:0.31969+0.00184846\ttest-rmsle:0.044788+0.000263288\n",
      "[271]\ttrain-rmse:0.297279+0.0013298\ttrain-rmsle:0.041612+0.00020137\ttest-rmse:0.319571+0.00178793\ttest-rmsle:0.0447717+0.000255322\n",
      "[272]\ttrain-rmse:0.297193+0.00135386\ttrain-rmsle:0.0416007+0.00020519\ttest-rmse:0.319528+0.00181249\ttest-rmsle:0.044766+0.000258318\n",
      "[273]\ttrain-rmse:0.297101+0.00134007\ttrain-rmsle:0.0415867+0.00020329\ttest-rmse:0.319492+0.00181057\ttest-rmsle:0.044761+0.000258265\n",
      "[274]\ttrain-rmse:0.297053+0.00131547\ttrain-rmsle:0.04158+0.000199686\ttest-rmse:0.319487+0.00181065\ttest-rmsle:0.0447597+0.000257834\n",
      "[275]\ttrain-rmse:0.297002+0.00135514\ttrain-rmsle:0.041572+0.000206167\ttest-rmse:0.319481+0.00181946\ttest-rmsle:0.044759+0.000258596\n",
      "[276]\ttrain-rmse:0.296871+0.00130315\ttrain-rmsle:0.0415533+0.000197745\ttest-rmse:0.319393+0.00185422\ttest-rmsle:0.044747+0.000262946\n",
      "[277]\ttrain-rmse:0.296768+0.00131122\ttrain-rmsle:0.0415393+0.0001988\ttest-rmse:0.31934+0.00187905\ttest-rmsle:0.0447397+0.000266165\n",
      "[278]\ttrain-rmse:0.296651+0.00144401\ttrain-rmsle:0.0415233+0.000217029\ttest-rmse:0.319252+0.0019677\ttest-rmsle:0.044728+0.000278547\n",
      "[279]\ttrain-rmse:0.296587+0.00148049\ttrain-rmsle:0.0415143+0.000222161\ttest-rmse:0.319229+0.00196124\ttest-rmsle:0.0447243+0.000277508\n",
      "[280]\ttrain-rmse:0.296525+0.00145474\ttrain-rmsle:0.0415057+0.000218604\ttest-rmse:0.319204+0.00197776\ttest-rmsle:0.0447213+0.00027935\n",
      "[281]\ttrain-rmse:0.2965+0.00145619\ttrain-rmsle:0.0415027+0.00021848\ttest-rmse:0.319197+0.00198077\ttest-rmsle:0.0447203+0.000279544\n",
      "[282]\ttrain-rmse:0.296385+0.00148929\ttrain-rmsle:0.0414863+0.000222268\ttest-rmse:0.319121+0.00202557\ttest-rmsle:0.0447097+0.000285379\n",
      "[283]\ttrain-rmse:0.296259+0.00151229\ttrain-rmsle:0.041469+0.000224873\ttest-rmse:0.319035+0.00205232\ttest-rmsle:0.0446987+0.000288544\n",
      "[284]\ttrain-rmse:0.296168+0.00150388\ttrain-rmsle:0.0414553+0.000223685\ttest-rmse:0.319009+0.00204994\ttest-rmsle:0.0446947+0.000288313\n",
      "[285]\ttrain-rmse:0.296109+0.00153279\ttrain-rmsle:0.0414473+0.000227924\ttest-rmse:0.318991+0.00205424\ttest-rmsle:0.0446923+0.000289262\n",
      "[286]\ttrain-rmse:0.296018+0.00148257\ttrain-rmsle:0.041435+0.000220623\ttest-rmse:0.31895+0.00205985\ttest-rmsle:0.0446867+0.000289553\n",
      "[287]\ttrain-rmse:0.295973+0.00146278\ttrain-rmsle:0.0414287+0.000218274\ttest-rmse:0.318931+0.00204051\ttest-rmsle:0.0446847+0.000287419\n",
      "[288]\ttrain-rmse:0.295893+0.00141933\ttrain-rmsle:0.041418+0.000212289\ttest-rmse:0.318883+0.00205298\ttest-rmsle:0.0446783+0.000288844\n",
      "[289]\ttrain-rmse:0.29587+0.00141488\ttrain-rmsle:0.041415+0.000211671\ttest-rmse:0.31887+0.00205708\ttest-rmsle:0.0446763+0.000289132\n",
      "[290]\ttrain-rmse:0.295788+0.00139452\ttrain-rmsle:0.041404+0.000208595\ttest-rmse:0.318843+0.00207205\ttest-rmsle:0.0446733+0.000290834\n",
      "[291]\ttrain-rmse:0.295617+0.00135341\ttrain-rmsle:0.04138+0.00020296\ttest-rmse:0.318722+0.00195699\ttest-rmsle:0.044656+0.000274478\n",
      "[292]\ttrain-rmse:0.295488+0.00134655\ttrain-rmsle:0.0413613+0.000203031\ttest-rmse:0.318648+0.00190205\ttest-rmsle:0.044646+0.000267301\n",
      "[293]\ttrain-rmse:0.29541+0.00131979\ttrain-rmsle:0.0413503+0.000199309\ttest-rmse:0.31862+0.00189634\ttest-rmsle:0.044642+0.000266197\n",
      "[294]\ttrain-rmse:0.29519+0.00121129\ttrain-rmsle:0.0413203+0.000185144\ttest-rmse:0.318474+0.00182134\ttest-rmsle:0.0446227+0.000256518\n",
      "[295]\ttrain-rmse:0.29511+0.00120816\ttrain-rmsle:0.041309+0.000184434\ttest-rmse:0.318438+0.00180648\ttest-rmsle:0.0446177+0.000254315\n",
      "[296]\ttrain-rmse:0.295013+0.00117239\ttrain-rmsle:0.041296+0.000180557\ttest-rmse:0.318398+0.001812\ttest-rmsle:0.0446127+0.000255005\n",
      "[297]\ttrain-rmse:0.294909+0.00118113\ttrain-rmsle:0.0412817+0.000182635\ttest-rmse:0.318351+0.00179034\ttest-rmsle:0.0446063+0.000252819\n",
      "[298]\ttrain-rmse:0.29481+0.00118192\ttrain-rmsle:0.041268+0.000181808\ttest-rmse:0.318297+0.00176719\ttest-rmsle:0.0445987+0.000248937\n",
      "[299]\ttrain-rmse:0.294736+0.00122631\ttrain-rmsle:0.0412577+0.00018799\ttest-rmse:0.318268+0.00178627\ttest-rmsle:0.044595+0.000251783\n",
      "[300]\ttrain-rmse:0.294625+0.00122172\ttrain-rmsle:0.0412423+0.000188772\ttest-rmse:0.318212+0.00172649\ttest-rmsle:0.0445877+0.000244111\n",
      "[301]\ttrain-rmse:0.294596+0.00121298\ttrain-rmsle:0.041238+0.000187494\ttest-rmse:0.318208+0.00172318\ttest-rmsle:0.044587+0.000243758\n",
      "[302]\ttrain-rmse:0.294472+0.00117451\ttrain-rmsle:0.0412193+0.000181189\ttest-rmse:0.318154+0.00163865\ttest-rmsle:0.0445797+0.000231537\n",
      "[303]\ttrain-rmse:0.294413+0.00115784\ttrain-rmsle:0.041212+0.000179449\ttest-rmse:0.318126+0.00164352\ttest-rmsle:0.0445763+0.000231926\n",
      "[304]\ttrain-rmse:0.294363+0.00114745\ttrain-rmsle:0.0412053+0.000178246\ttest-rmse:0.31812+0.00163496\ttest-rmsle:0.0445757+0.00023103\n",
      "[305]\ttrain-rmse:0.294334+0.0011512\ttrain-rmsle:0.0412007+0.000178674\ttest-rmse:0.318117+0.00163019\ttest-rmsle:0.044575+0.000230135\n",
      "[306]\ttrain-rmse:0.294307+0.00113665\ttrain-rmsle:0.0411967+0.000176864\ttest-rmse:0.318107+0.00162521\ttest-rmsle:0.0445737+0.000229432\n",
      "[307]\ttrain-rmse:0.294237+0.00112311\ttrain-rmsle:0.041187+0.000174713\ttest-rmse:0.318076+0.00160659\ttest-rmsle:0.0445697+0.000226746\n",
      "[308]\ttrain-rmse:0.294138+0.00119742\ttrain-rmsle:0.0411733+0.000184357\ttest-rmse:0.318049+0.00164424\ttest-rmsle:0.0445663+0.000231894\n",
      "[309]\ttrain-rmse:0.294094+0.00119178\ttrain-rmsle:0.0411677+0.000183351\ttest-rmse:0.318032+0.00163748\ttest-rmsle:0.044564+0.00023119\n",
      "[310]\ttrain-rmse:0.294022+0.00116791\ttrain-rmsle:0.041157+0.000180202\ttest-rmse:0.318011+0.0016386\ttest-rmsle:0.0445613+0.000231362\n"
     ]
    },
    {
     "name": "stdout",
     "output_type": "stream",
     "text": [
      "[311]\ttrain-rmse:0.293959+0.00118594\ttrain-rmsle:0.0411473+0.000183707\ttest-rmse:0.317999+0.00161571\ttest-rmsle:0.0445593+0.000228152\n",
      "[312]\ttrain-rmse:0.293827+0.00116748\ttrain-rmsle:0.041129+0.00018122\ttest-rmse:0.317934+0.00159062\ttest-rmsle:0.04455+0.000224234\n",
      "[313]\ttrain-rmse:0.293743+0.00119909\ttrain-rmsle:0.0411167+0.000185683\ttest-rmse:0.317907+0.00162681\ttest-rmsle:0.0445463+0.000229774\n",
      "[314]\ttrain-rmse:0.2937+0.00120164\ttrain-rmsle:0.0411113+0.000185949\ttest-rmse:0.317896+0.00162541\ttest-rmsle:0.0445447+0.000229692\n",
      "[315]\ttrain-rmse:0.293606+0.00118121\ttrain-rmsle:0.0410983+0.000183823\ttest-rmse:0.317849+0.00161142\ttest-rmsle:0.044539+0.000228241\n",
      "[316]\ttrain-rmse:0.293552+0.00117677\ttrain-rmsle:0.0410907+0.000183598\ttest-rmse:0.317834+0.00159344\ttest-rmsle:0.044537+0.00022557\n",
      "[317]\ttrain-rmse:0.293528+0.00115891\ttrain-rmsle:0.0410873+0.000180485\ttest-rmse:0.31782+0.00159878\ttest-rmsle:0.044535+0.000226111\n",
      "[318]\ttrain-rmse:0.293477+0.00112594\ttrain-rmsle:0.0410803+0.000176441\ttest-rmse:0.317798+0.00159875\ttest-rmsle:0.044532+0.000226139\n",
      "[319]\ttrain-rmse:0.29339+0.00111548\ttrain-rmsle:0.0410673+0.000173859\ttest-rmse:0.317777+0.0016024\ttest-rmsle:0.044529+0.000226393\n",
      "[320]\ttrain-rmse:0.293332+0.00113894\ttrain-rmsle:0.0410587+0.000178543\ttest-rmse:0.317766+0.0015975\ttest-rmsle:0.0445273+0.000226298\n",
      "[321]\ttrain-rmse:0.293291+0.00113486\ttrain-rmsle:0.0410527+0.000177821\ttest-rmse:0.317757+0.00158823\ttest-rmsle:0.044526+0.00022531\n",
      "[322]\ttrain-rmse:0.293216+0.00114335\ttrain-rmsle:0.041043+0.000178331\ttest-rmse:0.317718+0.00156426\ttest-rmsle:0.044521+0.000221829\n",
      "[323]\ttrain-rmse:0.293136+0.00106581\ttrain-rmsle:0.0410313+0.000167351\ttest-rmse:0.317674+0.00157749\ttest-rmsle:0.044515+0.000223313\n",
      "[324]\ttrain-rmse:0.293097+0.0010488\ttrain-rmsle:0.0410257+0.000164929\ttest-rmse:0.317664+0.00157111\ttest-rmsle:0.0445133+0.000222412\n",
      "[325]\ttrain-rmse:0.293027+0.0010147\ttrain-rmsle:0.0410157+0.000160446\ttest-rmse:0.317637+0.00156474\ttest-rmsle:0.0445093+0.000221022\n",
      "[326]\ttrain-rmse:0.292992+0.00102865\ttrain-rmsle:0.0410107+0.000162182\ttest-rmse:0.317627+0.00156824\ttest-rmsle:0.044508+0.000221587\n",
      "[327]\ttrain-rmse:0.292925+0.000999019\ttrain-rmsle:0.041001+0.000158898\ttest-rmse:0.317604+0.00157343\ttest-rmsle:0.044505+0.000222281\n",
      "[328]\ttrain-rmse:0.292898+0.00100054\ttrain-rmsle:0.040997+0.000159407\ttest-rmse:0.317604+0.00156372\ttest-rmsle:0.044505+0.000220486\n",
      "[329]\ttrain-rmse:0.292826+0.000968357\ttrain-rmsle:0.040987+0.000154054\ttest-rmse:0.317576+0.0015361\ttest-rmsle:0.0445007+0.000217087\n",
      "[330]\ttrain-rmse:0.292723+0.000900345\ttrain-rmsle:0.040972+0.00014464\ttest-rmse:0.317527+0.00156009\ttest-rmsle:0.0444943+0.000219737\n",
      "[331]\ttrain-rmse:0.292665+0.000871826\ttrain-rmsle:0.0409643+0.00014063\ttest-rmse:0.317513+0.00156091\ttest-rmsle:0.0444923+0.000219973\n",
      "[332]\ttrain-rmse:0.292604+0.000851815\ttrain-rmsle:0.0409553+0.000138988\ttest-rmse:0.317501+0.00156244\ttest-rmsle:0.0444907+0.000219749\n",
      "[333]\ttrain-rmse:0.292548+0.000875327\ttrain-rmsle:0.040948+0.000141438\ttest-rmse:0.317476+0.00155538\ttest-rmsle:0.0444877+0.000218876\n",
      "[334]\ttrain-rmse:0.292445+0.00083831\ttrain-rmsle:0.040934+0.00013612\ttest-rmse:0.317401+0.00152406\ttest-rmsle:0.0444777+0.000214654\n",
      "[335]\ttrain-rmse:0.292409+0.000825741\ttrain-rmsle:0.0409293+0.000134175\ttest-rmse:0.317386+0.00152665\ttest-rmsle:0.044476+0.000214953\n",
      "[336]\ttrain-rmse:0.292389+0.000828235\ttrain-rmsle:0.0409267+0.000135081\ttest-rmse:0.317387+0.00152703\ttest-rmsle:0.044476+0.000214953\n",
      "[337]\ttrain-rmse:0.29235+0.000812124\ttrain-rmsle:0.0409207+0.000132832\ttest-rmse:0.317369+0.00151232\ttest-rmsle:0.0444733+0.000212481\n",
      "[338]\ttrain-rmse:0.29232+0.000822099\ttrain-rmsle:0.0409167+0.000133722\ttest-rmse:0.317358+0.00152008\ttest-rmsle:0.044472+0.000213248\n",
      "[339]\ttrain-rmse:0.292189+0.000899094\ttrain-rmsle:0.0408987+0.000144767\ttest-rmse:0.317279+0.0015202\ttest-rmsle:0.044461+0.000214366\n",
      "[340]\ttrain-rmse:0.292083+0.000869425\ttrain-rmsle:0.0408827+0.000141026\ttest-rmse:0.317245+0.00152911\ttest-rmsle:0.044456+0.000214341\n",
      "[341]\ttrain-rmse:0.292059+0.000872823\ttrain-rmsle:0.0408797+0.000141304\ttest-rmse:0.31724+0.00152864\ttest-rmsle:0.044455+0.000214341\n",
      "[342]\ttrain-rmse:0.291955+0.000788197\ttrain-rmsle:0.040865+0.000130815\ttest-rmse:0.317181+0.00156294\ttest-rmsle:0.0444473+0.000217893\n",
      "[343]\ttrain-rmse:0.291925+0.000767474\ttrain-rmsle:0.04086+0.000126909\ttest-rmse:0.317186+0.0015594\ttest-rmsle:0.044448+0.000217552\n",
      "[344]\ttrain-rmse:0.291723+0.000844852\ttrain-rmsle:0.0408323+0.000137128\ttest-rmse:0.31707+0.00163945\ttest-rmsle:0.044432+0.00022874\n",
      "[345]\ttrain-rmse:0.291569+0.000936925\ttrain-rmsle:0.0408103+0.000149015\ttest-rmse:0.316977+0.00163377\ttest-rmsle:0.044419+0.000228241\n",
      "[346]\ttrain-rmse:0.291517+0.00094848\ttrain-rmsle:0.0408033+0.000150414\ttest-rmse:0.31695+0.00163693\ttest-rmsle:0.0444157+0.000228724\n",
      "[347]\ttrain-rmse:0.291466+0.000942027\ttrain-rmsle:0.0407963+0.000150309\ttest-rmse:0.316932+0.00161113\ttest-rmsle:0.0444133+0.000225498\n",
      "[348]\ttrain-rmse:0.291396+0.000909022\ttrain-rmsle:0.0407857+0.00014525\ttest-rmse:0.31692+0.00159754\ttest-rmsle:0.0444113+0.000224117\n",
      "[349]\ttrain-rmse:0.291375+0.000895854\ttrain-rmsle:0.0407823+0.000143179\ttest-rmse:0.316916+0.0015979\ttest-rmsle:0.044411+0.00022426\n",
      "[350]\ttrain-rmse:0.291245+0.000931069\ttrain-rmsle:0.0407623+0.000146736\ttest-rmse:0.316887+0.00161825\ttest-rmsle:0.0444067+0.000227236\n",
      "[351]\ttrain-rmse:0.291166+0.000962334\ttrain-rmsle:0.0407507+0.000151346\ttest-rmse:0.31686+0.00163088\ttest-rmsle:0.0444033+0.000228745\n",
      "[352]\ttrain-rmse:0.291104+0.00100681\ttrain-rmsle:0.0407417+0.000157701\ttest-rmse:0.316828+0.00165206\ttest-rmsle:0.0443983+0.000231883\n",
      "[353]\ttrain-rmse:0.291028+0.000976423\ttrain-rmsle:0.0407307+0.00015399\ttest-rmse:0.316803+0.001664\ttest-rmsle:0.044395+0.000233792\n",
      "[354]\ttrain-rmse:0.290957+0.000968209\ttrain-rmsle:0.0407207+0.000152493\ttest-rmse:0.316767+0.00162609\ttest-rmsle:0.0443897+0.000228019\n",
      "[355]\ttrain-rmse:0.290877+0.00100597\ttrain-rmsle:0.0407087+0.000157946\ttest-rmse:0.316744+0.00165293\ttest-rmsle:0.0443863+0.000232268\n",
      "[356]\ttrain-rmse:0.290851+0.00102486\ttrain-rmsle:0.040705+0.000160152\ttest-rmse:0.316739+0.00165716\ttest-rmsle:0.044386+0.000232596\n",
      "[357]\ttrain-rmse:0.290791+0.00102655\ttrain-rmsle:0.040697+0.000161036\ttest-rmse:0.316723+0.00165465\ttest-rmsle:0.0443833+0.000232467\n",
      "[358]\ttrain-rmse:0.290716+0.00100051\ttrain-rmsle:0.0406867+0.000157239\ttest-rmse:0.31669+0.00162464\ttest-rmsle:0.044379+0.000228282\n",
      "[359]\ttrain-rmse:0.290568+0.000932782\ttrain-rmsle:0.0406653+0.000147527\ttest-rmse:0.316601+0.0015997\ttest-rmsle:0.0443663+0.00022447\n",
      "[360]\ttrain-rmse:0.290533+0.00091333\ttrain-rmsle:0.0406607+0.000145048\ttest-rmse:0.316585+0.00161071\ttest-rmsle:0.0443643+0.000225498\n",
      "[361]\ttrain-rmse:0.290478+0.000910724\ttrain-rmsle:0.0406527+0.00014525\ttest-rmse:0.316569+0.00160773\ttest-rmsle:0.0443623+0.000224992\n",
      "[362]\ttrain-rmse:0.290426+0.000895275\ttrain-rmsle:0.0406457+0.000142741\ttest-rmse:0.316561+0.00159788\ttest-rmsle:0.044361+0.000223756\n",
      "[363]\ttrain-rmse:0.290345+0.000878303\ttrain-rmsle:0.0406343+0.000140422\ttest-rmse:0.316517+0.00159984\ttest-rmsle:0.0443547+0.000223899\n",
      "[364]\ttrain-rmse:0.290303+0.000874996\ttrain-rmsle:0.0406283+0.000139662\ttest-rmse:0.316504+0.00158408\ttest-rmsle:0.044353+0.000221582\n",
      "[365]\ttrain-rmse:0.290237+0.00086216\ttrain-rmsle:0.0406187+0.00013842\ttest-rmse:0.3165+0.00157133\ttest-rmsle:0.044352+0.000220192\n",
      "[366]\ttrain-rmse:0.290143+0.000900096\ttrain-rmsle:0.0406053+0.000144188\ttest-rmse:0.316449+0.00160159\ttest-rmsle:0.044345+0.000224531\n",
      "[367]\ttrain-rmse:0.29011+0.000897387\ttrain-rmsle:0.0406003+0.000143502\ttest-rmse:0.31644+0.00158785\ttest-rmsle:0.0443437+0.000222684\n",
      "[368]\ttrain-rmse:0.290022+0.000880506\ttrain-rmsle:0.0405883+0.000141387\ttest-rmse:0.316416+0.001563\ttest-rmsle:0.0443403+0.000219454\n",
      "[369]\ttrain-rmse:0.289923+0.000852422\ttrain-rmsle:0.0405737+0.000137803\ttest-rmse:0.316362+0.00150525\ttest-rmsle:0.0443327+0.000210669\n",
      "[370]\ttrain-rmse:0.289891+0.000874589\ttrain-rmsle:0.040569+0.000140516\ttest-rmse:0.316347+0.0015042\ttest-rmsle:0.044331+0.000210699\n",
      "[371]\ttrain-rmse:0.28982+0.000893051\ttrain-rmsle:0.0405587+0.000142783\ttest-rmse:0.316336+0.00150749\ttest-rmsle:0.044329+0.000211655\n",
      "[372]\ttrain-rmse:0.28976+0.000920349\ttrain-rmsle:0.0405503+0.000146448\ttest-rmse:0.316315+0.00152392\ttest-rmsle:0.044326+0.000213772\n"
     ]
    },
    {
     "name": "stdout",
     "output_type": "stream",
     "text": [
      "[373]\ttrain-rmse:0.289682+0.000857224\ttrain-rmsle:0.040539+0.000137799\ttest-rmse:0.316273+0.00154021\ttest-rmsle:0.0443197+0.000216039\n",
      "[374]\ttrain-rmse:0.289621+0.000852542\ttrain-rmsle:0.0405307+0.000137245\ttest-rmse:0.316236+0.00155792\ttest-rmsle:0.0443147+0.00021804\n",
      "[375]\ttrain-rmse:0.289542+0.000798881\ttrain-rmsle:0.0405183+0.00012895\ttest-rmse:0.316207+0.00157326\ttest-rmsle:0.0443103+0.000219541\n",
      "[376]\ttrain-rmse:0.289507+0.000773691\ttrain-rmsle:0.040514+0.000125414\ttest-rmse:0.316196+0.00157996\ttest-rmsle:0.0443087+0.000220397\n",
      "[377]\ttrain-rmse:0.289463+0.000769174\ttrain-rmsle:0.0405077+0.000124807\ttest-rmse:0.316188+0.00156874\ttest-rmsle:0.0443073+0.000218532\n",
      "[378]\ttrain-rmse:0.289242+0.000676525\ttrain-rmsle:0.0404763+0.000112678\ttest-rmse:0.316032+0.00162281\ttest-rmsle:0.0442853+0.000225188\n",
      "[379]\ttrain-rmse:0.289169+0.000682344\ttrain-rmsle:0.0404667+0.000113067\ttest-rmse:0.315984+0.00165686\ttest-rmsle:0.044279+0.000229475\n",
      "[380]\ttrain-rmse:0.289098+0.000700493\ttrain-rmsle:0.0404563+0.00011658\ttest-rmse:0.315963+0.0016737\ttest-rmsle:0.0442757+0.000232511\n",
      "[381]\ttrain-rmse:0.289035+0.000671352\ttrain-rmsle:0.0404463+0.000112423\ttest-rmse:0.315947+0.00168051\ttest-rmsle:0.0442737+0.00023308\n",
      "[382]\ttrain-rmse:0.289008+0.000665148\ttrain-rmsle:0.0404423+0.000111443\ttest-rmse:0.315945+0.00167766\ttest-rmsle:0.044273+0.000232174\n",
      "[383]\ttrain-rmse:0.288969+0.000670686\ttrain-rmsle:0.0404363+0.000112811\ttest-rmse:0.315944+0.0016719\ttest-rmsle:0.0442727+0.000231667\n",
      "[384]\ttrain-rmse:0.288916+0.000654681\ttrain-rmsle:0.040429+0.000111023\ttest-rmse:0.31593+0.00165315\ttest-rmsle:0.0442713+0.000229059\n",
      "[385]\ttrain-rmse:0.28884+0.000635056\ttrain-rmsle:0.040418+0.00010841\ttest-rmse:0.315894+0.00160172\ttest-rmsle:0.044266+0.00022149\n",
      "[386]\ttrain-rmse:0.288787+0.000647127\ttrain-rmsle:0.0404103+0.000110083\ttest-rmse:0.315884+0.00160574\ttest-rmsle:0.0442647+0.000221711\n",
      "[387]\ttrain-rmse:0.288674+0.000720279\ttrain-rmsle:0.040395+0.00012075\ttest-rmse:0.315813+0.00162187\ttest-rmsle:0.044255+0.000225452\n",
      "[388]\ttrain-rmse:0.288604+0.000723575\ttrain-rmsle:0.0403847+0.000121013\ttest-rmse:0.315794+0.00161389\ttest-rmsle:0.044252+0.000224167\n",
      "[389]\ttrain-rmse:0.288553+0.00073986\ttrain-rmsle:0.0403773+0.00012357\ttest-rmse:0.315784+0.00161961\ttest-rmsle:0.0442503+0.000225442\n",
      "[390]\ttrain-rmse:0.288498+0.000740784\ttrain-rmsle:0.04037+0.000123307\ttest-rmse:0.315775+0.00163732\ttest-rmsle:0.0442493+0.000227591\n",
      "[391]\ttrain-rmse:0.288445+0.00071384\ttrain-rmsle:0.0403627+0.000119444\ttest-rmse:0.315763+0.00164146\ttest-rmsle:0.044248+0.000228396\n",
      "[392]\ttrain-rmse:0.288398+0.000734145\ttrain-rmsle:0.0403557+0.000122366\ttest-rmse:0.315752+0.00164154\ttest-rmsle:0.0442463+0.000228261\n",
      "[393]\ttrain-rmse:0.28832+0.000718263\ttrain-rmsle:0.0403443+0.000119806\ttest-rmse:0.315713+0.00165934\ttest-rmsle:0.0442407+0.000230624\n",
      "[394]\ttrain-rmse:0.288311+0.000725185\ttrain-rmsle:0.040343+0.000120999\ttest-rmse:0.315712+0.00165722\ttest-rmsle:0.0442403+0.000230154\n",
      "[395]\ttrain-rmse:0.288254+0.000696029\ttrain-rmsle:0.040335+0.000117383\ttest-rmse:0.315685+0.00167216\ttest-rmsle:0.0442367+0.000232468\n",
      "[396]\ttrain-rmse:0.288209+0.000680659\ttrain-rmsle:0.0403283+0.00011554\ttest-rmse:0.315672+0.00165743\ttest-rmsle:0.0442347+0.000230329\n",
      "[397]\ttrain-rmse:0.28816+0.000684586\ttrain-rmsle:0.0403207+0.000115817\ttest-rmse:0.315675+0.00166729\ttest-rmsle:0.044235+0.000231527\n",
      "[398]\ttrain-rmse:0.288104+0.000650518\ttrain-rmsle:0.0403123+0.000110636\ttest-rmse:0.315655+0.00167297\ttest-rmsle:0.0442323+0.000231886\n",
      "[399]\ttrain-rmse:0.288089+0.000646052\ttrain-rmsle:0.04031+0.000110417\ttest-rmse:0.315657+0.00167649\ttest-rmsle:0.0442323+0.000232576\n",
      "[400]\ttrain-rmse:0.288056+0.000631503\ttrain-rmsle:0.040305+0.00010779\ttest-rmse:0.315655+0.00167691\ttest-rmsle:0.0442317+0.000232357\n",
      "[401]\ttrain-rmse:0.287926+0.000752652\ttrain-rmsle:0.0402867+0.000124634\ttest-rmse:0.315572+0.00172518\ttest-rmsle:0.0442203+0.000239745\n",
      "[402]\ttrain-rmse:0.287896+0.000737875\ttrain-rmsle:0.040282+0.000122322\ttest-rmse:0.315563+0.00171435\ttest-rmsle:0.044219+0.000238534\n",
      "[403]\ttrain-rmse:0.287797+0.000772922\ttrain-rmsle:0.0402687+0.000127332\ttest-rmse:0.315509+0.00175563\ttest-rmsle:0.0442113+0.000244121\n",
      "[404]\ttrain-rmse:0.287752+0.000773128\ttrain-rmsle:0.0402623+0.00012799\ttest-rmse:0.315497+0.00174576\ttest-rmsle:0.04421+0.000242987\n",
      "[405]\ttrain-rmse:0.287678+0.000836306\ttrain-rmsle:0.040251+0.000136916\ttest-rmse:0.315468+0.00177063\ttest-rmsle:0.0442057+0.000247259\n",
      "[406]\ttrain-rmse:0.28763+0.000869112\ttrain-rmsle:0.0402443+0.000141349\ttest-rmse:0.315449+0.00178208\ttest-rmsle:0.0442027+0.00024906\n",
      "[407]\ttrain-rmse:0.287605+0.000861283\ttrain-rmsle:0.0402407+0.000140086\ttest-rmse:0.315444+0.00178606\ttest-rmsle:0.044202+0.000249528\n",
      "[408]\ttrain-rmse:0.287546+0.000913516\ttrain-rmsle:0.040232+0.000147262\ttest-rmse:0.315432+0.00179562\ttest-rmsle:0.0442003+0.000251075\n",
      "[409]\ttrain-rmse:0.287507+0.000937533\ttrain-rmsle:0.0402257+0.000151328\ttest-rmse:0.315431+0.00179568\ttest-rmsle:0.0442003+0.00025119\n",
      "[410]\ttrain-rmse:0.28749+0.000927293\ttrain-rmsle:0.0402233+0.000149812\ttest-rmse:0.315427+0.00178775\ttest-rmsle:0.0441997+0.000250256\n",
      "[411]\ttrain-rmse:0.28745+0.000920437\ttrain-rmsle:0.040218+0.000148815\ttest-rmse:0.315419+0.00178299\ttest-rmsle:0.0441987+0.000249499\n",
      "[412]\ttrain-rmse:0.287369+0.00101146\ttrain-rmsle:0.0402067+0.000161258\ttest-rmse:0.315374+0.00181697\ttest-rmsle:0.044193+0.000254657\n",
      "[413]\ttrain-rmse:0.287333+0.00102059\ttrain-rmsle:0.0402017+0.000162719\ttest-rmse:0.315368+0.00181947\ttest-rmsle:0.044192+0.000254795\n",
      "[414]\ttrain-rmse:0.287291+0.00103235\ttrain-rmsle:0.040195+0.000165072\ttest-rmse:0.315362+0.001812\ttest-rmsle:0.0441907+0.000254192\n",
      "[415]\ttrain-rmse:0.28725+0.00102162\ttrain-rmsle:0.0401893+0.000163243\ttest-rmse:0.315346+0.0018088\ttest-rmsle:0.0441883+0.000253457\n",
      "[416]\ttrain-rmse:0.287209+0.00101692\ttrain-rmsle:0.0401837+0.000163026\ttest-rmse:0.315338+0.00178952\ttest-rmsle:0.0441877+0.000250998\n",
      "[417]\ttrain-rmse:0.287141+0.00101112\ttrain-rmsle:0.040174+0.00016147\ttest-rmse:0.315315+0.00177897\ttest-rmsle:0.0441843+0.000249902\n",
      "[418]\ttrain-rmse:0.287098+0.00101641\ttrain-rmsle:0.0401677+0.000162434\ttest-rmse:0.315304+0.0017824\ttest-rmsle:0.044183+0.000249937\n",
      "[419]\ttrain-rmse:0.287038+0.000995878\ttrain-rmsle:0.040159+0.000158865\ttest-rmse:0.315301+0.00177836\ttest-rmsle:0.0441827+0.000249736\n",
      "[420]\ttrain-rmse:0.287007+0.00100601\ttrain-rmsle:0.0401543+0.000159688\ttest-rmse:0.315302+0.0017774\ttest-rmsle:0.0441827+0.000249736\n",
      "[421]\ttrain-rmse:0.286965+0.000994204\ttrain-rmsle:0.040148+0.000158192\ttest-rmse:0.315294+0.00177472\ttest-rmsle:0.0441813+0.000249271\n",
      "[422]\ttrain-rmse:0.286921+0.000988138\ttrain-rmsle:0.0401417+0.000157925\ttest-rmse:0.315294+0.00177399\ttest-rmsle:0.0441813+0.000249006\n",
      "[423]\ttrain-rmse:0.286902+0.0009819\ttrain-rmsle:0.0401393+0.000157051\ttest-rmse:0.315296+0.00177704\ttest-rmsle:0.044182+0.000249304\n",
      "[424]\ttrain-rmse:0.286856+0.0009871\ttrain-rmsle:0.0401323+0.000157121\ttest-rmse:0.315288+0.00178052\ttest-rmsle:0.0441807+0.000250235\n",
      "[425]\ttrain-rmse:0.286778+0.00102632\ttrain-rmsle:0.0401217+0.000161941\ttest-rmse:0.31525+0.00181006\ttest-rmsle:0.0441757+0.000253922\n",
      "[426]\ttrain-rmse:0.286756+0.00101512\ttrain-rmsle:0.0401183+0.000160271\ttest-rmse:0.31525+0.00181106\ttest-rmsle:0.044176+0.000253756\n",
      "[427]\ttrain-rmse:0.286704+0.00102999\ttrain-rmsle:0.04011+0.000163036\ttest-rmse:0.315237+0.00179405\ttest-rmsle:0.044174+0.000251869\n",
      "[428]\ttrain-rmse:0.28666+0.00101519\ttrain-rmsle:0.0401037+0.000160529\ttest-rmse:0.315226+0.0017827\ttest-rmsle:0.044172+0.000250617\n",
      "[429]\ttrain-rmse:0.286617+0.00100178\ttrain-rmsle:0.040097+0.00015893\ttest-rmse:0.315213+0.00177361\ttest-rmsle:0.0441703+0.000249688\n",
      "[430]\ttrain-rmse:0.286582+0.000993093\ttrain-rmsle:0.040092+0.000157254\ttest-rmse:0.315201+0.00175807\ttest-rmsle:0.0441687+0.000247513\n",
      "[431]\ttrain-rmse:0.286528+0.000994363\ttrain-rmsle:0.040084+0.000157911\ttest-rmse:0.315192+0.00176023\ttest-rmsle:0.0441677+0.000247225\n",
      "[432]\ttrain-rmse:0.286476+0.000978207\ttrain-rmsle:0.0400767+0.000156453\ttest-rmse:0.315172+0.00177063\ttest-rmsle:0.0441647+0.000248582\n",
      "[433]\ttrain-rmse:0.28644+0.000994954\ttrain-rmsle:0.040071+0.000158015\ttest-rmse:0.315169+0.00177287\ttest-rmsle:0.0441643+0.000248752\n",
      "[434]\ttrain-rmse:0.286401+0.000990721\ttrain-rmsle:0.040066+0.000158259\ttest-rmse:0.315155+0.001758\ttest-rmsle:0.0441623+0.000246719\n"
     ]
    },
    {
     "name": "stdout",
     "output_type": "stream",
     "text": [
      "[435]\ttrain-rmse:0.286342+0.00096444\ttrain-rmsle:0.0400573+0.00015407\ttest-rmse:0.315131+0.00173028\ttest-rmsle:0.044159+0.000242697\n",
      "[436]\ttrain-rmse:0.286309+0.000991636\ttrain-rmsle:0.0400517+0.00015838\ttest-rmse:0.315131+0.00172965\ttest-rmsle:0.0441587+0.000242994\n",
      "[437]\ttrain-rmse:0.286285+0.000997454\ttrain-rmsle:0.040049+0.00015915\ttest-rmse:0.315125+0.00173536\ttest-rmsle:0.044158+0.000244223\n",
      "[438]\ttrain-rmse:0.286231+0.00105922\ttrain-rmsle:0.0400417+0.000168066\ttest-rmse:0.315099+0.00175481\ttest-rmsle:0.0441547+0.000246458\n",
      "[439]\ttrain-rmse:0.286191+0.00106538\ttrain-rmsle:0.040036+0.000169005\ttest-rmse:0.315094+0.00176193\ttest-rmsle:0.0441537+0.000247851\n",
      "[440]\ttrain-rmse:0.286164+0.0010684\ttrain-rmsle:0.0400323+0.000169065\ttest-rmse:0.315089+0.00176708\ttest-rmsle:0.044153+0.000248316\n",
      "[441]\ttrain-rmse:0.28611+0.00106681\ttrain-rmsle:0.0400247+0.000169148\ttest-rmse:0.315075+0.00174218\ttest-rmsle:0.0441517+0.000244925\n",
      "[442]\ttrain-rmse:0.286075+0.00106821\ttrain-rmsle:0.0400197+0.000169148\ttest-rmse:0.315072+0.00174012\ttest-rmsle:0.0441513+0.000245227\n",
      "[443]\ttrain-rmse:0.286003+0.00104172\ttrain-rmsle:0.0400097+0.000165574\ttest-rmse:0.31504+0.00170125\ttest-rmsle:0.0441463+0.000239514\n",
      "[444]\ttrain-rmse:0.285958+0.0010304\ttrain-rmsle:0.0400023+0.000163128\ttest-rmse:0.31504+0.00171322\ttest-rmsle:0.044147+0.000241209\n",
      "[445]\ttrain-rmse:0.285906+0.001077\ttrain-rmsle:0.0399953+0.000169608\ttest-rmse:0.315024+0.00172269\ttest-rmsle:0.0441447+0.000242571\n",
      "[446]\ttrain-rmse:0.285868+0.00106595\ttrain-rmsle:0.0399903+0.000168193\ttest-rmse:0.315019+0.00171026\ttest-rmsle:0.0441443+0.000241488\n",
      "[447]\ttrain-rmse:0.285786+0.00103843\ttrain-rmsle:0.0399787+0.000163161\ttest-rmse:0.314967+0.00164718\ttest-rmsle:0.0441363+0.000232381\n",
      "[448]\ttrain-rmse:0.285743+0.00103645\ttrain-rmsle:0.0399727+0.000162715\ttest-rmse:0.31496+0.00165064\ttest-rmsle:0.0441353+0.000232537\n",
      "[449]\ttrain-rmse:0.285648+0.00114325\ttrain-rmsle:0.039959+0.000178283\ttest-rmse:0.314904+0.0017002\ttest-rmsle:0.0441277+0.000239995\n",
      "[450]\ttrain-rmse:0.285587+0.00116527\ttrain-rmsle:0.0399503+0.000180978\ttest-rmse:0.314887+0.00169545\ttest-rmsle:0.0441253+0.000239327\n",
      "[451]\ttrain-rmse:0.285506+0.00117444\ttrain-rmsle:0.0399393+0.000181971\ttest-rmse:0.314848+0.00166899\ttest-rmsle:0.04412+0.000235538\n",
      "[452]\ttrain-rmse:0.285417+0.00115994\ttrain-rmsle:0.0399263+0.000179689\ttest-rmse:0.314806+0.0016213\ttest-rmsle:0.0441137+0.000228611\n",
      "[453]\ttrain-rmse:0.28539+0.00117853\ttrain-rmsle:0.0399223+0.000182907\ttest-rmse:0.314805+0.00161902\ttest-rmsle:0.0441133+0.000228739\n",
      "[454]\ttrain-rmse:0.285306+0.00125934\ttrain-rmsle:0.0399107+0.000193221\ttest-rmse:0.31477+0.00165187\ttest-rmsle:0.044109+0.000233265\n",
      "[455]\ttrain-rmse:0.285249+0.00123693\ttrain-rmsle:0.0399027+0.000190678\ttest-rmse:0.31475+0.0016597\ttest-rmsle:0.0441063+0.000233869\n",
      "[456]\ttrain-rmse:0.285219+0.0012399\ttrain-rmsle:0.039899+0.00019079\ttest-rmse:0.314748+0.00166187\ttest-rmsle:0.0441063+0.000233869\n",
      "[457]\ttrain-rmse:0.285182+0.00125631\ttrain-rmsle:0.039893+0.000193082\ttest-rmse:0.314747+0.00166206\ttest-rmsle:0.044106+0.000234202\n",
      "[458]\ttrain-rmse:0.285081+0.00137986\ttrain-rmsle:0.0398793+0.000210492\ttest-rmse:0.314688+0.00171881\ttest-rmsle:0.0440977+0.000242672\n",
      "[459]\ttrain-rmse:0.28505+0.00137757\ttrain-rmsle:0.039874+0.000211296\ttest-rmse:0.314683+0.00171652\ttest-rmsle:0.0440967+0.000242672\n",
      "[460]\ttrain-rmse:0.284947+0.00132918\ttrain-rmsle:0.0398593+0.000205086\ttest-rmse:0.314642+0.00172996\ttest-rmsle:0.044091+0.000243821\n",
      "[461]\ttrain-rmse:0.284924+0.00131991\ttrain-rmsle:0.039856+0.000203799\ttest-rmse:0.314643+0.00172916\ttest-rmsle:0.0440913+0.000243488\n",
      "[462]\ttrain-rmse:0.284904+0.0013345\ttrain-rmsle:0.0398533+0.000206279\ttest-rmse:0.314636+0.00173478\ttest-rmsle:0.0440903+0.000244489\n",
      "[463]\ttrain-rmse:0.284843+0.00134963\ttrain-rmsle:0.0398447+0.000208655\ttest-rmse:0.314621+0.00174047\ttest-rmsle:0.0440883+0.000245065\n",
      "[464]\ttrain-rmse:0.284799+0.00135515\ttrain-rmsle:0.0398373+0.000209218\ttest-rmse:0.314612+0.00173213\ttest-rmsle:0.044087+0.000243821\n",
      "[465]\ttrain-rmse:0.284757+0.00136068\ttrain-rmsle:0.0398313+0.000209816\ttest-rmse:0.314613+0.00173324\ttest-rmsle:0.0440873+0.00024356\n",
      "[466]\ttrain-rmse:0.284712+0.0013952\ttrain-rmsle:0.0398247+0.000215235\ttest-rmse:0.314614+0.00173324\ttest-rmsle:0.0440877+0.000244014\n",
      "[467]\ttrain-rmse:0.284628+0.00141517\ttrain-rmsle:0.0398123+0.000218098\ttest-rmse:0.314593+0.00175613\ttest-rmsle:0.0440847+0.000247403\n",
      "[468]\ttrain-rmse:0.284561+0.00140791\ttrain-rmsle:0.039803+0.000217496\ttest-rmse:0.314567+0.00172247\ttest-rmsle:0.044081+0.000242761\n",
      "[469]\ttrain-rmse:0.284537+0.0013939\ttrain-rmsle:0.0397993+0.000215472\ttest-rmse:0.314563+0.00172362\ttest-rmsle:0.0440807+0.000242875\n",
      "[470]\ttrain-rmse:0.284511+0.00141552\ttrain-rmsle:0.039796+0.000218089\ttest-rmse:0.314551+0.00173561\ttest-rmsle:0.0440787+0.000244685\n",
      "[471]\ttrain-rmse:0.284455+0.00144861\ttrain-rmsle:0.0397873+0.000222245\ttest-rmse:0.314536+0.00175031\ttest-rmsle:0.0440767+0.000246969\n",
      "[472]\ttrain-rmse:0.284437+0.00143951\ttrain-rmsle:0.0397847+0.000220838\ttest-rmse:0.314538+0.00174871\ttest-rmsle:0.044077+0.000246862\n",
      "[473]\ttrain-rmse:0.284379+0.00140008\ttrain-rmsle:0.0397767+0.000215565\ttest-rmse:0.314513+0.00175653\ttest-rmsle:0.0440733+0.000247517\n",
      "[474]\ttrain-rmse:0.284333+0.00139639\ttrain-rmsle:0.039769+0.000214807\ttest-rmse:0.314512+0.001757\ttest-rmsle:0.044073+0.000247633\n",
      "[475]\ttrain-rmse:0.28428+0.0014031\ttrain-rmsle:0.0397613+0.000215409\ttest-rmse:0.314504+0.001753\ttest-rmsle:0.0440717+0.000246836\n",
      "[476]\ttrain-rmse:0.284258+0.00141516\ttrain-rmsle:0.0397587+0.000216955\ttest-rmse:0.314499+0.00175735\ttest-rmsle:0.044071+0.000247289\n",
      "[477]\ttrain-rmse:0.284212+0.00140253\ttrain-rmsle:0.039752+0.000215291\ttest-rmse:0.314482+0.00175398\ttest-rmsle:0.0440683+0.000246858\n",
      "[478]\ttrain-rmse:0.284153+0.00139326\ttrain-rmsle:0.0397437+0.000214483\ttest-rmse:0.314458+0.00174422\ttest-rmsle:0.044065+0.000245614\n",
      "[479]\ttrain-rmse:0.284127+0.00139789\ttrain-rmsle:0.0397393+0.000214654\ttest-rmse:0.314457+0.00174419\ttest-rmsle:0.0440653+0.000245279\n",
      "[480]\ttrain-rmse:0.284091+0.0013909\ttrain-rmsle:0.0397337+0.000213255\ttest-rmse:0.314461+0.00174383\ttest-rmsle:0.0440657+0.000245376\n",
      "[481]\ttrain-rmse:0.284056+0.00140826\ttrain-rmsle:0.039729+0.000216339\ttest-rmse:0.314454+0.00174513\ttest-rmsle:0.0440647+0.000246167\n",
      "[482]\ttrain-rmse:0.284017+0.00143029\ttrain-rmsle:0.0397233+0.000218494\ttest-rmse:0.314446+0.00174583\ttest-rmsle:0.044064+0.00024605\n",
      "[483]\ttrain-rmse:0.283975+0.00143259\ttrain-rmsle:0.0397173+0.000219287\ttest-rmse:0.314432+0.00175702\ttest-rmsle:0.044062+0.000247633\n",
      "[484]\ttrain-rmse:0.283947+0.00142225\ttrain-rmsle:0.0397137+0.000217431\ttest-rmse:0.314433+0.00176388\ttest-rmsle:0.044062+0.000248203\n",
      "[485]\ttrain-rmse:0.283923+0.0014074\ttrain-rmsle:0.03971+0.000215782\ttest-rmse:0.314433+0.00176709\ttest-rmsle:0.044062+0.000248774\n",
      "[486]\ttrain-rmse:0.283893+0.00140463\ttrain-rmsle:0.0397067+0.000214852\ttest-rmse:0.314433+0.00176357\ttest-rmsle:0.044062+0.000248203\n",
      "[487]\ttrain-rmse:0.283832+0.00138717\ttrain-rmsle:0.0396973+0.00021204\ttest-rmse:0.31441+0.00174689\ttest-rmsle:0.0440587+0.000245949\n",
      "[488]\ttrain-rmse:0.283809+0.00139682\ttrain-rmsle:0.0396943+0.00021406\ttest-rmse:0.314408+0.00175319\ttest-rmsle:0.044059+0.000246978\n",
      "[489]\ttrain-rmse:0.28377+0.00141025\ttrain-rmsle:0.0396887+0.000215755\ttest-rmse:0.3144+0.00175736\ttest-rmsle:0.0440577+0.000247313\n",
      "[490]\ttrain-rmse:0.283737+0.00141026\ttrain-rmsle:0.0396843+0.000216179\ttest-rmse:0.314393+0.00174645\ttest-rmsle:0.044057+0.000246403\n",
      "[491]\ttrain-rmse:0.283628+0.00135448\ttrain-rmsle:0.0396693+0.000207943\ttest-rmse:0.314337+0.00175124\ttest-rmsle:0.044049+0.000247107\n",
      "[492]\ttrain-rmse:0.283587+0.00132873\ttrain-rmsle:0.039663+0.00020409\ttest-rmse:0.314326+0.00174027\ttest-rmsle:0.0440477+0.000245865\n",
      "[493]\ttrain-rmse:0.283557+0.001336\ttrain-rmsle:0.0396583+0.000205021\ttest-rmse:0.314325+0.00173949\ttest-rmsle:0.0440473+0.000245408\n",
      "[494]\ttrain-rmse:0.283476+0.00129672\ttrain-rmsle:0.0396463+0.000199587\ttest-rmse:0.314274+0.00176886\ttest-rmsle:0.0440397+0.000249285\n",
      "[495]\ttrain-rmse:0.283434+0.0012731\ttrain-rmsle:0.03964+0.000195842\ttest-rmse:0.314273+0.00175939\ttest-rmsle:0.0440393+0.000248222\n",
      "[496]\ttrain-rmse:0.283399+0.00129606\ttrain-rmsle:0.0396343+0.000199684\ttest-rmse:0.31427+0.00176324\ttest-rmsle:0.044039+0.000248541\n"
     ]
    },
    {
     "name": "stdout",
     "output_type": "stream",
     "text": [
      "[497]\ttrain-rmse:0.28336+0.00133198\ttrain-rmsle:0.039629+0.000204462\ttest-rmse:0.314261+0.00177074\ttest-rmsle:0.044038+0.000249501\n",
      "[498]\ttrain-rmse:0.283337+0.00132729\ttrain-rmsle:0.0396253+0.000203709\ttest-rmse:0.314257+0.00177267\ttest-rmsle:0.0440373+0.00024996\n",
      "[499]\ttrain-rmse:0.283311+0.00131497\ttrain-rmsle:0.0396217+0.000202493\ttest-rmse:0.314255+0.00177154\ttest-rmsle:0.044037+0.00024932\n"
     ]
    }
   ],
   "source": [
    "import pandas as pd\n",
    "from IPython.display import display\n",
    "\n",
    "num_rounds =500 # how many estimators\n",
    "hist = xgb.cv(params, dtrain, num_rounds, nfold=3,\n",
    "              stratified=True, feval=rmsle_eval,verbose_eval=True, seed=seed)"
   ]
  },
  {
   "cell_type": "code",
   "execution_count": 71,
   "metadata": {},
   "outputs": [
    {
     "data": {
      "text/html": [
       "<div>\n",
       "<style>\n",
       "    .dataframe thead tr:only-child th {\n",
       "        text-align: right;\n",
       "    }\n",
       "\n",
       "    .dataframe thead th {\n",
       "        text-align: left;\n",
       "    }\n",
       "\n",
       "    .dataframe tbody tr th {\n",
       "        vertical-align: top;\n",
       "    }\n",
       "</style>\n",
       "<table border=\"1\" class=\"dataframe\">\n",
       "  <thead>\n",
       "    <tr style=\"text-align: right;\">\n",
       "      <th></th>\n",
       "      <th>test-rmse-mean</th>\n",
       "      <th>test-rmse-std</th>\n",
       "      <th>test-rmsle-mean</th>\n",
       "      <th>test-rmsle-std</th>\n",
       "      <th>train-rmse-mean</th>\n",
       "      <th>train-rmse-std</th>\n",
       "      <th>train-rmsle-mean</th>\n",
       "      <th>train-rmsle-std</th>\n",
       "    </tr>\n",
       "  </thead>\n",
       "  <tbody>\n",
       "    <tr>\n",
       "      <th>495</th>\n",
       "      <td>0.314273</td>\n",
       "      <td>0.001759</td>\n",
       "      <td>0.044039</td>\n",
       "      <td>0.000248</td>\n",
       "      <td>0.283434</td>\n",
       "      <td>0.001273</td>\n",
       "      <td>0.039640</td>\n",
       "      <td>0.000196</td>\n",
       "    </tr>\n",
       "    <tr>\n",
       "      <th>496</th>\n",
       "      <td>0.314270</td>\n",
       "      <td>0.001763</td>\n",
       "      <td>0.044039</td>\n",
       "      <td>0.000249</td>\n",
       "      <td>0.283399</td>\n",
       "      <td>0.001296</td>\n",
       "      <td>0.039634</td>\n",
       "      <td>0.000200</td>\n",
       "    </tr>\n",
       "    <tr>\n",
       "      <th>497</th>\n",
       "      <td>0.314261</td>\n",
       "      <td>0.001771</td>\n",
       "      <td>0.044038</td>\n",
       "      <td>0.000250</td>\n",
       "      <td>0.283360</td>\n",
       "      <td>0.001332</td>\n",
       "      <td>0.039629</td>\n",
       "      <td>0.000204</td>\n",
       "    </tr>\n",
       "    <tr>\n",
       "      <th>498</th>\n",
       "      <td>0.314257</td>\n",
       "      <td>0.001773</td>\n",
       "      <td>0.044037</td>\n",
       "      <td>0.000250</td>\n",
       "      <td>0.283337</td>\n",
       "      <td>0.001327</td>\n",
       "      <td>0.039625</td>\n",
       "      <td>0.000204</td>\n",
       "    </tr>\n",
       "    <tr>\n",
       "      <th>499</th>\n",
       "      <td>0.314255</td>\n",
       "      <td>0.001772</td>\n",
       "      <td>0.044037</td>\n",
       "      <td>0.000249</td>\n",
       "      <td>0.283311</td>\n",
       "      <td>0.001315</td>\n",
       "      <td>0.039622</td>\n",
       "      <td>0.000202</td>\n",
       "    </tr>\n",
       "  </tbody>\n",
       "</table>\n",
       "</div>"
      ],
      "text/plain": [
       "     test-rmse-mean  test-rmse-std  test-rmsle-mean  test-rmsle-std  \\\n",
       "495        0.314273       0.001759         0.044039        0.000248   \n",
       "496        0.314270       0.001763         0.044039        0.000249   \n",
       "497        0.314261       0.001771         0.044038        0.000250   \n",
       "498        0.314257       0.001773         0.044037        0.000250   \n",
       "499        0.314255       0.001772         0.044037        0.000249   \n",
       "\n",
       "     train-rmse-mean  train-rmse-std  train-rmsle-mean  train-rmsle-std  \n",
       "495         0.283434        0.001273          0.039640         0.000196  \n",
       "496         0.283399        0.001296          0.039634         0.000200  \n",
       "497         0.283360        0.001332          0.039629         0.000204  \n",
       "498         0.283337        0.001327          0.039625         0.000204  \n",
       "499         0.283311        0.001315          0.039622         0.000202  "
      ]
     },
     "execution_count": 71,
     "metadata": {},
     "output_type": "execute_result"
    }
   ],
   "source": [
    "hist.tail(5)"
   ]
  },
  {
   "cell_type": "code",
   "execution_count": 69,
   "metadata": {},
   "outputs": [
    {
     "data": {
      "image/png": "[encoded data removed]",
      "text/plain": [
       "<matplotlib.figure.Figure at 0x12e408410>"
      ]
     },
     "metadata": {},
     "output_type": "display_data"
    }
   ],
   "source": [
    "rounds=np.arange(0,500)\n",
    "train_rmsle=hist['train-rmsle-mean']\n",
    "test_rmsle=hist['test-rmsle-mean']\n",
    "\n",
    "plt.figure(figsize=(12,5))\n",
    "plt.plot(rounds,train_rmsle,'r', label='train')\n",
    "plt.plot(rounds,test_rmsle,'g--', label='valid')\n",
    "\n",
    "plt.ylim(0,0.1)\n",
    "plt.xlabel('Training Rounds')\n",
    "plt.ylabel('cross_validation_rmsle_mean')\n",
    "plt.legend()\n",
    "plt.show()"
   ]
  },
  {
   "cell_type": "code",
   "execution_count": null,
   "metadata": {
    "collapsed": true
   },
   "outputs": [],
   "source": []
  }
 ],
 "metadata": {
  "kernelspec": {
   "display_name": "Python 2",
   "language": "python",
   "name": "python2"
  },
  "language_info": {
   "codemirror_mode": {
    "name": "ipython",
    "version": 2
   },
   "file_extension": ".py",
   "mimetype": "text/x-python",
   "name": "python",
   "nbconvert_exporter": "python",
   "pygments_lexer": "ipython2",
   "version": "2.7.13"
  }
 },
 "nbformat": 4,
 "nbformat_minor": 2
}
