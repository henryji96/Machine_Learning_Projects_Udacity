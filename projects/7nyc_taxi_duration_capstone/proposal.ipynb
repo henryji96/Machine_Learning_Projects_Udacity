{
 "cells": [
  {
   "cell_type": "markdown",
   "metadata": {},
   "source": [
    "# Machine Learning Engineer Nanodegree\n",
    "## Capstone Proposal\n",
    "Wenhan Ji\n",
    "December 7th, 2017\n",
    "\n",
    "\n",
    "## Proposal\n",
    "In my capstone, I do the kaggle competition [New York City Taxi Trip Duration](https://www.kaggle.com/c/nyc-taxi-trip-duration).\n",
    "  \n",
    "  \n",
    "### Domain Background\n",
    "Kaggle is a platform for predictive modelling and analytics competitions in which statisticians and data miners compete to produce the best models for predicting and describing the datasets uploaded by companies and users. This crowdsourcing approach relies on the fact that there are countless strategies that can be applied to any predictive modelling task and it is impossible to know beforehand which technique or analyst will be most effective.\n",
    "\n",
    "1. The competition host prepares the data and a description of the problem. Kaggle offers a consulting service which can help the host do this, as well as frame the competition, anonymize the data, and integrate the winning model into their operations.\n",
    "2. Participants experiment with different techniques and compete against each other to produce the best models. Work is shared publicly through Kaggle Scripts to achieve a better benchmark and to inspire new ideas. Submissions are made through Scripts or through private manual upload. For most competitions, submissions are scored immediately (based on their predictive accuracy relative to a hidden solution file) and summarized on a live leaderboard.\n",
    "\n",
    "\n",
    "### Problem Statement\n",
    "\n",
    "In this competition, Kaggle is challenging you to build a model that predicts the total ride duration of taxi trips in New York City. Your primary dataset is one released by the NYC Taxi and Limousine Commission, which includes pickup time, geo-coordinates, number of passengers, and several other variables.\n",
    "\n",
    "It's a regression probrem that you can try different regression algorithms to train the model and do the prediction on test set. Your goal is to train the model that the prediction on test set will have the lowest loss.\n",
    "\n",
    "\n",
    "### Datasets and Inputs\n",
    "\n",
    "[The competition dataset](https://www.kaggle.com/c/nyc-taxi-trip-duration/data) is based on the 2016 NYC Yellow Cab trip record data made available in Big Query on Google Cloud Platform. The data was originally published by the NYC Taxi and Limousine Commission (TLC). The data was sampled and cleaned for the purposes of this playground competition. Based on individual trip attributes, participants should predict the duration of each trip in the test set.\n",
    "\n",
    "Additionally, in the competition, we can use  datasets from different sources to add features. I use the [2016 NYC Whether Data](https://www.kaggle.com/mathijs/weather-data-in-new-york-city-2016). I believe that the whether condition will affect the trip duration.\n",
    "\n",
    "### Solution Statement\n",
    "I will use the XGBoost serve as the regression model.  \n",
    "XGBoost is short for “Extreme Gradient Boosting”, where the term “Gradient Boosting” is proposed in the paper Greedy Function Approximation: A Gradient Boosting Machine, by Friedman. XGBoost is based on this original model. This is a tutorial on gradient boosted trees, and most of the content is based on these [slides](https://homes.cs.washington.edu/~tqchen/pdf/BoostedTree.pdf) by the author of xgboost.\n",
    "\n",
    "### Benchmark Model\n",
    "1. linear regression model\n",
    "2. k nearest neighbour regression model\n",
    "3. Gradient Boosting Regressor with n_estimators=100\n",
    "\n",
    "### Evaluation Metrics\n",
    "The evaluation metric for this competition is Root Mean Squared Logarithmic Error.\n",
    "<img style=\"width:30%\" src=\"evaluation_metrics.png\" />\n",
    "\n",
    "Where:  \n",
    "ϵ is the RMSLE value (score)  \n",
    "n is the total number of observations in the (public/private) data set  \n",
    "pi is your prediction of trip duration  \n",
    "ai is the actual trip duration for i  \n",
    "log⁡(x) is the natural logarithm of x    \n",
    "\n",
    "### Project Design\n",
    "1. Figure out the problem and download the training and testing dataset.\n",
    "2. Compute and create new features based on existing features\n",
    "3. Visualize features to do the exploratory data analysis and data cleaning\n",
    "4. Train test split and the test data function as the future unknown data.\n",
    "5. Benchmark model was created for the regressor\n",
    "6. The XGBoost regressor was trained using the data\n",
    "7. Do the model evaluation based on test set and loss function.\n",
    "\n",
    "\n",
    "-----------\n",
    "\n"
   ]
  },
  {
   "cell_type": "markdown",
   "metadata": {},
   "source": []
  }
 ],
 "metadata": {
  "kernelspec": {
   "display_name": "Python 2",
   "language": "python",
   "name": "python2"
  },
  "language_info": {
   "codemirror_mode": {
    "name": "ipython",
    "version": 2
   },
   "file_extension": ".py",
   "mimetype": "text/x-python",
   "name": "python",
   "nbconvert_exporter": "python",
   "pygments_lexer": "ipython2",
   "version": "2.7.13"
  }
 },
 "nbformat": 4,
 "nbformat_minor": 2
}
