{
 "cells": [
  {
   "cell_type": "markdown",
   "metadata": {},
   "source": [
    "#### Problem to solve\n",
    "+ date ranges-index the rows by dates\n",
    "+ multiple stocks\n",
    "+ align dates\n",
    "+ proper date order\n",
    "+ dates and the files we read them from are in reverse order"
   ]
  },
  {
   "cell_type": "markdown",
   "metadata": {},
   "source": [
    "#### NYSE trading days\n",
    "New York Stock Exchange has a set of holidays that occasionally differ from the US Government holidays.  \n",
    "252 in 2014"
   ]
  },
  {
   "cell_type": "markdown",
   "metadata": {},
   "source": [
    "#### Building a dataframe\n",
    "If SPY was traded, it means the market was open.    \n",
    "So we can set SPY as reference.  \n",
    "Our df should only contain dates when SPY actually traded"
   ]
  },
  {
   "cell_type": "markdown",
   "metadata": {},
   "source": [
    "#### Create an empty data frame"
   ]
  },
  {
   "cell_type": "code",
   "execution_count": 29,
   "metadata": {},
   "outputs": [
    {
     "name": "stdout",
     "output_type": "stream",
     "text": [
      "DatetimeIndex(['2010-01-22', '2010-01-23', '2010-01-24', '2010-01-25',\n",
      "               '2010-01-26'],\n",
      "              dtype='datetime64[ns]', freq='D')\n",
      "2010-01-22 00:00:00\n",
      "\n",
      "Empty DataFrame\n",
      "Columns: []\n",
      "Index: [2010-01-22 00:00:00, 2010-01-23 00:00:00, 2010-01-24 00:00:00, 2010-01-25 00:00:00, 2010-01-26 00:00:00]\n"
     ]
    }
   ],
   "source": [
    "import pandas as pd\n",
    "\n",
    "#define date range\n",
    "start_date=\"2010-01-22\"\n",
    "end_date='2010-01-26'\n",
    "dates=pd.date_range(start_date,end_date)\n",
    "print dates\n",
    "print dates[0]# date time index object\n",
    "\n",
    "#create an empty dataframe\n",
    "print ''\n",
    "df1=pd.DataFrame(index=dates)\n",
    "print df1"
   ]
  },
  {
   "cell_type": "code",
   "execution_count": 30,
   "metadata": {},
   "outputs": [
    {
     "name": "stdout",
     "output_type": "stream",
     "text": [
      "\n",
      "                   SPY\n",
      "Date                  \n",
      "2017-03-29  235.539993\n",
      "2017-03-28  235.320007\n"
     ]
    }
   ],
   "source": [
    "#read spy data into temporary dataframe\n",
    "#make sure you give the correct index column name\n",
    "#we also wanna dates presented in the dataframe to be converted into date time index objects\n",
    "print ''\n",
    "dfSPY=pd.read_csv(\"data/SPY.csv\",\n",
    "                  index_col='Date',\n",
    "                  parse_dates=True,\n",
    "                  usecols=['Date','Adj Close'],   #git rid of other col\n",
    "                  na_values=['nan'])#csv-NaN as strings, so we need to tell that NaN should not be interpreted as a number\n",
    "#We just wanna the date on which SPY traded, so we can add more stocks based o these dates.\n",
    "\n",
    "#rename 'Adj Close' column to 'SPY' to prevent clash\n",
    "dfSPY=dfSPY.rename(columns={'Adj Close':'SPY'})\n",
    "print dfSPY.head(n=2)\n"
   ]
  },
  {
   "cell_type": "code",
   "execution_count": 41,
   "metadata": {
    "collapsed": true
   },
   "outputs": [],
   "source": [
    "import os\n",
    "def symbol_to_path(symbol, base_dir=\"data\"):\n",
    "    \"\"\"Return CSV file path given ticker symbol.\"\"\"\n",
    "    return os.path.join(base_dir, \"{}.csv\".format(str(symbol)))\n",
    "def get_data(symbols, dates):\n",
    "    \"\"\"Read stock data (adjusted close) for given symbols from CSV files.\"\"\"\n",
    "    df = pd.DataFrame(index=dates)# 1create empty df for designated date\n",
    "    \n",
    "    if 'SPY' not in symbols:  # 2add SPY for reference, if absent\n",
    "        symbols.insert(0, 'SPY')\n",
    "\n",
    "    for symbol in symbols:\n",
    "        df_temp=pd.read_csv(symbol_to_path(symbol, base_dir=\"data\"), # 3read in data from the symbol\n",
    "                           index_col='Date',\n",
    "                           parse_dates=True,\n",
    "                           usecols=['Date','Adj Close'],\n",
    "                           na_values=['nan'])\n",
    "        df_temp=df_temp.rename(columns={'Adj Close':symbol})       # 4rename the adjust close column to the symbol name\n",
    "        df=df.join(df_temp) \n",
    "        if symbol =='SPY':#5drop rows where SPY is na/ensure SPY is used as a reference-we don't have na values in the spy column\n",
    "            df=df.dropna(subset=['SPY'])\n",
    "    return df"
   ]
  },
  {
   "cell_type": "code",
   "execution_count": 42,
   "metadata": {},
   "outputs": [
    {
     "data": {
      "text/plain": [
       "'data/XOM.csv'"
      ]
     },
     "execution_count": 42,
     "metadata": {},
     "output_type": "execute_result"
    }
   ],
   "source": [
    "symbol_to_path('XOM')"
   ]
  },
  {
   "cell_type": "markdown",
   "metadata": {},
   "source": [
    "### Join SPY data\n",
    "a.join(b)   \n",
    "It will read in all the rules from a, but only those rules from b whose index values are present in a's index.\n",
    "\n",
    "\n",
    "For the remaining rows, that's the index values not in b, pandas introduce nans.\n",
    "\n",
    "In this case, all the rules from df1 will be retained.  \n",
    "We will get all the values for the prices from dfSPY for the given range we defined above.    \n",
    "This will give us all the prices for the stock SPY in the defined date ranges.   "
   ]
  },
  {
   "cell_type": "markdown",
   "metadata": {},
   "source": [
    "### Types of \"join\"\n",
    "http://pandas.pydata.org/pandas-docs/stable/generated/pandas.DataFrame.join.html  \n",
    "The above 2 steps can be done in a single step using **how** argument.\n",
    "+ join\n",
    "+ drop nan"
   ]
  },
  {
   "cell_type": "code",
   "execution_count": 31,
   "metadata": {},
   "outputs": [
    {
     "name": "stdout",
     "output_type": "stream",
     "text": [
      "                  SPY\n",
      "2010-01-22  94.233925\n",
      "2010-01-23        NaN\n",
      "2010-01-24        NaN\n",
      "2010-01-25  94.717130\n",
      "2010-01-26  94.320211\n"
     ]
    }
   ],
   "source": [
    "#Join the two dataframes using DataFrame.join()\n",
    "#23,24 are weekends\n",
    "df1=df1.join(dfSPY)\n",
    "print df1"
   ]
  },
  {
   "cell_type": "code",
   "execution_count": 32,
   "metadata": {},
   "outputs": [
    {
     "name": "stdout",
     "output_type": "stream",
     "text": [
      "                  SPY\n",
      "2010-01-22  94.233925\n",
      "2010-01-25  94.717130\n",
      "2010-01-26  94.320211\n"
     ]
    }
   ],
   "source": [
    "# Drop rows which have NaN values\n",
    "df1=df1.dropna()\n",
    "print df1"
   ]
  },
  {
   "cell_type": "code",
   "execution_count": 25,
   "metadata": {},
   "outputs": [
    {
     "ename": "ValueError",
     "evalue": "columns overlap but no suffix specified: Index([u'SPY'], dtype='object')",
     "output_type": "error",
     "traceback": [
      "\u001b[0;31m---------------------------------------------------------------------------\u001b[0m",
      "\u001b[0;31mValueError\u001b[0m                                Traceback (most recent call last)",
      "\u001b[0;32m<ipython-input-25-9fc385aea137>\u001b[0m in \u001b[0;36m<module>\u001b[0;34m()\u001b[0m\n\u001b[0;32m----> 1\u001b[0;31m \u001b[0mdf1\u001b[0m\u001b[0;34m=\u001b[0m\u001b[0mdf1\u001b[0m\u001b[0;34m.\u001b[0m\u001b[0mjoin\u001b[0m\u001b[0;34m(\u001b[0m\u001b[0mdfSPY\u001b[0m\u001b[0;34m,\u001b[0m\u001b[0mhow\u001b[0m\u001b[0;34m=\u001b[0m\u001b[0;34m\"inner\"\u001b[0m\u001b[0;34m)\u001b[0m\u001b[0;34m\u001b[0m\u001b[0m\n\u001b[0m\u001b[1;32m      2\u001b[0m \u001b[0;32mprint\u001b[0m \u001b[0mdf1\u001b[0m\u001b[0;34m\u001b[0m\u001b[0m\n",
      "\u001b[0;32m/Applications/data_science_tools/anaconda/lib/python2.7/site-packages/pandas/core/frame.pyc\u001b[0m in \u001b[0;36mjoin\u001b[0;34m(self, other, on, how, lsuffix, rsuffix, sort)\u001b[0m\n\u001b[1;32m   4667\u001b[0m         \u001b[0;31m# For SparseDataFrame's benefit\u001b[0m\u001b[0;34m\u001b[0m\u001b[0;34m\u001b[0m\u001b[0m\n\u001b[1;32m   4668\u001b[0m         return self._join_compat(other, on=on, how=how, lsuffix=lsuffix,\n\u001b[0;32m-> 4669\u001b[0;31m                                  rsuffix=rsuffix, sort=sort)\n\u001b[0m\u001b[1;32m   4670\u001b[0m \u001b[0;34m\u001b[0m\u001b[0m\n\u001b[1;32m   4671\u001b[0m     def _join_compat(self, other, on=None, how='left', lsuffix='', rsuffix='',\n",
      "\u001b[0;32m/Applications/data_science_tools/anaconda/lib/python2.7/site-packages/pandas/core/frame.pyc\u001b[0m in \u001b[0;36m_join_compat\u001b[0;34m(self, other, on, how, lsuffix, rsuffix, sort)\u001b[0m\n\u001b[1;32m   4682\u001b[0m             return merge(self, other, left_on=on, how=how,\n\u001b[1;32m   4683\u001b[0m                          \u001b[0mleft_index\u001b[0m\u001b[0;34m=\u001b[0m\u001b[0mon\u001b[0m \u001b[0;32mis\u001b[0m \u001b[0mNone\u001b[0m\u001b[0;34m,\u001b[0m \u001b[0mright_index\u001b[0m\u001b[0;34m=\u001b[0m\u001b[0mTrue\u001b[0m\u001b[0;34m,\u001b[0m\u001b[0;34m\u001b[0m\u001b[0m\n\u001b[0;32m-> 4684\u001b[0;31m                          suffixes=(lsuffix, rsuffix), sort=sort)\n\u001b[0m\u001b[1;32m   4685\u001b[0m         \u001b[0;32melse\u001b[0m\u001b[0;34m:\u001b[0m\u001b[0;34m\u001b[0m\u001b[0m\n\u001b[1;32m   4686\u001b[0m             \u001b[0;32mif\u001b[0m \u001b[0mon\u001b[0m \u001b[0;32mis\u001b[0m \u001b[0;32mnot\u001b[0m \u001b[0mNone\u001b[0m\u001b[0;34m:\u001b[0m\u001b[0;34m\u001b[0m\u001b[0m\n",
      "\u001b[0;32m/Applications/data_science_tools/anaconda/lib/python2.7/site-packages/pandas/core/reshape/merge.pyc\u001b[0m in \u001b[0;36mmerge\u001b[0;34m(left, right, how, on, left_on, right_on, left_index, right_index, sort, suffixes, copy, indicator)\u001b[0m\n\u001b[1;32m     52\u001b[0m                          \u001b[0mright_index\u001b[0m\u001b[0;34m=\u001b[0m\u001b[0mright_index\u001b[0m\u001b[0;34m,\u001b[0m \u001b[0msort\u001b[0m\u001b[0;34m=\u001b[0m\u001b[0msort\u001b[0m\u001b[0;34m,\u001b[0m \u001b[0msuffixes\u001b[0m\u001b[0;34m=\u001b[0m\u001b[0msuffixes\u001b[0m\u001b[0;34m,\u001b[0m\u001b[0;34m\u001b[0m\u001b[0m\n\u001b[1;32m     53\u001b[0m                          copy=copy, indicator=indicator)\n\u001b[0;32m---> 54\u001b[0;31m     \u001b[0;32mreturn\u001b[0m \u001b[0mop\u001b[0m\u001b[0;34m.\u001b[0m\u001b[0mget_result\u001b[0m\u001b[0;34m(\u001b[0m\u001b[0;34m)\u001b[0m\u001b[0;34m\u001b[0m\u001b[0m\n\u001b[0m\u001b[1;32m     55\u001b[0m \u001b[0;34m\u001b[0m\u001b[0m\n\u001b[1;32m     56\u001b[0m \u001b[0;34m\u001b[0m\u001b[0m\n",
      "\u001b[0;32m/Applications/data_science_tools/anaconda/lib/python2.7/site-packages/pandas/core/reshape/merge.pyc\u001b[0m in \u001b[0;36mget_result\u001b[0;34m(self)\u001b[0m\n\u001b[1;32m    573\u001b[0m \u001b[0;34m\u001b[0m\u001b[0m\n\u001b[1;32m    574\u001b[0m         llabels, rlabels = items_overlap_with_suffix(ldata.items, lsuf,\n\u001b[0;32m--> 575\u001b[0;31m                                                      rdata.items, rsuf)\n\u001b[0m\u001b[1;32m    576\u001b[0m \u001b[0;34m\u001b[0m\u001b[0m\n\u001b[1;32m    577\u001b[0m         \u001b[0mlindexers\u001b[0m \u001b[0;34m=\u001b[0m \u001b[0;34m{\u001b[0m\u001b[0;36m1\u001b[0m\u001b[0;34m:\u001b[0m \u001b[0mleft_indexer\u001b[0m\u001b[0;34m}\u001b[0m \u001b[0;32mif\u001b[0m \u001b[0mleft_indexer\u001b[0m \u001b[0;32mis\u001b[0m \u001b[0;32mnot\u001b[0m \u001b[0mNone\u001b[0m \u001b[0;32melse\u001b[0m \u001b[0;34m{\u001b[0m\u001b[0;34m}\u001b[0m\u001b[0;34m\u001b[0m\u001b[0m\n",
      "\u001b[0;32m/Applications/data_science_tools/anaconda/lib/python2.7/site-packages/pandas/core/internals.pyc\u001b[0m in \u001b[0;36mitems_overlap_with_suffix\u001b[0;34m(left, lsuffix, right, rsuffix)\u001b[0m\n\u001b[1;32m   4699\u001b[0m         \u001b[0;32mif\u001b[0m \u001b[0;32mnot\u001b[0m \u001b[0mlsuffix\u001b[0m \u001b[0;32mand\u001b[0m \u001b[0;32mnot\u001b[0m \u001b[0mrsuffix\u001b[0m\u001b[0;34m:\u001b[0m\u001b[0;34m\u001b[0m\u001b[0m\n\u001b[1;32m   4700\u001b[0m             raise ValueError('columns overlap but no suffix specified: %s' %\n\u001b[0;32m-> 4701\u001b[0;31m                              to_rename)\n\u001b[0m\u001b[1;32m   4702\u001b[0m \u001b[0;34m\u001b[0m\u001b[0m\n\u001b[1;32m   4703\u001b[0m         \u001b[0;32mdef\u001b[0m \u001b[0mlrenamer\u001b[0m\u001b[0;34m(\u001b[0m\u001b[0mx\u001b[0m\u001b[0;34m)\u001b[0m\u001b[0;34m:\u001b[0m\u001b[0;34m\u001b[0m\u001b[0m\n",
      "\u001b[0;31mValueError\u001b[0m: columns overlap but no suffix specified: Index([u'SPY'], dtype='object')"
     ]
    }
   ],
   "source": [
    "df1=df1.join(dfSPY,how=\"inner\")\n",
    "print df1"
   ]
  },
  {
   "cell_type": "markdown",
   "metadata": {},
   "source": [
    "### read in more stocks\n",
    "write a for loop to join each stock into dataframe"
   ]
  },
  {
   "cell_type": "code",
   "execution_count": 33,
   "metadata": {},
   "outputs": [
    {
     "name": "stdout",
     "output_type": "stream",
     "text": [
      "                  SPY        GOOG  IBM         GLD\n",
      "2010-01-22  94.233925  274.730736  NaN  107.169998\n",
      "2010-01-25  94.717130  269.730740  NaN  107.480003\n",
      "2010-01-26  94.320211  270.939526  NaN  107.559998\n"
     ]
    }
   ],
   "source": [
    "symbols=['GOOG','IBM','GLD']\n",
    "for symbol in symbols:\n",
    "    df_temp=pd.read_csv('data/{}.csv'.format(symbol),\n",
    "                       index_col='Date',\n",
    "                       parse_dates=True,\n",
    "                       usecols=['Date','Adj Close'],\n",
    "                       na_values=['nan'])    \n",
    "    df_temp=df_temp.rename(columns={'Adj Close':symbol})\n",
    "    df1=df1.join(df_temp)#use default how='left'\n",
    "    \n",
    "#column names must be unique, however, the colume we are extracting each time is names Adj Close\n",
    "#We would like each stock symbol as the corresponding column name\n",
    "print df1"
   ]
  },
  {
   "cell_type": "code",
   "execution_count": 43,
   "metadata": {},
   "outputs": [
    {
     "name": "stdout",
     "output_type": "stream",
     "text": [
      "                  SPY        GOOG  IBM         GLD\n",
      "2010-01-22  94.233925  274.730736  NaN  107.169998\n",
      "2010-01-25  94.717130  269.730740  NaN  107.480003\n",
      "2010-01-26  94.320211  270.939526  NaN  107.559998\n"
     ]
    }
   ],
   "source": [
    "def test_run():\n",
    "    # Define a date range\n",
    "    dates = pd.date_range('2010-01-22', '2010-01-26')\n",
    "\n",
    "    # Choose stock symbols to read\n",
    "    symbols = ['GOOG', 'IBM', 'GLD']\n",
    "    \n",
    "    # Get stock data\n",
    "    df = get_data(symbols, dates)\n",
    "    print df\n",
    "\n",
    "test_run()"
   ]
  },
  {
   "cell_type": "markdown",
   "metadata": {
    "collapsed": true
   },
   "source": [
    "### Obtaining a slice of data  \n",
    "http://pandas.pydata.org/pandas-docs/stable/indexing.html"
   ]
  },
  {
   "cell_type": "code",
   "execution_count": 45,
   "metadata": {},
   "outputs": [
    {
     "name": "stdout",
     "output_type": "stream",
     "text": [
      "                  SPY        GOOG  IBM         GLD\n",
      "2010-01-22  94.233925  274.730736  NaN  107.169998\n",
      "2010-01-25  94.717130  269.730740  NaN  107.480003\n",
      "2010-01-26  94.320211  270.939526  NaN  107.559998\n",
      "2010-01-27  94.768907  270.779695  NaN  106.529999\n",
      "2010-01-28  93.681690  266.878565  NaN  106.480003\n",
      "2010-01-29  92.663504  264.705742  NaN  105.959999\n",
      "\n",
      "            IBM         GLD\n",
      "2010-01-22  NaN  107.169998\n",
      "2010-01-25  NaN  107.480003\n",
      "\n",
      "                  GOOG         GLD\n",
      "2010-01-22  274.730736  107.169998\n",
      "2010-01-25  269.730740  107.480003\n",
      "2010-01-26  270.939526  107.559998\n",
      "2010-01-27  270.779695  106.529999\n",
      "2010-01-28  266.878565  106.480003\n",
      "2010-01-29  264.705742  105.959999\n"
     ]
    }
   ],
   "source": [
    "def test_run():\n",
    "    # Define a date range\n",
    "    dates = pd.date_range('2010-01-22', '2010-12-31')# a year\n",
    "\n",
    "    # Choose stock symbols to read\n",
    "    symbols = ['GOOG', 'IBM', 'GLD']\n",
    "    \n",
    "    # Get stock data\n",
    "    df = get_data(symbols, dates)\n",
    "    \n",
    "    \n",
    "    #Slice by row range(dates) using DataFrame.ix[]selector\n",
    "    print df.loc['2010-01-01':'2010-01-31']\n",
    "    \n",
    "    #Slice by column(symbols)\n",
    "    print ''\n",
    "    print df[['IBM','GLD']].head(n=2)\n",
    "    \n",
    "    #Slice by row and column\n",
    "    #compare multiple stocks over a period of time\n",
    "    print ''\n",
    "    print df.loc['2010-01-01':'2010-01-31',['GOOG','GLD']]\n",
    "\n",
    "test_run()"
   ]
  },
  {
   "cell_type": "markdown",
   "metadata": {},
   "source": [
    "### Problems with plotting\n",
    "the stock prices are at different levels   \n",
    "Google has very high price, other has low.    \n",
    "Have then all start at one point, so we can compare the.  "
   ]
  },
  {
   "cell_type": "code",
   "execution_count": 28,
   "metadata": {},
   "outputs": [
    {
     "data": {
      "image/png": "[encoded data removed]",
      "text/plain": [
       "<matplotlib.figure.Figure at 0x1104eb410>"
      ]
     },
     "metadata": {},
     "output_type": "display_data"
    }
   ],
   "source": [
    "import matplotlib.pyplot as plt\n",
    "def test_run():\n",
    "    # Define a date range\n",
    "    dates = pd.date_range('2010-01-22', '2010-12-31')# a year\n",
    "\n",
    "    # Choose stock symbols to read\n",
    "    symbols = ['GOOG', 'IBM', 'GLD']\n",
    "    \n",
    "    # Get stock data\n",
    "    df = get_data(symbols, dates)\n",
    "    return df\n",
    "#print df\n",
    "df=test_run()\n",
    "\n",
    "def plot_data(df,title='Stock prices'):\n",
    "    ax=df.plot(title=title,fontsize=2)\n",
    "    ax.set_xlabel(\"Date\")\n",
    "    ax.set_ylabel(\"Price\")\n",
    "    plt.show()\n",
    "plot_data(df)"
   ]
  }
 ],
 "metadata": {
  "kernelspec": {
   "display_name": "Python [default]",
   "language": "python",
   "name": "python2"
  },
  "language_info": {
   "codemirror_mode": {
    "name": "ipython",
    "version": 2
   },
   "file_extension": ".py",
   "mimetype": "text/x-python",
   "name": "python",
   "nbconvert_exporter": "python",
   "pygments_lexer": "ipython2",
   "version": "2.7.13"
  }
 },
 "nbformat": 4,
 "nbformat_minor": 2
}
