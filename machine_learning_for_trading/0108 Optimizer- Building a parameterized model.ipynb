{
 "cells": [
  {
   "cell_type": "markdown",
   "metadata": {},
   "source": [
    "### What is an optimizer?\n",
    "+ find minimum values of functions\n",
    "+ build parameterized models based on data\n",
    "+ refine allocations to stocks on portfolios\n",
    "  \n",
    "### How to use an optimizer\n",
    "+ Provide a function to minimize\n",
    "+ Provide an initial guess that is close to the solution to the problem\n",
    "+ Call the optimizer"
   ]
  },
  {
   "cell_type": "code",
   "execution_count": 3,
   "metadata": {},
   "outputs": [
    {
     "name": "stdout",
     "output_type": "stream",
     "text": [
      "X=[ 2.],Y=[ 0.75]\n",
      "X=[ 2.],Y=[ 0.75]\n",
      "X=[ 2.00000001],Y=[ 0.75000001]\n",
      "X=[ 0.99999999],Y=[ 0.75000001]\n",
      "X=[ 1.5],Y=[ 0.5]\n",
      "X=[ 1.5],Y=[ 0.5]\n",
      "X=[ 1.50000001],Y=[ 0.5]\n",
      "Optimization terminated successfully.    (Exit mode 0)\n",
      "            Current function value: 0.5\n",
      "            Iterations: 2\n",
      "            Function evaluations: 7\n",
      "            Gradient evaluations: 2\n",
      "Minima found at\n",
      "X=[ 1.5],Y=0.5\n",
      "X=[ 0.5  0.6  0.7  0.8  0.9  1.   1.1  1.2  1.3  1.4  1.5  1.6  1.7  1.8  1.9\n",
      "  2.   2.1  2.2  2.3  2.4  2.5],Y=[ 1.5   1.31  1.14  0.99  0.86  0.75  0.66  0.59  0.54  0.51  0.5   0.51\n",
      "  0.54  0.59  0.66  0.75  0.86  0.99  1.14  1.31  1.5 ]\n"
     ]
    },
    {
     "data": {
      "image/png": "[encoded data removed]",
      "text/plain": [
       "<matplotlib.figure.Figure at 0x11ac13f90>"
      ]
     },
     "metadata": {},
     "output_type": "display_data"
    }
   ],
   "source": [
    "import pandas as pd\n",
    "import matplotlib.pyplot as plt\n",
    "import numpy as np\n",
    "import scipy.optimize as spo\n",
    "\n",
    "def f(X):\n",
    "    '''Fiven a scalar X, return some value(a real number)'''\n",
    "    Y=(X-1.5)**2+0.5\n",
    "    print \"X={},Y={}\".format(X,Y)\n",
    "    return Y\n",
    "\n",
    "#test run\n",
    "Xguess=2.0;\n",
    "min_result=spo.minimize(f,  #function\n",
    "                        Xguess, #my guess about the minimize x\n",
    "                        method='SLSQP',#direct minimize to use a particular minimizing algorithm\n",
    "                        options={'disp':True})#be verbosd about the things that it discovers\n",
    "print 'Minima found at'\n",
    "print \"X={},Y={}\".format(min_result.x,min_result.fun)\n",
    "#plot\n",
    "Xplot=np.linspace(0.5,2.5,21)\n",
    "Yplot=f(Xplot)\n",
    "plt.plot(Xplot,Yplot)\n",
    "plt.plot(min_result.x,min_result.fun,'ro')\n",
    "plt.show()"
   ]
  },
  {
   "cell_type": "markdown",
   "metadata": {},
   "source": [
    "### Convex Problem\n",
    "+ choose two points, draw line\n",
    "+ convex if only line is above graph\n",
    "+ one local minima,no flat regions"
   ]
  },
  {
   "cell_type": "markdown",
   "metadata": {},
   "source": [
    "### Building a parameterized model"
   ]
  },
  {
   "cell_type": "code",
   "execution_count": null,
   "metadata": {
    "collapsed": true
   },
   "outputs": [],
   "source": []
  }
 ],
 "metadata": {
  "kernelspec": {
   "display_name": "Python 2",
   "language": "python",
   "name": "python2"
  },
  "language_info": {
   "codemirror_mode": {
    "name": "ipython",
    "version": 2
   },
   "file_extension": ".py",
   "mimetype": "text/x-python",
   "name": "python",
   "nbconvert_exporter": "python",
   "pygments_lexer": "ipython2",
   "version": "2.7.13"
  }
 },
 "nbformat": 4,
 "nbformat_minor": 2
}
