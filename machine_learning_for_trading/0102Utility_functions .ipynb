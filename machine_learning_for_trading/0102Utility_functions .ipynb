{
 "cells": [
  {
   "cell_type": "code",
   "execution_count": 4,
   "metadata": {},
   "outputs": [
    {
     "data": {
      "text/plain": [
       "'data/tst.csv'"
      ]
     },
     "execution_count": 4,
     "metadata": {},
     "output_type": "execute_result"
    }
   ],
   "source": [
    "import os\n",
    "import pandas as pd\n",
    "import matplotlib.pyplot as plt\n",
    "\n",
    "def symbol_to_path(symbol, base_dir=\"data\"):\n",
    "    \"\"\"Return CSV file path given ticker symbol.\"\"\"\n",
    "    return os.path.join(base_dir, \"{}.csv\".format(str(symbol)))"
   ]
  },
  {
   "cell_type": "markdown",
   "metadata": {},
   "source": [
    "## get data"
   ]
  },
  {
   "cell_type": "code",
   "execution_count": 6,
   "metadata": {
    "collapsed": true
   },
   "outputs": [],
   "source": [
    "def get_data(symbols, dates):\n",
    "    \"\"\"Read stock data (adjusted close) for given symbols from CSV files.\"\"\"\n",
    "    df = pd.DataFrame(index=dates)# 1create empty df for designated date\n",
    "    \n",
    "    if 'SPY' not in symbols:  # 2add SPY for reference, if absent\n",
    "        symbols.insert(0, 'SPY')\n",
    "\n",
    "    for symbol in symbols:\n",
    "        df_temp=pd.read_csv(symbol_to_path(symbol, base_dir=\"data\"), # 3read in data from the symbol\n",
    "                           index_col='Date',\n",
    "                           parse_dates=True,\n",
    "                           usecols=['Date','Adj Close'],\n",
    "                           na_values=['nan'])\n",
    "        df_temp=df_temp.rename(columns={'Adj Close':symbol})       # 4rename the adjust close column to the symbol name\n",
    "        df=df.join(df_temp) \n",
    "        if symbol =='SPY':#5drop rows where SPY is na/ensure SPY is used as a reference-we don't have na values in the spy column\n",
    "            df=df.dropna(subset=['SPY'])\n",
    "    \n",
    "\n",
    "    return df"
   ]
  },
  {
   "cell_type": "markdown",
   "metadata": {},
   "source": [
    "## normalize data\n",
    "use the first row of the dataframe"
   ]
  },
  {
   "cell_type": "code",
   "execution_count": 21,
   "metadata": {
    "collapsed": true
   },
   "outputs": [],
   "source": [
    "def normalize_data(df):\n",
    "    return df/df.iloc[0,:]"
   ]
  },
  {
   "cell_type": "markdown",
   "metadata": {},
   "source": [
    "## plot in two ways"
   ]
  },
  {
   "cell_type": "code",
   "execution_count": 16,
   "metadata": {
    "collapsed": true
   },
   "outputs": [],
   "source": [
    "def plot_selected(df, columns, start_index, end_index):\n",
    "    \"\"\"Plot the desired columns over index values in the given range.\"\"\"\n",
    "    # TODO: Your code here\n",
    "    # Note: DO NOT modify anything else!\n",
    "    plot_data(df.loc[start_index:end_index,columns],title='Selected data')\n",
    "\n",
    "\n",
    "\n",
    "def plot_data(df, title=\"Stock prices\"):\n",
    "    \"\"\"Plot stock prices with a custom title and meaningful axis labels.\"\"\"\n",
    "    ax = df.plot(title=title, fontsize=12)\n",
    "    ax.set_xlabel(\"Date\")\n",
    "    ax.set_ylabel(\"Price\")\n",
    "    plt.show()"
   ]
  },
  {
   "cell_type": "markdown",
   "metadata": {},
   "source": [
    "## function test"
   ]
  },
  {
   "cell_type": "code",
   "execution_count": 17,
   "metadata": {
    "collapsed": true
   },
   "outputs": [],
   "source": [
    "def test_run():\n",
    "    # Define a date range\n",
    "    dates = pd.date_range('2010-01-01', '2010-12-31')\n",
    "    # Choose stock symbols to read\n",
    "    symbols = ['GOOG', 'IBM', 'GLD']  # SPY will be added in get_data()\n",
    "    \n",
    "    # Get stock data\n",
    "    df = get_data(symbols, dates)\n",
    "    #normalize data\n",
    "    df=normalize_data(df)\n",
    "    # Slice and plot\n",
    "    plot_selected(df, ['SPY', 'GOOG','GLD'], '2010-03-01', '2010-04-01')\n",
    "    print df\n"
   ]
  },
  {
   "cell_type": "code",
   "execution_count": 22,
   "metadata": {},
   "outputs": [
    {
     "data": {
      "image/png": "[encoded data removed]",
      "text/plain": [
       "<matplotlib.figure.Figure at 0x1146c2ed0>"
      ]
     },
     "metadata": {},
     "output_type": "display_data"
    },
    {
     "name": "stdout",
     "output_type": "stream",
     "text": [
      "                 SPY      GOOG  IBM       GLD\n",
      "2010-01-04  1.000000  1.000000  NaN  1.000000\n",
      "2010-01-05  1.002647  0.995596  NaN  0.999089\n",
      "2010-01-06  1.003353  0.970499  NaN  1.015574\n",
      "2010-01-07  1.007588  0.947906  NaN  1.009290\n",
      "2010-01-08  1.010941  0.960543  NaN  1.014299\n",
      "2010-01-11  1.012353  0.959091  NaN  1.027778\n",
      "2010-01-12  1.002912  0.942130  NaN  1.006284\n",
      "2010-01-13  1.011383  0.936721  NaN  1.015847\n",
      "2010-01-14  1.014118  0.941125  NaN  1.020310\n",
      "2010-01-15  1.002735  0.925409  NaN  1.009654\n",
      "2010-01-19  1.015265  0.937567  NaN  1.015665\n",
      "2010-01-20  1.004941  0.926063  NaN  0.992168\n",
      "2010-01-21  0.985617  0.930164  NaN  0.977869\n",
      "2010-01-22  0.963646  0.877559  NaN  0.976047\n",
      "2010-01-25  0.968587  0.861588  NaN  0.978871\n",
      "2010-01-26  0.964528  0.865449  NaN  0.979599\n",
      "2010-01-27  0.969117  0.864938  NaN  0.970219\n",
      "2010-01-28  0.957999  0.852477  NaN  0.969763\n",
      "2010-01-29  0.947587  0.845536  NaN  0.965027\n",
      "2010-02-01  0.962322  0.850451  NaN  0.986794\n",
      "2010-02-02  0.973970  0.847419  NaN  0.993898\n",
      "2010-02-03  0.969117  0.862896  NaN  0.989982\n",
      "2010-02-04  0.939204  0.840495  NaN  0.950546\n",
      "2010-02-05  0.941145  0.847690  NaN  0.953370\n",
      "2010-02-08  0.934351  0.851169  NaN  0.947541\n",
      "2010-02-09  0.946087  0.855908  NaN  0.960018\n",
      "2010-02-10  0.944234  0.852732  NaN  0.957377\n",
      "2010-02-11  0.954116  0.855844  NaN  0.975683\n",
      "2010-02-12  0.953322  0.850610  NaN  0.974863\n",
      "2010-02-16  0.968323  0.863662  NaN  0.998361\n",
      "...              ...       ...  ...       ...\n",
      "2010-11-18  1.073635  0.951831  NaN  1.203005\n",
      "2010-11-19  1.076588  0.942689  NaN  1.204007\n",
      "2010-11-22  1.075693  0.943311  NaN  1.215665\n",
      "2010-11-23  1.060120  0.930211  NaN  1.224135\n",
      "2010-11-24  1.075783  0.949294  NaN  1.222040\n",
      "2010-11-26  1.063253  0.941364  NaN  1.212295\n",
      "2010-11-29  1.066475  0.928775  NaN  1.215938\n",
      "2010-11-30  1.060478  0.886653  NaN  1.233333\n",
      "2010-12-01  1.083032  0.900439  NaN  1.232969\n",
      "2010-12-02  1.096904  0.912357  NaN  1.231330\n",
      "2010-12-03  1.099858  0.914240  NaN  1.257468\n",
      "2010-12-06  1.098694  0.922792  NaN  1.266940\n",
      "2010-12-07  1.099321  0.936801  NaN  1.243169\n",
      "2010-12-08  1.103348  0.942226  NaN  1.227596\n",
      "2010-12-09  1.107644  0.943758  NaN  1.232878\n",
      "2010-12-10  1.114088  0.944890  NaN  1.233242\n",
      "2010-12-13  1.114804  0.948736  NaN  1.239071\n",
      "2010-12-14  1.115789  0.949198  NaN  1.240255\n",
      "2010-12-15  1.110687  0.941843  NaN  1.226776\n",
      "2010-12-16  1.117131  0.944093  NaN  1.218670\n",
      "2010-12-17  1.118328  0.942641  NaN  1.222222\n",
      "2010-12-20  1.121027  0.949438  NaN  1.230510\n",
      "2010-12-21  1.128135  0.962218  NaN  1.232423\n",
      "2010-12-22  1.131643  0.966079  NaN  1.229964\n",
      "2010-12-23  1.130024  0.964069  NaN  1.226412\n",
      "2010-12-27  1.130474  0.961117  NaN  1.229690\n",
      "2010-12-28  1.132093  0.955596  NaN  1.249727\n",
      "2010-12-29  1.132903  0.958915  NaN  1.254189\n",
      "2010-12-30  1.131104  0.955501  NaN  1.247996\n",
      "2010-12-31  1.131374  0.947698  NaN  1.263388\n",
      "\n",
      "[252 rows x 4 columns]\n"
     ]
    }
   ],
   "source": [
    " test_run()"
   ]
  },
  {
   "cell_type": "code",
   "execution_count": null,
   "metadata": {
    "collapsed": true
   },
   "outputs": [],
   "source": []
  }
 ],
 "metadata": {
  "kernelspec": {
   "display_name": "Python 2",
   "language": "python",
   "name": "python2"
  },
  "language_info": {
   "codemirror_mode": {
    "name": "ipython",
    "version": 2
   },
   "file_extension": ".py",
   "mimetype": "text/x-python",
   "name": "python",
   "nbconvert_exporter": "python",
   "pygments_lexer": "ipython2",
   "version": "2.7.13"
  }
 },
 "nbformat": 4,
 "nbformat_minor": 2
}
