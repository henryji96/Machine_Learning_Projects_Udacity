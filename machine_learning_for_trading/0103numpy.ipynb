{
 "cells": [
  {
   "cell_type": "markdown",
   "metadata": {},
   "source": [
    "[reference](https://docs.scipy.org/doc/numpy/reference/index.html)"
   ]
  },
  {
   "cell_type": "markdown",
   "metadata": {},
   "source": [
    "### Creating NumPy arrays\n",
    "https://docs.scipy.org/doc/numpy/reference/routines.array-creation.html"
   ]
  },
  {
   "cell_type": "code",
   "execution_count": 2,
   "metadata": {},
   "outputs": [
    {
     "name": "stdout",
     "output_type": "stream",
     "text": [
      "[1 2 3]\n",
      "[[1 2 3]\n",
      " [2 3 4]]\n"
     ]
    }
   ],
   "source": [
    "import numpy as np\n",
    "#list to 1d array\n",
    "print np.array([1,2,3])\n",
    "\n",
    "#list of tuples to 2D array\n",
    "print np.array([(1,2,3),(2,3,4)])"
   ]
  },
  {
   "cell_type": "code",
   "execution_count": 24,
   "metadata": {},
   "outputs": [
    {
     "data": {
      "text/plain": [
       "array([[1, 2, 3],\n",
       "       [4, 5, 6]])"
      ]
     },
     "execution_count": 24,
     "metadata": {},
     "output_type": "execute_result"
    }
   ],
   "source": [
    "lis=[1,2,3,4,5,6]\n",
    "np.array(lis).reshape(2,3)"
   ]
  },
  {
   "cell_type": "markdown",
   "metadata": {},
   "source": [
    "### Arrays with initial values"
   ]
  },
  {
   "cell_type": "code",
   "execution_count": 5,
   "metadata": {},
   "outputs": [
    {
     "name": "stdout",
     "output_type": "stream",
     "text": [
      "[  0.00000000e+000  -1.29074467e-231   1.97626258e-323   0.00000000e+000\n",
      "   0.00000000e+000]\n",
      "[[  0.00000000e+000   0.00000000e+000   6.95016100e-310   1.27319747e-313]\n",
      " [  1.27319747e-313   1.27319747e-313   2.12199579e-314   1.91976497e-313]\n",
      " [  2.22095715e-314   2.75859453e-313   5.45352918e-311   3.60739284e-313]\n",
      " [  0.00000000e+000   0.00000000e+000  -1.29074467e-231   0.00000000e+000]\n",
      " [  8.90030504e-307   5.91523870e-302   6.95016100e-310   1.39067338e-308]]\n",
      "[[ 1.  1.]\n",
      " [ 1.  1.]]\n",
      "[[ 0.  0.  0.]\n",
      " [ 0.  0.  0.]]\n"
     ]
    }
   ],
   "source": [
    "#empty array-random float values\n",
    "print np.empty(5)\n",
    "print np.empty((5,4))\n",
    "#array of 1s\n",
    "print np.ones((2,2))\n",
    "#array of 0s\n",
    "print np.zeros((2,3))\n"
   ]
  },
  {
   "cell_type": "markdown",
   "metadata": {},
   "source": [
    "### Specify the datatype\n",
    "https://docs.scipy.org/doc/numpy/user/basics.types.html"
   ]
  },
  {
   "cell_type": "code",
   "execution_count": 6,
   "metadata": {},
   "outputs": [
    {
     "name": "stdout",
     "output_type": "stream",
     "text": [
      "[[1 1 1]\n",
      " [1 1 1]]\n"
     ]
    }
   ],
   "source": [
    "print np.ones((2,3),dtype=np.int_)"
   ]
  },
  {
   "cell_type": "markdown",
   "metadata": {},
   "source": [
    "### Generating random numbers\n",
    "[random sampling](https://docs.scipy.org/doc/numpy/reference/routines.random.html)"
   ]
  },
  {
   "cell_type": "code",
   "execution_count": 12,
   "metadata": {},
   "outputs": [
    {
     "name": "stdout",
     "output_type": "stream",
     "text": [
      "[[ 0.23480979  0.87781729]]\n",
      "[[ 0.78817145  0.61242519]]\n",
      "[[ 38.54577997  35.13992966  69.08513085]]\n"
     ]
    }
   ],
   "source": [
    "#generate an array full of random numbers,uniformly samled from [0,1]\n",
    "print np.random.random((1,2))\n",
    "#Like random, but slightly different syntax\n",
    "print np.random.rand(1,2)\n",
    "#sample numbers from a Gaussian distribution\n",
    "print np.random.normal(50,10,size=(1,3)) #mean=50 std=10"
   ]
  },
  {
   "cell_type": "code",
   "execution_count": 3,
   "metadata": {},
   "outputs": [
    {
     "name": "stdout",
     "output_type": "stream",
     "text": [
      "6\n",
      "2\n",
      "[7 0 0 3 0]\n",
      "[[1 7 4]\n",
      " [9 9 9]]\n"
     ]
    }
   ],
   "source": [
    "#random integers\n",
    "print np.random.randint(10)# a single integer in [0,10)\n",
    "print np.random.randint(0,10)#same as above, specify [low,high) explicit\n",
    "print np.random.randint(0,10,size=5)#5 random integers as an 1D array\n",
    "print np.random.randint(0,10,size=(2,3))#2*3 array of random int"
   ]
  },
  {
   "cell_type": "markdown",
   "metadata": {},
   "source": [
    "### Array attributes"
   ]
  },
  {
   "cell_type": "code",
   "execution_count": 3,
   "metadata": {},
   "outputs": [
    {
     "name": "stdout",
     "output_type": "stream",
     "text": [
      "[[ 0.93061501  0.47697677]\n",
      " [ 0.9459022   0.39276045]\n",
      " [ 0.97643153  0.32764182]]\n",
      "(3, 2)\n",
      "3\n",
      "2\n"
     ]
    }
   ],
   "source": [
    "a=np.random.random((3,2))\n",
    "print a\n",
    "print a.shape   #shape of array\n",
    "print a.shape[0]#num of rows\n",
    "print a.shape[1]#num of cols"
   ]
  },
  {
   "cell_type": "code",
   "execution_count": 26,
   "metadata": {},
   "outputs": [
    {
     "name": "stdout",
     "output_type": "stream",
     "text": [
      "2\n",
      "2\n"
     ]
    }
   ],
   "source": [
    "print len(a.shape)#num of dimension\n",
    "print a.ndim      #num of dimension"
   ]
  },
  {
   "cell_type": "code",
   "execution_count": 17,
   "metadata": {},
   "outputs": [
    {
     "name": "stdout",
     "output_type": "stream",
     "text": [
      "6\n",
      "float64\n"
     ]
    }
   ],
   "source": [
    "print a.size #num of elements 3*2\n",
    "print a.dtype #data type of elements"
   ]
  },
  {
   "cell_type": "markdown",
   "metadata": {},
   "source": [
    "### Operations on ndarrays\n",
    "+ [mathematical function](https://docs.scipy.org/doc/numpy/reference/routines.math.html)  \n",
    "+ [statistics](https://docs.scipy.org/doc/numpy/reference/routines.statistics.html)"
   ]
  },
  {
   "cell_type": "code",
   "execution_count": 6,
   "metadata": {},
   "outputs": [
    {
     "name": "stdout",
     "output_type": "stream",
     "text": [
      "[[2 0]\n",
      " [5 1]\n",
      " [1 3]\n",
      " [4 4]\n",
      " [9 2]]\n"
     ]
    }
   ],
   "source": [
    "np.random.seed(693)\n",
    "a=np.random.randint(0,10,size=(5,2))\n",
    "print a"
   ]
  },
  {
   "cell_type": "code",
   "execution_count": 5,
   "metadata": {},
   "outputs": [
    {
     "name": "stdout",
     "output_type": "stream",
     "text": [
      "31\n",
      "[21 10]\n",
      "[ 2  6  4  8 11]\n"
     ]
    }
   ],
   "source": [
    "print a.sum()\n",
    "print a.sum(axis=0) #sum along rows\n",
    "print a.sum(axis=1) #sum along columns"
   ]
  },
  {
   "cell_type": "code",
   "execution_count": 33,
   "metadata": {},
   "outputs": [
    {
     "name": "stdout",
     "output_type": "stream",
     "text": [
      "9\n",
      "[ 5.   3.   5.   2.8]\n"
     ]
    }
   ],
   "source": [
    "print a.max()\n",
    "print a.mean(axis=0)"
   ]
  },
  {
   "cell_type": "markdown",
   "metadata": {},
   "source": [
    "### Locate maximum value\n",
    "[Sorting, searching, and counting](https://docs.scipy.org/doc/numpy/reference/routines.sort.html)"
   ]
  },
  {
   "cell_type": "code",
   "execution_count": 38,
   "metadata": {},
   "outputs": [
    {
     "name": "stdout",
     "output_type": "stream",
     "text": [
      "[[ 9  6  2  3]\n",
      " [12 14  7 10]]\n",
      "Maximum value: 14\n",
      "Index of max.: [0 1]\n"
     ]
    }
   ],
   "source": [
    "a = np.array([9, 6, 2, 3, 12, 14, 7, 10], dtype=np.int32).reshape(2,-1)  # 32-bit integer array\n",
    "print a\n",
    "print \"Maximum value:\", a.max()\n",
    "print \"Index of max.:\", a.argmax(axis=1)"
   ]
  },
  {
   "cell_type": "markdown",
   "metadata": {},
   "source": [
    "### Timing python operations"
   ]
  },
  {
   "cell_type": "code",
   "execution_count": 42,
   "metadata": {},
   "outputs": [
    {
     "name": "stdout",
     "output_type": "stream",
     "text": [
      "test\n",
      "The time taken by print statement is 0.00073 s\n"
     ]
    }
   ],
   "source": [
    "import time\n",
    "t1=time.time()\n",
    "print 'test'\n",
    "t2=time.time()\n",
    "print 'The time taken by print statement is',round(t2-t1,5),'s'"
   ]
  },
  {
   "cell_type": "markdown",
   "metadata": {},
   "source": [
    "### Accessing array elements"
   ]
  },
  {
   "cell_type": "markdown",
   "metadata": {
    "collapsed": true
   },
   "source": [
    "[index](https://docs.scipy.org/doc/numpy/reference/arrays.indexing.html)  \n",
    "**Note: Indexing starts at 0 (zero).**\n",
    "\n",
    "-0123  \n",
    "0  \n",
    "1  \n",
    "2  \n",
    "3  \n",
    "\n",
    "+ nd1[row,col]\n",
    "+ nd1[0:3,1:3] the last value 3 is not included\n",
    "+ nd1[:,3] all rows, column 3. \n",
    "+ nd1[-2,1:3] .  the last 1&2 row, 1&2 column"
   ]
  },
  {
   "cell_type": "code",
   "execution_count": 45,
   "metadata": {},
   "outputs": [
    {
     "name": "stdout",
     "output_type": "stream",
     "text": [
      "[[ 0.56136226  0.80309824  0.02816901  0.34656847]\n",
      " [ 0.52476857  0.7780763   0.2852825   0.09296586]\n",
      " [ 0.18428266  0.27587949  0.01893441  0.96264274]\n",
      " [ 0.44672924  0.05898629  0.11829386  0.45481583]\n",
      " [ 0.41412521  0.214972    0.72249968  0.61072672]]\n",
      "0.118293862338\n",
      "[ 0.80309824  0.02816901]\n"
     ]
    }
   ],
   "source": [
    "a=np.random.rand(5,4)\n",
    "print a\n",
    "#access element at position (3,2)\n",
    "print a[3,2]\n",
    "#access elements in defined range\n",
    "print a[0,1:3]"
   ]
  },
  {
   "cell_type": "code",
   "execution_count": 46,
   "metadata": {},
   "outputs": [
    {
     "name": "stdout",
     "output_type": "stream",
     "text": [
      "[[ 0.56136226  0.02816901]\n",
      " [ 0.52476857  0.2852825 ]\n",
      " [ 0.18428266  0.01893441]\n",
      " [ 0.44672924  0.11829386]\n",
      " [ 0.41412521  0.72249968]]\n"
     ]
    }
   ],
   "source": [
    "#Slice \n",
    "#n:m:t specifies a range that starts at n, and stops before m,in steps of size t\n",
    "print a[:,0:3:2] #col 0,2;skip col 1"
   ]
  },
  {
   "cell_type": "markdown",
   "metadata": {},
   "source": [
    "### Modifying array elements"
   ]
  },
  {
   "cell_type": "code",
   "execution_count": 49,
   "metadata": {},
   "outputs": [
    {
     "name": "stdout",
     "output_type": "stream",
     "text": [
      "Modified a(replace the first value):\n",
      "[[ 1.          0.80309824  0.02816901  0.34656847]\n",
      " [ 0.52476857  0.7780763   0.2852825   0.09296586]\n",
      " [ 0.18428266  0.27587949  0.01893441  0.96264274]\n",
      " [ 0.44672924  0.05898629  0.11829386  0.45481583]\n",
      " [ 0.41412521  0.214972    0.72249968  0.61072672]]\n"
     ]
    }
   ],
   "source": [
    "#assign a value to a particular location\n",
    "a[0,0]=1\n",
    "print 'Modified a (replace the first value):\\n',a"
   ]
  },
  {
   "cell_type": "code",
   "execution_count": 50,
   "metadata": {},
   "outputs": [
    {
     "name": "stdout",
     "output_type": "stream",
     "text": [
      "Modified a (replace a row witha single value):\n",
      "[[ 2.          2.          2.          2.        ]\n",
      " [ 0.52476857  0.7780763   0.2852825   0.09296586]\n",
      " [ 0.18428266  0.27587949  0.01893441  0.96264274]\n",
      " [ 0.44672924  0.05898629  0.11829386  0.45481583]\n",
      " [ 0.41412521  0.214972    0.72249968  0.61072672]]\n"
     ]
    }
   ],
   "source": [
    "#assign a value to the entire row\n",
    "a[0,:]=2\n",
    "print 'Modified a (replace a row witha single value):\\n',a"
   ]
  },
  {
   "cell_type": "code",
   "execution_count": 51,
   "metadata": {},
   "outputs": [
    {
     "name": "stdout",
     "output_type": "stream",
     "text": [
      "Modified a (replace a row witha single value):\n",
      "[[ 2.          2.          2.          1.        ]\n",
      " [ 0.52476857  0.7780763   0.2852825   2.        ]\n",
      " [ 0.18428266  0.27587949  0.01893441  3.        ]\n",
      " [ 0.44672924  0.05898629  0.11829386  4.        ]\n",
      " [ 0.41412521  0.214972    0.72249968  5.        ]]\n"
     ]
    }
   ],
   "source": [
    "#assign a list to a column in an array\n",
    "a[:,3]=[1,2,3,4,5]\n",
    "print 'Modified a (replace a row witha single value):\\n',a"
   ]
  },
  {
   "cell_type": "markdown",
   "metadata": {},
   "source": [
    "### Indexing An Array With Another Array\n",
    "[integer array index](https://docs.scipy.org/doc/numpy/reference/arrays.indexing.html#integer-array-indexing)"
   ]
  },
  {
   "cell_type": "code",
   "execution_count": 8,
   "metadata": {},
   "outputs": [
    {
     "name": "stdout",
     "output_type": "stream",
     "text": [
      "[ 0.54253067  0.00875843  0.36469785  0.45897155  0.88777042] \n",
      "[ 0.00875843  0.00875843  0.36469785  0.45897155]\n"
     ]
    }
   ],
   "source": [
    "#access using ist of indices\n",
    "a=np.random.rand(5)\n",
    "indices=[1,1,2,3]\n",
    "print a,'\\n',a[indices]"
   ]
  },
  {
   "cell_type": "markdown",
   "metadata": {},
   "source": [
    "### Boolean or \"mask\" index arrays\n",
    "[Boolean array indexing](https://docs.scipy.org/doc/numpy/reference/arrays.indexing.html#boolean-array-indexing)  \n",
    "Now, when this is used to index the array a,   \n",
    "only those positions are selected where there is a True,   \n",
    "and the values are collected into a list."
   ]
  },
  {
   "cell_type": "code",
   "execution_count": 63,
   "metadata": {},
   "outputs": [
    {
     "name": "stdout",
     "output_type": "stream",
     "text": [
      "[[ True  True False False False]\n",
      " [ True  True False False False]]\n",
      "[1 2 1 2]\n",
      "[[3 3 3 4 5]\n",
      " [3 3 3 4 5]]\n"
     ]
    }
   ],
   "source": [
    "a=np.array([[1,2,3,4,5],[1,2,3,4,5]])\n",
    "mean=a.mean()\n",
    "#masking\n",
    "print a<mean\n",
    "print a[a<mean]\n",
    "\n",
    "a[a<mean]= mean #replace the less than mean elements with mean\n",
    "print a"
   ]
  },
  {
   "cell_type": "code",
   "execution_count": 64,
   "metadata": {},
   "outputs": [
    {
     "name": "stdout",
     "output_type": "stream",
     "text": [
      "[[  1.   2.]\n",
      " [ nan   3.]\n",
      " [ nan  nan]]\n",
      "[ 1.  2.  3.]\n"
     ]
    }
   ],
   "source": [
    "x = np.array([[1., 2.], [np.nan, 3.], [np.nan, np.nan]])\n",
    "print x\n",
    "print x[~np.isnan(x)]\n"
   ]
  },
  {
   "cell_type": "markdown",
   "metadata": {},
   "source": [
    "### [Arithmetic operations](https://docs.scipy.org/doc/numpy/reference/routines.math.html#arithmetic-operations)\n",
    "[matrix](https://docs.scipy.org/doc/numpy/reference/generated/numpy.matrix.html) class and the\n",
    "[linear algebra](https://docs.scipy.org/doc/numpy/reference/routines.linalg.html)\n",
    "\n",
    "+ numpy.add: Element-wise addition, same as + operator\n",
    "+ numpy.subtract: Element-wise subtraction, same as -\n",
    "+ numpy.multiply: Element-wise multiplication, same as *\n",
    "+ numpy.divide: Element-wise division, same as /\n",
    "+ numpy.dot: Dot product (1D arrays), matrix multiplication (2D)\n"
   ]
  },
  {
   "cell_type": "code",
   "execution_count": 75,
   "metadata": {},
   "outputs": [
    {
     "name": "stdout",
     "output_type": "stream",
     "text": [
      "[[101 102 103 104 105]\n",
      " [ 11  21  31  41  51]] \n",
      "\n",
      "[[ 609  312]\n",
      " [6090 3120]] \n",
      "\n",
      "[[101 102 103 104 105]\n",
      " [ 11  21  31  41  51]]\n"
     ]
    }
   ],
   "source": [
    "a=np.array([[1,2,3,4,5],[10,20,30,40,50]]) #2*5\n",
    "b=np.array([[100,100,100,100,100],[1,1,1,1,1]])\n",
    "print np.add(a,b),'\\n'\n",
    "\n",
    "print np.dot(a,b.reshape(5,2)),'\\n'\n",
    "\n",
    "print a+b"
   ]
  },
  {
   "cell_type": "code",
   "execution_count": null,
   "metadata": {
    "collapsed": true
   },
   "outputs": [],
   "source": []
  }
 ],
 "metadata": {
  "kernelspec": {
   "display_name": "Python 2",
   "language": "python",
   "name": "python2"
  },
  "language_info": {
   "codemirror_mode": {
    "name": "ipython",
    "version": 2
   },
   "file_extension": ".py",
   "mimetype": "text/x-python",
   "name": "python",
   "nbconvert_exporter": "python",
   "pygments_lexer": "ipython2",
   "version": "2.7.13"
  }
 },
 "nbformat": 4,
 "nbformat_minor": 2
}
